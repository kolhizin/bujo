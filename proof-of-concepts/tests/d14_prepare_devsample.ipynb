{
 "cells": [
  {
   "cell_type": "code",
   "execution_count": 1,
   "metadata": {},
   "outputs": [],
   "source": [
    "import test_config as cfg\n",
    "import numpy as np\n",
    "import itertools, functools\n",
    "\n",
    "%matplotlib inline\n",
    "import matplotlib.pyplot as plt\n",
    "import os, os.path\n",
    "import pickle\n",
    "import io\n",
    "\n",
    "import json\n",
    "\n",
    "import skimage, skimage.io, skimage.transform, skimage.filters\n",
    "import sklearn, sklearn.metrics\n",
    "\n",
    "import importlib\n",
    "import time\n",
    "import sys\n",
    "sys.path.append('../src/')\n",
    "import modutils\n",
    "import word_processing as wp\n",
    "import tqdm"
   ]
  },
  {
   "cell_type": "code",
   "execution_count": 17,
   "metadata": {},
   "outputs": [
    {
     "data": {
      "text/plain": [
       "<module 'word_processing' from '../src\\\\word_processing.py'>"
      ]
     },
     "execution_count": 17,
     "metadata": {},
     "output_type": "execute_result"
    }
   ],
   "source": [
    "importlib.reload(wp)"
   ]
  },
  {
   "cell_type": "code",
   "execution_count": 2,
   "metadata": {},
   "outputs": [
    {
     "name": "stdout",
     "output_type": "stream",
     "text": [
      "Wall time: 132 ms\n"
     ]
    }
   ],
   "source": [
    "%%time\n",
    "fname = 'D:/Data/bujo_sample_v2/dataset.json'\n",
    "extraction_path = os.path.join(os.path.dirname(fname),\n",
    "                               os.path.basename(fname).split('.')[0])\n",
    "with open(fname, 'r', encoding='utf-8') as f:\n",
    "    src = json.load(f)\n",
    "    \n",
    "words = wp.extract_words_from_dataset(src, (1,))"
   ]
  },
  {
   "cell_type": "code",
   "execution_count": 3,
   "metadata": {},
   "outputs": [
    {
     "data": {
      "text/plain": [
       "3630"
      ]
     },
     "execution_count": 3,
     "metadata": {},
     "output_type": "execute_result"
    }
   ],
   "source": [
    "len(words)"
   ]
  },
  {
   "cell_type": "code",
   "execution_count": 8,
   "metadata": {},
   "outputs": [],
   "source": [
    "fin_words = [(w[0].lower(), w[1]) for w in words]"
   ]
  },
  {
   "cell_type": "code",
   "execution_count": 18,
   "metadata": {},
   "outputs": [],
   "source": [
    "transforms_rotation = wp.generate_rotations(-5, 5, 5)\n",
    "transforms_cutoff = wp.generate_cutoffs(0.6, 0.8, 3)\n",
    "transforms_scales = wp.generate_scales(0.85, 1.15, 3, fill=0.0)\n",
    "combinations_all = wp.generate_combinations(transforms_rotation, transforms_cutoff, transforms_scales)\n",
    "fixed_post = [{'type':'trimx'}, {'type':'trimy'}, {'type':'resize', 'y':32}, {'type':'invert'}]\n",
    "transforms_all = wp.append_transformations(combinations_all, post_transforms=fixed_post)"
   ]
  },
  {
   "cell_type": "code",
   "execution_count": 11,
   "metadata": {},
   "outputs": [],
   "source": [
    "train_ids = np.random.choice(np.arange(len(fin_words)), size=int(len(fin_words)*0.6), replace=False)\n",
    "train_charset = functools.reduce(set.union, [set(fin_words[i][0]) for i in train_ids])\n",
    "valid_ids = [i for i in range(len(fin_words)) if i not in train_ids]\n",
    "train_set = [fin_words[i] for i in train_ids]\n",
    "valid_set = [fin_words[i] for i in valid_ids if set.issubset(set(fin_words[i][0]), train_charset)]"
   ]
  },
  {
   "cell_type": "code",
   "execution_count": 12,
   "metadata": {},
   "outputs": [
    {
     "data": {
      "text/plain": [
       "(2178, 1450)"
      ]
     },
     "execution_count": 12,
     "metadata": {},
     "output_type": "execute_result"
    }
   ],
   "source": [
    "len(train_set), len(valid_set)"
   ]
  },
  {
   "cell_type": "code",
   "execution_count": 13,
   "metadata": {},
   "outputs": [],
   "source": [
    "def save_set(path, words, transforms, dst_fname):\n",
    "    dst_path, dst_name_ext = os.path.split(dst_fname)\n",
    "    if '.' not in dst_name_ext:\n",
    "        raise Exception('Not specified extension of file!')\n",
    "    dst_name = '.'.join(dst_name_ext.split('.')[:-1])\n",
    "    os.makedirs(os.path.join(dst_path, dst_name), exist_ok=True)\n",
    "    with open(dst_fname, 'w') as f:\n",
    "        for (i, (word, fname)) in enumerate(tqdm.tqdm(words)):\n",
    "            src_image = skimage.io.imread(os.path.join(path, fname), as_grey=True)\n",
    "            for (j, transform) in enumerate(transforms):\n",
    "                res_image = wp.perform_transform(src_image, transform)\n",
    "                loc_fname = 'w{:06d}t{:03d}'.format(i, j)\n",
    "                res_fname = '{}/{}.png'.format(dst_name, loc_fname)\n",
    "                f.write('{} {}\\n'.format(loc_fname, word))\n",
    "                skimage.io.imsave(os.path.join(dst_path, res_fname), res_image)"
   ]
  },
  {
   "cell_type": "code",
   "execution_count": null,
   "metadata": {},
   "outputs": [
    {
     "name": "stderr",
     "output_type": "stream",
     "text": [
      "\n",
      "\n",
      "  0%|                                                                                         | 0/2178 [00:00<?, ?it/s]\n",
      "\n",
      "  0%|                                                                                 | 1/2178 [00:01<46:54,  1.29s/it]\n",
      "\n",
      "  0%|                                                                                 | 2/2178 [00:02<41:08,  1.13s/it]\n",
      "\n",
      "  0%|                                                                                 | 3/2178 [00:03<42:57,  1.19s/it]\n",
      "\n",
      "  0%|▏                                                                                | 4/2178 [00:05<54:23,  1.50s/it]\n",
      "\n",
      "  0%|▏                                                                                | 5/2178 [00:07<56:57,  1.57s/it]\n",
      "\n",
      "  0%|▏                                                                                | 6/2178 [00:08<57:11,  1.58s/it]\n",
      "\n",
      "  0%|▎                                                                                | 7/2178 [00:09<51:25,  1.42s/it]\n",
      "\n",
      "  0%|▎                                                                                | 8/2178 [00:11<47:29,  1.31s/it]\n",
      "\n",
      "  0%|▎                                                                                | 9/2178 [00:12<53:21,  1.48s/it]\n",
      "\n",
      "  0%|▎                                                                             | 10/2178 [00:15<1:03:54,  1.77s/it]\n",
      "\n",
      "  1%|▍                                                                               | 11/2178 [00:16<57:37,  1.60s/it]\n",
      "\n",
      "  1%|▍                                                                               | 12/2178 [00:17<55:05,  1.53s/it]\n",
      "\n",
      "  1%|▍                                                                               | 13/2178 [00:18<47:48,  1.33s/it]\n",
      "\n",
      "  1%|▌                                                                               | 14/2178 [00:19<46:34,  1.29s/it]\n",
      "\n",
      "  1%|▌                                                                               | 15/2178 [00:21<44:46,  1.24s/it]\n",
      "\n",
      "  1%|▌                                                                               | 16/2178 [00:22<50:37,  1.40s/it]\n",
      "\n",
      "  1%|▌                                                                               | 17/2178 [00:25<59:06,  1.64s/it]\n",
      "\n",
      "  1%|▋                                                                               | 18/2178 [00:26<52:10,  1.45s/it]\n",
      "\n",
      "  1%|▋                                                                               | 19/2178 [00:27<47:17,  1.31s/it]\n",
      "\n",
      "  1%|▋                                                                               | 20/2178 [00:28<49:16,  1.37s/it]\n",
      "\n",
      "  1%|▊                                                                               | 21/2178 [00:29<46:53,  1.30s/it]\n",
      "\n",
      "  1%|▊                                                                               | 22/2178 [00:31<47:37,  1.33s/it]\n",
      "\n",
      "  1%|▊                                                                               | 23/2178 [00:32<47:33,  1.32s/it]\n",
      "\n",
      "  1%|▉                                                                               | 24/2178 [00:33<47:57,  1.34s/it]\n",
      "\n",
      "  1%|▉                                                                               | 25/2178 [00:34<45:39,  1.27s/it]\n",
      "\n",
      "  1%|▉                                                                               | 26/2178 [00:35<41:04,  1.15s/it]\n",
      "\n",
      "  1%|▉                                                                               | 27/2178 [00:36<35:19,  1.02it/s]\n",
      "\n",
      "  1%|█                                                                               | 28/2178 [00:37<38:20,  1.07s/it]\n",
      "\n",
      "  1%|█                                                                               | 29/2178 [00:39<46:28,  1.30s/it]\n",
      "\n",
      "  1%|█                                                                               | 30/2178 [00:40<44:41,  1.25s/it]\n",
      "\n",
      "  1%|█▏                                                                              | 31/2178 [00:41<40:32,  1.13s/it]\n",
      "\n",
      "  1%|█▏                                                                              | 32/2178 [00:42<42:24,  1.19s/it]\n",
      "\n",
      "  2%|█▏                                                                              | 33/2178 [00:43<37:20,  1.04s/it]\n",
      "\n",
      "  2%|█▏                                                                              | 34/2178 [00:44<39:52,  1.12s/it]\n",
      "\n",
      "  2%|█▎                                                                              | 35/2178 [00:46<44:04,  1.23s/it]\n",
      "\n",
      "  2%|█▎                                                                              | 36/2178 [00:48<49:10,  1.38s/it]\n",
      "\n",
      "  2%|█▎                                                                              | 37/2178 [00:49<46:19,  1.30s/it]C:\\Anaconda3\\lib\\site-packages\\skimage\\io\\_io.py:140: UserWarning: D:/Data/HTR-attrs\\train/w000037t000.png is a low contrast image\n",
      "  warn('%s is a low contrast image' % fname)\n",
      "C:\\Anaconda3\\lib\\site-packages\\skimage\\io\\_io.py:140: UserWarning: D:/Data/HTR-attrs\\train/w000037t003.png is a low contrast image\n",
      "  warn('%s is a low contrast image' % fname)\n",
      "C:\\Anaconda3\\lib\\site-packages\\skimage\\io\\_io.py:140: UserWarning: D:/Data/HTR-attrs\\train/w000037t006.png is a low contrast image\n",
      "  warn('%s is a low contrast image' % fname)\n",
      "C:\\Anaconda3\\lib\\site-packages\\skimage\\io\\_io.py:140: UserWarning: D:/Data/HTR-attrs\\train/w000037t027.png is a low contrast image\n",
      "  warn('%s is a low contrast image' % fname)\n",
      "C:\\Anaconda3\\lib\\site-packages\\skimage\\io\\_io.py:140: UserWarning: D:/Data/HTR-attrs\\train/w000037t030.png is a low contrast image\n",
      "  warn('%s is a low contrast image' % fname)\n",
      "C:\\Anaconda3\\lib\\site-packages\\skimage\\io\\_io.py:140: UserWarning: D:/Data/HTR-attrs\\train/w000037t033.png is a low contrast image\n",
      "  warn('%s is a low contrast image' % fname)\n",
      "C:\\Anaconda3\\lib\\site-packages\\skimage\\io\\_io.py:140: UserWarning: D:/Data/HTR-attrs\\train/w000037t054.png is a low contrast image\n",
      "  warn('%s is a low contrast image' % fname)\n",
      "C:\\Anaconda3\\lib\\site-packages\\skimage\\io\\_io.py:140: UserWarning: D:/Data/HTR-attrs\\train/w000037t057.png is a low contrast image\n",
      "  warn('%s is a low contrast image' % fname)\n",
      "C:\\Anaconda3\\lib\\site-packages\\skimage\\io\\_io.py:140: UserWarning: D:/Data/HTR-attrs\\train/w000037t060.png is a low contrast image\n",
      "  warn('%s is a low contrast image' % fname)\n",
      "C:\\Anaconda3\\lib\\site-packages\\skimage\\io\\_io.py:140: UserWarning: D:/Data/HTR-attrs\\train/w000037t081.png is a low contrast image\n",
      "  warn('%s is a low contrast image' % fname)\n",
      "C:\\Anaconda3\\lib\\site-packages\\skimage\\io\\_io.py:140: UserWarning: D:/Data/HTR-attrs\\train/w000037t084.png is a low contrast image\n",
      "  warn('%s is a low contrast image' % fname)\n",
      "C:\\Anaconda3\\lib\\site-packages\\skimage\\io\\_io.py:140: UserWarning: D:/Data/HTR-attrs\\train/w000037t087.png is a low contrast image\n",
      "  warn('%s is a low contrast image' % fname)\n",
      "C:\\Anaconda3\\lib\\site-packages\\skimage\\io\\_io.py:140: UserWarning: D:/Data/HTR-attrs\\train/w000037t108.png is a low contrast image\n",
      "  warn('%s is a low contrast image' % fname)\n",
      "C:\\Anaconda3\\lib\\site-packages\\skimage\\io\\_io.py:140: UserWarning: D:/Data/HTR-attrs\\train/w000037t111.png is a low contrast image\n",
      "  warn('%s is a low contrast image' % fname)\n",
      "C:\\Anaconda3\\lib\\site-packages\\skimage\\io\\_io.py:140: UserWarning: D:/Data/HTR-attrs\\train/w000037t114.png is a low contrast image\n",
      "  warn('%s is a low contrast image' % fname)\n",
      "\n",
      "\n",
      "  2%|█▍                                                                              | 38/2178 [00:49<38:35,  1.08s/it]\n",
      "\n",
      "  2%|█▍                                                                              | 39/2178 [00:50<37:05,  1.04s/it]\n",
      "\n",
      "  2%|█▍                                                                              | 40/2178 [00:51<39:02,  1.10s/it]\n",
      "\n",
      "  2%|█▌                                                                              | 41/2178 [00:52<37:26,  1.05s/it]\n",
      "\n",
      "  2%|█▌                                                                              | 42/2178 [00:53<34:46,  1.02it/s]\n",
      "\n",
      "  2%|█▌                                                                              | 43/2178 [00:54<31:35,  1.13it/s]"
     ]
    }
   ],
   "source": [
    "%%time\n",
    "save_set(extraction_path, train_set, transforms_all, 'D:/Data/HTR-attrs/train.txt')"
   ]
  },
  {
   "cell_type": "code",
   "execution_count": null,
   "metadata": {},
   "outputs": [],
   "source": []
  }
 ],
 "metadata": {
  "kernelspec": {
   "display_name": "Python 3",
   "language": "python",
   "name": "python3"
  },
  "language_info": {
   "codemirror_mode": {
    "name": "ipython",
    "version": 3
   },
   "file_extension": ".py",
   "mimetype": "text/x-python",
   "name": "python",
   "nbconvert_exporter": "python",
   "pygments_lexer": "ipython3",
   "version": "3.7.3"
  }
 },
 "nbformat": 4,
 "nbformat_minor": 2
}
