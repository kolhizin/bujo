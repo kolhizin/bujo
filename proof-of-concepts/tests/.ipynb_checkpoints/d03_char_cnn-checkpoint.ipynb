{
 "cells": [
  {
   "cell_type": "code",
   "execution_count": 78,
   "metadata": {},
   "outputs": [],
   "source": [
    "import test_config as cfg\n",
    "import numpy as np\n",
    "\n",
    "%matplotlib inline\n",
    "import matplotlib.pyplot as plt\n",
    "import os, os.path\n",
    "import pickle\n",
    "import io\n",
    "\n",
    "import json\n",
    "\n",
    "import skimage\n",
    "import skimage.io, skimage.transform, skimage.filters\n",
    "\n",
    "import importlib\n",
    "\n",
    "import sys\n",
    "sys.path.append('../src/')\n",
    "import modutils"
   ]
  },
  {
   "cell_type": "code",
   "execution_count": 2,
   "metadata": {},
   "outputs": [],
   "source": [
    "def extract_words_from_dataset(jdata, acceptable_statuses):\n",
    "    def process_words(words):\n",
    "        return [(w['text'], w['filename']) for w in words if 'status' in w and w['status'] in acceptable_statuses]\n",
    "    def process_lines(lines):\n",
    "        res = [process_words(x['words']) for x in lines]\n",
    "        return [x for y in res for x in y]\n",
    "    res = [(process_lines(v['lines']), v['name']) for (k, v) in jdata.items()]\n",
    "    return [(x[0], name+'/'+x[1]) for (y, name) in res for x in y]\n",
    "\n",
    "def downscale_x(img, scale):\n",
    "    if scale > 1.0:\n",
    "        raise Exception(\"downscale: scale must be <= 1.0\")\n",
    "    if scale == 1.0:\n",
    "        return img\n",
    "    tmp = skimage.transform.rescale(img, (1.0, scale), mode='constant', cval=1.0)\n",
    "    diff = img.shape[1] - tmp.shape[1]\n",
    "    d1 = diff // 2\n",
    "    d2 = diff - d1\n",
    "    return np.hstack([np.ones((tmp.shape[0], d1)), tmp,np.ones((tmp.shape[0], d2))])\n",
    "\n",
    "def downscale_y(img, scale):\n",
    "    if scale > 1.0:\n",
    "        raise Exception(\"downscale: scale must be <= 1.0\")\n",
    "    if scale == 1.0:\n",
    "        return img\n",
    "    tmp = skimage.transform.rescale(img, (scale, 1.0), mode='constant', cval=1.0)\n",
    "    diff = img.shape[0] - tmp.shape[0]\n",
    "    d1 = diff // 2\n",
    "    d2 = diff - d1\n",
    "    return np.vstack([np.ones((d1, tmp.shape[1])), tmp,np.ones((d2, tmp.shape[1]))])\n",
    "\n",
    "def upscale_x(img, scale):\n",
    "    if scale < 1.0:\n",
    "        raise Exception(\"uscale: scale must be >= 1.0\")\n",
    "    if scale == 1.0:\n",
    "        return img\n",
    "    tmp = skimage.transform.rescale(img, (1.0, scale), mode='constant', cval=1.0)\n",
    "    diff = tmp.shape[1]-img.shape[1]\n",
    "    d0 = diff // 2\n",
    "    return tmp[:, d0:(img.shape[1]+d0)]\n",
    "\n",
    "\n",
    "def upscale_y(img, scale):\n",
    "    if scale < 1.0:\n",
    "        raise Exception(\"uscale: scale must be >= 1.0\")\n",
    "    if scale == 1.0:\n",
    "        return img\n",
    "    tmp = skimage.transform.rescale(img, (scale, 1.0), mode='constant', cval=1.0)\n",
    "    diff = tmp.shape[0]-img.shape[0]\n",
    "    d0 = diff // 2\n",
    "    return tmp[d0:(img.shape[0]+d0), :]\n",
    "\n",
    "def rescale(img, scale):\n",
    "    xs = scale\n",
    "    ys = scale\n",
    "    if type(scale) in (list, tuple):\n",
    "        xs = scale[0]\n",
    "        ys = scale[1]\n",
    "    xfn = downscale_x if xs < 1.0 else upscale_x\n",
    "    yfn = downscale_y if ys < 1.0 else upscale_y\n",
    "    return yfn(xfn(img, xs), ys)\n",
    "\n",
    "def trim_image_width(img):\n",
    "    tmp = np.max(img, axis=0)>0\n",
    "    id1 = np.argmax(tmp)\n",
    "    id2 = len(tmp) - np.argmax(tmp[::-1])\n",
    "    return img[:, id1:id2]\n",
    "\n",
    "def trim_image_height(img):\n",
    "    tmp = np.max(img, axis=1)>0\n",
    "    id1 = np.argmax(tmp)\n",
    "    id2 = len(tmp) - np.argmax(tmp[::-1])\n",
    "    return img[id1:id2, :]\n",
    "\n",
    "def perform_transform(img, transform):\n",
    "    if type(transform) == list:\n",
    "        res = img\n",
    "        for t in transform:\n",
    "            res = perform_transform(res, t)\n",
    "        return res\n",
    "    if type(transform) != dict:\n",
    "        raise Exception(\"perform_transform() expected parameter 'transform' to be dict!\")\n",
    "    if 'type' not in transform:\n",
    "        raise Exception(\"perform_transform() parameter 'transform' should have valid 'type' value!\")\n",
    "    if transform['type'] == 'rotate':\n",
    "        return skimage.transform.rotate(img, transform.get('angle', 0), mode='constant', cval=1.0)\n",
    "    if transform['type'] == 'shift':\n",
    "        inv_map = np.array([[1,0,-transform.get('x', 0)*img.shape[0]],\n",
    "                              [0,1,-transform.get('y', 0)*img.shape[0]],\n",
    "                              [0,0,1]])\n",
    "        return skimage.transform.warp(img, inv_map, mode='constant', cval=1.0)\n",
    "    if transform['type'] == 'cutoff':\n",
    "        return 1.0*(img < transform.get('cutoff', 0.5))\n",
    "    if transform['type'] == 'scale':\n",
    "        return rescale(img, (transform.get('x', 1.0), transform.get('y', 1.0)))\n",
    "    if transform['type'] == 'resize':\n",
    "        xs = transform.get('x', None)\n",
    "        ys = transform.get('y', None)\n",
    "        if xs is None and ys is None:\n",
    "            raise Exception(\"perform_transform() parameter 'transform' should have at least one x or y for resize!\")\n",
    "        if xs is None:\n",
    "            xs = int(ys / img.shape[0] * img.shape[1])\n",
    "        if ys is None:\n",
    "            ys = int(xs / img.shape[1] * img.shape[0])\n",
    "        return skimage.transform.resize(img, (ys, xs), mode='constant', cval=1.0)\n",
    "    if transform['type'] == 'trimx':\n",
    "        return trim_image_width(img)\n",
    "    if transform['type'] == 'trimy':\n",
    "        return trim_image_height(img)\n",
    "    \n",
    "def generate_rotations(min_angle, max_angle, num):\n",
    "    return [{'type':'rotate', 'angle':x} for x in np.linspace(min_angle, max_angle, num)]\n",
    "\n",
    "def generate_scales(min_scale, max_scale, num):\n",
    "    return [{'type':'scale', 'x':x, 'y':y}\n",
    "        for x in np.linspace(min_scale, max_scale, num)\n",
    "        for y in np.linspace(min_scale, max_scale, num)]\n",
    "\n",
    "def generate_shifts(min_shift, max_shift, num):\n",
    "    return [{'type':'shift', 'x':x, 'y':y}\n",
    "        for x in np.linspace(min_shift, max_shift, num)\n",
    "        for y in np.linspace(min_shift, max_shift, num)]\n",
    "\n",
    "def generate_cutoffs(min_cutoff, max_cutoff, num):\n",
    "    return [{'type':'cutoff', 'cutoff':x} for x in np.linspace(min_cutoff, max_cutoff, num)]\n",
    "\n",
    "\n",
    "def generate_combinations2(transform_set1, transform_set2):\n",
    "    return [(x if type(x) == list else [x]) + (y if type(y) == list else [y])\n",
    "        for x in transform_set1 for y in transform_set2]\n",
    "\n",
    "def generate_combinations(*sets):\n",
    "    if len(sets) == 1:\n",
    "        return sets[0]\n",
    "    if len(sets) == 2:\n",
    "        return generate_combinations2(sets[0], sets[1])\n",
    "    args = [generate_combinations2(sets[0], sets[1])] + list(sets[2:])\n",
    "    return generate_combinations(*args)\n",
    "\n",
    "def append_transformations(transform_sets, pre_transforms=[], post_transforms=[]):\n",
    "    return [pre_transforms + (x if type(x) == list else [x]) + post_transforms\n",
    "            for x in transform_sets]"
   ]
  },
  {
   "cell_type": "code",
   "execution_count": 5,
   "metadata": {},
   "outputs": [],
   "source": [
    "fname = '../data/ru_calibration.json'\n",
    "extraction_path = os.path.join(os.path.dirname(fname),\n",
    "                               os.path.basename(fname).split('.')[0])\n",
    "with open(fname, 'r', encoding='utf-8') as f:\n",
    "    src = json.load(f)\n",
    "    \n",
    "words = extract_words_from_dataset(src, (1,))"
   ]
  },
  {
   "cell_type": "code",
   "execution_count": 7,
   "metadata": {},
   "outputs": [],
   "source": [
    "tmp = skimage.io.imread(os.path.join(extraction_path, words[2][1]), as_grey=True)"
   ]
  },
  {
   "cell_type": "code",
   "execution_count": 8,
   "metadata": {},
   "outputs": [
    {
     "data": {
      "text/plain": [
       "<matplotlib.image.AxesImage at 0x1cf3effca90>"
      ]
     },
     "execution_count": 8,
     "metadata": {},
     "output_type": "execute_result"
    },
    {
     "data": {
      "image/png": "[encoded data removed]",
      "text/plain": [
       "<matplotlib.figure.Figure at 0x1cf3ee76048>"
      ]
     },
     "metadata": {},
     "output_type": "display_data"
    }
   ],
   "source": [
    "plt.imshow(tmp)"
   ]
  },
  {
   "cell_type": "code",
   "execution_count": 18,
   "metadata": {},
   "outputs": [],
   "source": [
    "transforms_rotation = generate_rotations(-10, 10, 5)\n",
    "transforms_scale = generate_scales(0.75, 1.25, 5)\n",
    "transforms_shift = generate_shifts(-0.1, 0.1, 5)\n",
    "transforms_cutoff = generate_cutoffs(0.3, 0.5, 5)\n",
    "combinations_all = generate_combinations(transforms_rotation, transforms_shift,\n",
    "                                       transforms_scale, transforms_cutoff)\n",
    "\n",
    "fixed_post = [{'type':'trimx'},{'type':'trimy'}, {'type':'resize', 'y':32}]\n",
    "transforms_all = append_transformations(combinations_all, post_transforms=fixed_post)"
   ]
  },
  {
   "cell_type": "code",
   "execution_count": 25,
   "metadata": {},
   "outputs": [],
   "source": [
    "dev_samples_per_word = 1000\n",
    "test_samples_per_word = 100\n",
    "dev_sample = [np.random.choice(np.arange(len(transforms_all)), size=dev_samples_per_word)\n",
    "              for i in range(len(words))]\n",
    "test_sample = [np.random.choice(np.arange(len(transforms_all)), size=test_samples_per_word)\n",
    "              for i in range(len(words))]"
   ]
  },
  {
   "cell_type": "code",
   "execution_count": 26,
   "metadata": {},
   "outputs": [
    {
     "name": "stdout",
     "output_type": "stream",
     "text": [
      "Wall time: 223 ms\n"
     ]
    }
   ],
   "source": [
    "%%time\n",
    "src_images = [skimage.io.imread(os.path.join(extraction_path, x[1]), as_grey=True) for x in words]"
   ]
  },
  {
   "cell_type": "code",
   "execution_count": 80,
   "metadata": {},
   "outputs": [],
   "source": [
    "import datetime, time, random\n",
    "import tensorflow as tf"
   ]
  },
  {
   "cell_type": "code",
   "execution_count": 35,
   "metadata": {},
   "outputs": [],
   "source": [
    "def build_cnn_graph(input_shape, cnn_arch, fc_arch, num_classes):\n",
    "    tf.reset_default_graph()\n",
    "\n",
    "    with tf.name_scope('Input'):\n",
    "        tf_in_x = tf.placeholder(tf.float32, shape=(None, input_shape[0], input_shape[1], 1))\n",
    "        tf_in_y = tf.placeholder(tf.int32, shape=(None,))\n",
    "\n",
    "    tf_temp = tf_in_x\n",
    "    for (i, (conv_filters, conv_size, conv_stride, pool_size, pool_stride)) in enumerate(cnn_arch):\n",
    "        with tf.name_scope('Conv-MaxPool-{:02d}'.format(i)):\n",
    "            tf_temp = tf.layers.conv2d(tf_temp, conv_filters, conv_size, conv_stride, activation=tf.nn.relu)\n",
    "            tf_temp = tf.layers.max_pooling2d(tf_temp, pool_size, pool_stride)\n",
    "\n",
    "    with tf.name_scope('FC'):\n",
    "        tf_temp = tf.contrib.layers.flatten(tf_temp)\n",
    "        for sz in fc_arch:\n",
    "            tf_temp = tf.layers.dense(tf_temp, sz, activation=tf.nn.elu)\n",
    "            \n",
    "        tf_final = tf.layers.dense(tf_temp, num_classes)\n",
    "        tf_prob = tf.nn.softmax(tf_final)\n",
    "        tf_predicted = tf.cast(tf.argmax(tf_prob, axis=1), dtype=tf.int32)\n",
    "\n",
    "    with tf.name_scope('LOSS'):\n",
    "        tf_loss = tf.reduce_mean(tf.nn.sparse_softmax_cross_entropy_with_logits(labels=tf_in_y, logits=tf_final))\n",
    "        tf_train = tf.train.AdamOptimizer(1e-3).minimize(tf_loss)\n",
    "        \n",
    "        tf_accuracy, tf_upd_accuracy = tf.metrics.accuracy(labels=tf_in_y, predictions=tf_predicted)\n",
    "        tf_update_metrics = tf.group(tf_upd_accuracy)\n",
    "        \n",
    "        tfsummary_logloss = tf.summary.scalar('Log-Loss', tf_loss)\n",
    "        tfsummary_accuracy = tf.summary.scalar('1-Accuracy', 1-tf_accuracy)\n",
    "        tfsummary = tf.summary.merge([tfsummary_logloss, tfsummary_accuracy])\n",
    "\n",
    "    return {'in':{'data':tf_in_x, 'label':tf_in_y},\n",
    "            'out':{'logit':tf_final, 'prob':tf_prob},\n",
    "            'run':{'loss': tf_loss, 'upd_metrics':tf_update_metrics,'accuracy':tf_accuracy,\n",
    "                   'train': tf_train, 'summary':tfsummary}}"
   ]
  },
  {
   "cell_type": "code",
   "execution_count": 77,
   "metadata": {},
   "outputs": [
    {
     "name": "stdout",
     "output_type": "stream",
     "text": [
      "Graph created\n",
      "Preparation complete\n"
     ]
    }
   ],
   "source": [
    "src_shape = (32, 32)\n",
    "\n",
    "graph_descr = build_cnn_graph(src_shape,\n",
    "                              [(30, 5, 1, 3, 3), (200, 3, 1, 3, 3)],\n",
    "                              [100], len(words))\n",
    "model_name = 'D03_CHAR_CNN'\n",
    "\n",
    "tffw_graph = tf.summary.FileWriter('../tflog/Graph_{}'.format(model_name), tf.get_default_graph())\n",
    "model_ckpt_name = '../tflog/{0}/model'.format(model_name)+'-{:02d}.ckpt'\n",
    "\n",
    "print('Graph created')\n",
    "\n",
    "batch_steps = 1\n",
    "batch_size  = 64\n",
    "calc_batch_size = 1024\n",
    "\n",
    "set2dict = lambda x: {graph_descr['in']['data']: x[0],\n",
    "                           graph_descr['in']['label']: x[1]}\n",
    "\n",
    "print('Preparation complete')"
   ]
  },
  {
   "cell_type": "code",
   "execution_count": 71,
   "metadata": {},
   "outputs": [],
   "source": [
    "def make_batches(sample, batch_size):\n",
    "    raw_sample = [(i,z) for (i, x) in enumerate(sample) for z in x]\n",
    "    random.shuffle(raw_sample)\n",
    "    num_batches = len(raw_sample) // batch_size\n",
    "    return [raw_sample[i*batch_size:(i+1)*batch_size] for i in range(num_batches)]\n",
    "\n",
    "def get_x_value(batch, xshape):\n",
    "    tres = [perform_transform(src_images[x[0]], transforms_all[x[1]]) for x in batch]\n",
    "    res = [x[:, :xshape] if x.shape[1] >= xshape\n",
    "            else np.hstack((x, np.zeros(shape=(x.shape[0], xshape-x.shape[1]))))\n",
    "            for x in tres]\n",
    "    return np.array(res)\n",
    "\n",
    "def get_y_value(batch):\n",
    "    return np.array([x[0] for x in batch])"
   ]
  },
  {
   "cell_type": "code",
   "execution_count": 75,
   "metadata": {},
   "outputs": [],
   "source": [
    "tmp = make_batches(dev_sample, 64)\n",
    "tmp2 = get_x_value(tmp[1], 32)"
   ]
  },
  {
   "cell_type": "code",
   "execution_count": 76,
   "metadata": {},
   "outputs": [
    {
     "data": {
      "text/plain": [
       "(64, 32, 32)"
      ]
     },
     "execution_count": 76,
     "metadata": {},
     "output_type": "execute_result"
    }
   ],
   "source": [
    "tmp2.shape"
   ]
  },
  {
   "cell_type": "code",
   "execution_count": 89,
   "metadata": {},
   "outputs": [
    {
     "name": "stdout",
     "output_type": "stream",
     "text": []
    },
    {
     "name": "stdout",
     "output_type": "stream",
     "text": []
    },
    {
     "name": "stdout",
     "output_type": "stream",
     "text": []
    },
    {
     "name": "stdout",
     "output_type": "stream",
     "text": []
    },
    {
     "name": "stdout",
     "output_type": "stream",
     "text": []
    },
    {
     "name": "stdout",
     "output_type": "stream",
     "text": []
    },
    {
     "ename": "KeyboardInterrupt",
     "evalue": "",
     "output_type": "error",
     "traceback": [
      "\u001b[1;31m---------------------------------------------------------------------------\u001b[0m",
      "\u001b[1;31mKeyboardInterrupt\u001b[0m                         Traceback (most recent call last)",
      "\u001b[1;32m<ipython-input-89-1ce2eaae3e94>\u001b[0m in \u001b[0;36m<module>\u001b[1;34m()\u001b[0m\n\u001b[0;32m     15\u001b[0m         \u001b[1;32mfor\u001b[0m \u001b[1;33m(\u001b[0m\u001b[0mi\u001b[0m\u001b[1;33m,\u001b[0m \u001b[0mbatch\u001b[0m\u001b[1;33m)\u001b[0m \u001b[1;32min\u001b[0m \u001b[0menumerate\u001b[0m\u001b[1;33m(\u001b[0m\u001b[0mmake_batches\u001b[0m\u001b[1;33m(\u001b[0m\u001b[0mdev_sample\u001b[0m\u001b[1;33m,\u001b[0m \u001b[0mbatch_size\u001b[0m\u001b[1;33m)\u001b[0m\u001b[1;33m)\u001b[0m\u001b[1;33m:\u001b[0m\u001b[1;33m\u001b[0m\u001b[0m\n\u001b[0;32m     16\u001b[0m             \u001b[0mprint\u001b[0m\u001b[1;33m(\u001b[0m\u001b[1;34m'Batch {} of {}'\u001b[0m\u001b[1;33m.\u001b[0m\u001b[0mformat\u001b[0m\u001b[1;33m(\u001b[0m\u001b[0mi\u001b[0m \u001b[1;33m*\u001b[0m \u001b[0mbatch_size\u001b[0m\u001b[1;33m,\u001b[0m \u001b[0mlen\u001b[0m\u001b[1;33m(\u001b[0m\u001b[0mdev_sample\u001b[0m\u001b[1;33m)\u001b[0m\u001b[1;33m*\u001b[0m\u001b[0mlen\u001b[0m\u001b[1;33m(\u001b[0m\u001b[0mdev_sample\u001b[0m\u001b[1;33m[\u001b[0m\u001b[1;36m0\u001b[0m\u001b[1;33m]\u001b[0m\u001b[1;33m)\u001b[0m\u001b[1;33m)\u001b[0m\u001b[1;33m,\u001b[0m \u001b[0mend\u001b[0m\u001b[1;33m=\u001b[0m\u001b[1;34m'\\r'\u001b[0m\u001b[1;33m)\u001b[0m\u001b[1;33m\u001b[0m\u001b[0m\n\u001b[1;32m---> 17\u001b[1;33m             \u001b[0mtrain_x\u001b[0m \u001b[1;33m=\u001b[0m \u001b[0mget_x_value\u001b[0m\u001b[1;33m(\u001b[0m\u001b[0mbatch\u001b[0m\u001b[1;33m,\u001b[0m \u001b[0msrc_shape\u001b[0m\u001b[1;33m[\u001b[0m\u001b[1;36m1\u001b[0m\u001b[1;33m]\u001b[0m\u001b[1;33m)\u001b[0m\u001b[1;33m.\u001b[0m\u001b[0mreshape\u001b[0m\u001b[1;33m(\u001b[0m\u001b[1;33m-\u001b[0m\u001b[1;36m1\u001b[0m\u001b[1;33m,\u001b[0m \u001b[1;33m*\u001b[0m\u001b[0msrc_shape\u001b[0m\u001b[1;33m,\u001b[0m \u001b[1;36m1\u001b[0m\u001b[1;33m)\u001b[0m\u001b[1;33m\u001b[0m\u001b[0m\n\u001b[0m\u001b[0;32m     18\u001b[0m             \u001b[0mtrain_y\u001b[0m \u001b[1;33m=\u001b[0m \u001b[0mget_y_value\u001b[0m\u001b[1;33m(\u001b[0m\u001b[0mbatch\u001b[0m\u001b[1;33m)\u001b[0m\u001b[1;33m\u001b[0m\u001b[0m\n\u001b[0;32m     19\u001b[0m             modutils.runEpoch(tfs, (train_x, train_y), batch_size, set2dict,\n",
      "\u001b[1;32m<ipython-input-71-4cb149f9d022>\u001b[0m in \u001b[0;36mget_x_value\u001b[1;34m(batch, xshape)\u001b[0m\n\u001b[0;32m      6\u001b[0m \u001b[1;33m\u001b[0m\u001b[0m\n\u001b[0;32m      7\u001b[0m \u001b[1;32mdef\u001b[0m \u001b[0mget_x_value\u001b[0m\u001b[1;33m(\u001b[0m\u001b[0mbatch\u001b[0m\u001b[1;33m,\u001b[0m \u001b[0mxshape\u001b[0m\u001b[1;33m)\u001b[0m\u001b[1;33m:\u001b[0m\u001b[1;33m\u001b[0m\u001b[0m\n\u001b[1;32m----> 8\u001b[1;33m     \u001b[0mtres\u001b[0m \u001b[1;33m=\u001b[0m \u001b[1;33m[\u001b[0m\u001b[0mperform_transform\u001b[0m\u001b[1;33m(\u001b[0m\u001b[0msrc_images\u001b[0m\u001b[1;33m[\u001b[0m\u001b[0mx\u001b[0m\u001b[1;33m[\u001b[0m\u001b[1;36m0\u001b[0m\u001b[1;33m]\u001b[0m\u001b[1;33m]\u001b[0m\u001b[1;33m,\u001b[0m \u001b[0mtransforms_all\u001b[0m\u001b[1;33m[\u001b[0m\u001b[0mx\u001b[0m\u001b[1;33m[\u001b[0m\u001b[1;36m1\u001b[0m\u001b[1;33m]\u001b[0m\u001b[1;33m]\u001b[0m\u001b[1;33m)\u001b[0m \u001b[1;32mfor\u001b[0m \u001b[0mx\u001b[0m \u001b[1;32min\u001b[0m \u001b[0mbatch\u001b[0m\u001b[1;33m]\u001b[0m\u001b[1;33m\u001b[0m\u001b[0m\n\u001b[0m\u001b[0;32m      9\u001b[0m     res = [x[:, :xshape] if x.shape[1] >= xshape\n\u001b[0;32m     10\u001b[0m             \u001b[1;32melse\u001b[0m \u001b[0mnp\u001b[0m\u001b[1;33m.\u001b[0m\u001b[0mhstack\u001b[0m\u001b[1;33m(\u001b[0m\u001b[1;33m(\u001b[0m\u001b[0mx\u001b[0m\u001b[1;33m,\u001b[0m \u001b[0mnp\u001b[0m\u001b[1;33m.\u001b[0m\u001b[0mzeros\u001b[0m\u001b[1;33m(\u001b[0m\u001b[0mshape\u001b[0m\u001b[1;33m=\u001b[0m\u001b[1;33m(\u001b[0m\u001b[0mx\u001b[0m\u001b[1;33m.\u001b[0m\u001b[0mshape\u001b[0m\u001b[1;33m[\u001b[0m\u001b[1;36m0\u001b[0m\u001b[1;33m]\u001b[0m\u001b[1;33m,\u001b[0m \u001b[0mxshape\u001b[0m\u001b[1;33m-\u001b[0m\u001b[0mx\u001b[0m\u001b[1;33m.\u001b[0m\u001b[0mshape\u001b[0m\u001b[1;33m[\u001b[0m\u001b[1;36m1\u001b[0m\u001b[1;33m]\u001b[0m\u001b[1;33m)\u001b[0m\u001b[1;33m)\u001b[0m\u001b[1;33m)\u001b[0m\u001b[1;33m)\u001b[0m\u001b[1;33m\u001b[0m\u001b[0m\n",
      "\u001b[1;32m<ipython-input-71-4cb149f9d022>\u001b[0m in \u001b[0;36m<listcomp>\u001b[1;34m(.0)\u001b[0m\n\u001b[0;32m      6\u001b[0m \u001b[1;33m\u001b[0m\u001b[0m\n\u001b[0;32m      7\u001b[0m \u001b[1;32mdef\u001b[0m \u001b[0mget_x_value\u001b[0m\u001b[1;33m(\u001b[0m\u001b[0mbatch\u001b[0m\u001b[1;33m,\u001b[0m \u001b[0mxshape\u001b[0m\u001b[1;33m)\u001b[0m\u001b[1;33m:\u001b[0m\u001b[1;33m\u001b[0m\u001b[0m\n\u001b[1;32m----> 8\u001b[1;33m     \u001b[0mtres\u001b[0m \u001b[1;33m=\u001b[0m \u001b[1;33m[\u001b[0m\u001b[0mperform_transform\u001b[0m\u001b[1;33m(\u001b[0m\u001b[0msrc_images\u001b[0m\u001b[1;33m[\u001b[0m\u001b[0mx\u001b[0m\u001b[1;33m[\u001b[0m\u001b[1;36m0\u001b[0m\u001b[1;33m]\u001b[0m\u001b[1;33m]\u001b[0m\u001b[1;33m,\u001b[0m \u001b[0mtransforms_all\u001b[0m\u001b[1;33m[\u001b[0m\u001b[0mx\u001b[0m\u001b[1;33m[\u001b[0m\u001b[1;36m1\u001b[0m\u001b[1;33m]\u001b[0m\u001b[1;33m]\u001b[0m\u001b[1;33m)\u001b[0m \u001b[1;32mfor\u001b[0m \u001b[0mx\u001b[0m \u001b[1;32min\u001b[0m \u001b[0mbatch\u001b[0m\u001b[1;33m]\u001b[0m\u001b[1;33m\u001b[0m\u001b[0m\n\u001b[0m\u001b[0;32m      9\u001b[0m     res = [x[:, :xshape] if x.shape[1] >= xshape\n\u001b[0;32m     10\u001b[0m             \u001b[1;32melse\u001b[0m \u001b[0mnp\u001b[0m\u001b[1;33m.\u001b[0m\u001b[0mhstack\u001b[0m\u001b[1;33m(\u001b[0m\u001b[1;33m(\u001b[0m\u001b[0mx\u001b[0m\u001b[1;33m,\u001b[0m \u001b[0mnp\u001b[0m\u001b[1;33m.\u001b[0m\u001b[0mzeros\u001b[0m\u001b[1;33m(\u001b[0m\u001b[0mshape\u001b[0m\u001b[1;33m=\u001b[0m\u001b[1;33m(\u001b[0m\u001b[0mx\u001b[0m\u001b[1;33m.\u001b[0m\u001b[0mshape\u001b[0m\u001b[1;33m[\u001b[0m\u001b[1;36m0\u001b[0m\u001b[1;33m]\u001b[0m\u001b[1;33m,\u001b[0m \u001b[0mxshape\u001b[0m\u001b[1;33m-\u001b[0m\u001b[0mx\u001b[0m\u001b[1;33m.\u001b[0m\u001b[0mshape\u001b[0m\u001b[1;33m[\u001b[0m\u001b[1;36m1\u001b[0m\u001b[1;33m]\u001b[0m\u001b[1;33m)\u001b[0m\u001b[1;33m)\u001b[0m\u001b[1;33m)\u001b[0m\u001b[1;33m)\u001b[0m\u001b[1;33m\u001b[0m\u001b[0m\n",
      "\u001b[1;32m<ipython-input-2-7d740e300369>\u001b[0m in \u001b[0;36mperform_transform\u001b[1;34m(img, transform)\u001b[0m\n\u001b[0;32m     77\u001b[0m         \u001b[0mres\u001b[0m \u001b[1;33m=\u001b[0m \u001b[0mimg\u001b[0m\u001b[1;33m\u001b[0m\u001b[0m\n\u001b[0;32m     78\u001b[0m         \u001b[1;32mfor\u001b[0m \u001b[0mt\u001b[0m \u001b[1;32min\u001b[0m \u001b[0mtransform\u001b[0m\u001b[1;33m:\u001b[0m\u001b[1;33m\u001b[0m\u001b[0m\n\u001b[1;32m---> 79\u001b[1;33m             \u001b[0mres\u001b[0m \u001b[1;33m=\u001b[0m \u001b[0mperform_transform\u001b[0m\u001b[1;33m(\u001b[0m\u001b[0mres\u001b[0m\u001b[1;33m,\u001b[0m \u001b[0mt\u001b[0m\u001b[1;33m)\u001b[0m\u001b[1;33m\u001b[0m\u001b[0m\n\u001b[0m\u001b[0;32m     80\u001b[0m         \u001b[1;32mreturn\u001b[0m \u001b[0mres\u001b[0m\u001b[1;33m\u001b[0m\u001b[0m\n\u001b[0;32m     81\u001b[0m     \u001b[1;32mif\u001b[0m \u001b[0mtype\u001b[0m\u001b[1;33m(\u001b[0m\u001b[0mtransform\u001b[0m\u001b[1;33m)\u001b[0m \u001b[1;33m!=\u001b[0m \u001b[0mdict\u001b[0m\u001b[1;33m:\u001b[0m\u001b[1;33m\u001b[0m\u001b[0m\n",
      "\u001b[1;32m<ipython-input-2-7d740e300369>\u001b[0m in \u001b[0;36mperform_transform\u001b[1;34m(img, transform)\u001b[0m\n\u001b[0;32m     84\u001b[0m         \u001b[1;32mraise\u001b[0m \u001b[0mException\u001b[0m\u001b[1;33m(\u001b[0m\u001b[1;34m\"perform_transform() parameter 'transform' should have valid 'type' value!\"\u001b[0m\u001b[1;33m)\u001b[0m\u001b[1;33m\u001b[0m\u001b[0m\n\u001b[0;32m     85\u001b[0m     \u001b[1;32mif\u001b[0m \u001b[0mtransform\u001b[0m\u001b[1;33m[\u001b[0m\u001b[1;34m'type'\u001b[0m\u001b[1;33m]\u001b[0m \u001b[1;33m==\u001b[0m \u001b[1;34m'rotate'\u001b[0m\u001b[1;33m:\u001b[0m\u001b[1;33m\u001b[0m\u001b[0m\n\u001b[1;32m---> 86\u001b[1;33m         \u001b[1;32mreturn\u001b[0m \u001b[0mskimage\u001b[0m\u001b[1;33m.\u001b[0m\u001b[0mtransform\u001b[0m\u001b[1;33m.\u001b[0m\u001b[0mrotate\u001b[0m\u001b[1;33m(\u001b[0m\u001b[0mimg\u001b[0m\u001b[1;33m,\u001b[0m \u001b[0mtransform\u001b[0m\u001b[1;33m.\u001b[0m\u001b[0mget\u001b[0m\u001b[1;33m(\u001b[0m\u001b[1;34m'angle'\u001b[0m\u001b[1;33m,\u001b[0m \u001b[1;36m0\u001b[0m\u001b[1;33m)\u001b[0m\u001b[1;33m,\u001b[0m \u001b[0mmode\u001b[0m\u001b[1;33m=\u001b[0m\u001b[1;34m'constant'\u001b[0m\u001b[1;33m,\u001b[0m \u001b[0mcval\u001b[0m\u001b[1;33m=\u001b[0m\u001b[1;36m1.0\u001b[0m\u001b[1;33m)\u001b[0m\u001b[1;33m\u001b[0m\u001b[0m\n\u001b[0m\u001b[0;32m     87\u001b[0m     \u001b[1;32mif\u001b[0m \u001b[0mtransform\u001b[0m\u001b[1;33m[\u001b[0m\u001b[1;34m'type'\u001b[0m\u001b[1;33m]\u001b[0m \u001b[1;33m==\u001b[0m \u001b[1;34m'shift'\u001b[0m\u001b[1;33m:\u001b[0m\u001b[1;33m\u001b[0m\u001b[0m\n\u001b[0;32m     88\u001b[0m         inv_map = np.array([[1,0,-transform.get('x', 0)*img.shape[0]],\n",
      "\u001b[1;32mc:\\anaconda3\\lib\\site-packages\\skimage\\transform\\_warps.py\u001b[0m in \u001b[0;36mrotate\u001b[1;34m(image, angle, resize, center, order, mode, cval, clip, preserve_range)\u001b[0m\n\u001b[0;32m    298\u001b[0m \u001b[1;33m\u001b[0m\u001b[0m\n\u001b[0;32m    299\u001b[0m     return warp(image, tform, output_shape=output_shape, order=order,\n\u001b[1;32m--> 300\u001b[1;33m                 mode=mode, cval=cval, clip=clip, preserve_range=preserve_range)\n\u001b[0m\u001b[0;32m    301\u001b[0m \u001b[1;33m\u001b[0m\u001b[0m\n\u001b[0;32m    302\u001b[0m \u001b[1;33m\u001b[0m\u001b[0m\n",
      "\u001b[1;32mc:\\anaconda3\\lib\\site-packages\\skimage\\transform\\_warps.py\u001b[0m in \u001b[0;36mwarp\u001b[1;34m(image, inverse_map, map_args, output_shape, order, mode, cval, clip, preserve_range)\u001b[0m\n\u001b[0;32m    767\u001b[0m                 warped = _warp_fast(image, matrix,\n\u001b[0;32m    768\u001b[0m                                  \u001b[0moutput_shape\u001b[0m\u001b[1;33m=\u001b[0m\u001b[0moutput_shape\u001b[0m\u001b[1;33m,\u001b[0m\u001b[1;33m\u001b[0m\u001b[0m\n\u001b[1;32m--> 769\u001b[1;33m                                  order=order, mode=mode, cval=cval)\n\u001b[0m\u001b[0;32m    770\u001b[0m             \u001b[1;32melif\u001b[0m \u001b[0mimage\u001b[0m\u001b[1;33m.\u001b[0m\u001b[0mndim\u001b[0m \u001b[1;33m==\u001b[0m \u001b[1;36m3\u001b[0m\u001b[1;33m:\u001b[0m\u001b[1;33m\u001b[0m\u001b[0m\n\u001b[0;32m    771\u001b[0m                 \u001b[0mdims\u001b[0m \u001b[1;33m=\u001b[0m \u001b[1;33m[\u001b[0m\u001b[1;33m]\u001b[0m\u001b[1;33m\u001b[0m\u001b[0m\n",
      "\u001b[1;32mskimage/transform/_warps_cy.pyx\u001b[0m in \u001b[0;36mskimage.transform._warps_cy._warp_fast (skimage\\transform\\_warps_cy.c:2637)\u001b[1;34m()\u001b[0m\n",
      "\u001b[1;32mc:\\anaconda3\\lib\\site-packages\\numpy\\core\\numeric.py\u001b[0m in \u001b[0;36masarray\u001b[1;34m(a, dtype, order)\u001b[0m\n\u001b[0;32m    461\u001b[0m \u001b[1;33m\u001b[0m\u001b[0m\n\u001b[0;32m    462\u001b[0m \u001b[1;33m\u001b[0m\u001b[0m\n\u001b[1;32m--> 463\u001b[1;33m \u001b[1;32mdef\u001b[0m \u001b[0masarray\u001b[0m\u001b[1;33m(\u001b[0m\u001b[0ma\u001b[0m\u001b[1;33m,\u001b[0m \u001b[0mdtype\u001b[0m\u001b[1;33m=\u001b[0m\u001b[1;32mNone\u001b[0m\u001b[1;33m,\u001b[0m \u001b[0morder\u001b[0m\u001b[1;33m=\u001b[0m\u001b[1;32mNone\u001b[0m\u001b[1;33m)\u001b[0m\u001b[1;33m:\u001b[0m\u001b[1;33m\u001b[0m\u001b[0m\n\u001b[0m\u001b[0;32m    464\u001b[0m     \"\"\"Convert the input to an array.\n\u001b[0;32m    465\u001b[0m \u001b[1;33m\u001b[0m\u001b[0m\n",
      "\u001b[1;31mKeyboardInterrupt\u001b[0m: "
     ]
    }
   ],
   "source": [
    "num_epochs = 50\n",
    "\n",
    "dt_now = datetime.datetime.now().strftime(\"%Y-%m-%d_%H%M%S\")\n",
    "tffw_train = tf.summary.FileWriter('../tflog/Run_{0}-{1}-T'.format(model_name, dt_now), tf.get_default_graph())\n",
    "tffw_valid = tf.summary.FileWriter('../tflog/Run_{0}-{1}-V'.format(model_name, dt_now), tf.get_default_graph())\n",
    "tfsSaver = tf.train.Saver(max_to_keep=5)\n",
    "\n",
    "with tf.Session() as tfs:\n",
    "    tfs.run(tf.global_variables_initializer())\n",
    "    tfs.run(tf.local_variables_initializer())\n",
    "    \n",
    "    for n in range(num_epochs):\n",
    "        t0 = time.perf_counter()\n",
    "        \n",
    "        for (i, batch) in enumerate(make_batches(dev_sample, batch_size)):\n",
    "            print('Batch {} of {}'.format(i * batch_size, len(dev_sample)*len(dev_sample[0])))\n",
    "            train_x = get_x_value(batch, src_shape[1]).reshape(-1, *src_shape, 1)\n",
    "            train_y = get_y_value(batch)\n",
    "            modutils.runEpoch(tfs, (train_x, train_y), batch_size, set2dict,\n",
    "                          graph_descr['run']['train'],\n",
    "                         op_loss=graph_descr['run']['loss'], verbatim=True)\n",
    "            \n",
    "        test_res = []\n",
    "        test_yf = []\n",
    "        for batch in make_batches(test_sample, batch_size):\n",
    "            valid_x = get_x_value(batch, src_shape[1]).reshape(-1, *src_shape, 1)\n",
    "            valid_y = get_y_value(batch)\n",
    "            test_yf.append(valid_y)\n",
    "            test_res += modutils.runDataset(tfs, (valid_x, valid_y), batch_size, set2dict,\n",
    "                                  [graph_descr['run']['loss'], graph_descr['out']['prob']])\n",
    "        \n",
    "        print(test_res[0])\n",
    "        test_loss = np.sum([x[1] * x[2][0] for x in test_res]) / np.sum([x[1] for x in test_res])\n",
    "        test_p = np.concatenate([x[2][1] for x in test_res])\n",
    "        test_y = np.concatenate(test_yf)\n",
    "        #test_gini = sklearn.metrics.roc_auc_score(test_y, test_p[:,1])*2-1\n",
    "        t1 = time.perf_counter()\n",
    "        \n",
    "        p = tfsSaver.save(tfs, model_ckpt_name.format(n))\n",
    "        print('Model saved at checkpoint: {0}'.format(p))        \n",
    "        print('Epoch {0}: {1:.3f} in {2:.2f} sec'.format(n, test_loss, t1-t0))\n",
    "print('\\nDone')"
   ]
  },
  {
   "cell_type": "code",
   "execution_count": null,
   "metadata": {},
   "outputs": [],
   "source": []
  }
 ],
 "metadata": {
  "kernelspec": {
   "display_name": "Python 3",
   "language": "python",
   "name": "python3"
  },
  "language_info": {
   "codemirror_mode": {
    "name": "ipython",
    "version": 3
   },
   "file_extension": ".py",
   "mimetype": "text/x-python",
   "name": "python",
   "nbconvert_exporter": "python",
   "pygments_lexer": "ipython3",
   "version": "3.6.1"
  }
 },
 "nbformat": 4,
 "nbformat_minor": 2
}
