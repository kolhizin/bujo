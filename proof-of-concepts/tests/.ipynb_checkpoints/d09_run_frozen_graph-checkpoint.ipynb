{
 "cells": [
  {
   "cell_type": "code",
   "execution_count": 1,
   "metadata": {},
   "outputs": [],
   "source": [
    "import test_config as cfg\n",
    "import numpy as np\n",
    "import itertools, functools\n",
    "\n",
    "%matplotlib inline\n",
    "import matplotlib.pyplot as plt\n",
    "import sys, os, os.path, time, datetime\n",
    "import pickle, io, json\n",
    "\n",
    "import skimage, skimage.io, skimage.transform, skimage.filters\n",
    "import sklearn, sklearn.metrics\n",
    "\n",
    "import importlib\n",
    "sys.path.append('../src/')\n",
    "import modutils\n",
    "import word_processing as wp\n",
    "import tqdm\n",
    "import tensorflow as tf\n",
    "import editdistance"
   ]
  },
  {
   "cell_type": "code",
   "execution_count": 6,
   "metadata": {},
   "outputs": [],
   "source": [
    "class BaseTransformer:\n",
    "    def __init__(self):\n",
    "        pass\n",
    "    def transform(self, x):\n",
    "        return x\n",
    "\n",
    "    \n",
    "class SequentialTransformer:\n",
    "    def __init__(self, *args):\n",
    "        self.stages_ = args\n",
    "        \n",
    "    def transform(self, x):\n",
    "        res = x\n",
    "        for s in self.stages_:\n",
    "            res = s.transform(res)\n",
    "        return res\n",
    "    \n",
    "class LoadImageTransformer(BaseTransformer):\n",
    "    def __init__(self, path):\n",
    "        self.path_ = path\n",
    "        \n",
    "    def transform(self, x):\n",
    "        if type(x) != str:\n",
    "            raise Exception(\"LoadImageTransformer: expects filename as argument!\")\n",
    "        return skimage.io.imread(os.path.join(self.path_, x), as_grey=True)\n",
    "    \n",
    "class ConvertFloatTransformer(BaseTransformer):\n",
    "    def __init__(self, min_value = 0.0, max_value = 1.0):\n",
    "        self.min_ = min_value\n",
    "        self.max_ = max_value\n",
    "        \n",
    "    def transform(self, x):\n",
    "        if x.dtype in (np.float, np.float64, np.float32):\n",
    "            return x\n",
    "        if x.dtype == np.uint8:\n",
    "            return (x / 255.0) * (self.max_ - self.min_) + self.min_\n",
    "        if x.dtype == np.uint16:\n",
    "            return (x / 65535.0) * (self.max_ - self.min_) + self.min_\n",
    "        raise Exception(\"ConvertFloatTransformer: unexpected argument type!\")\n",
    "    \n",
    "class RandomStretchTransformer(BaseTransformer):\n",
    "    def __init__(self, min_scale = 0.66, max_scale = 1.5, fill_value=1.0):\n",
    "        self.max_ = max_scale\n",
    "        self.min_ = min_scale\n",
    "        self.fill_ = fill_value\n",
    "        \n",
    "    def transform(self, x):\n",
    "        f = np.random.uniform(self.min_, self.max_)\n",
    "        return skimage.transform.rescale(x, (1.0, f), mode='constant', cval=self.fill_)\n",
    "    \n",
    "class TransposeTransformer(BaseTransformer):\n",
    "    def __init__(self):\n",
    "        pass\n",
    "    def transform(self, x):\n",
    "        return np.transpose(x)\n",
    "    \n",
    "class FitSizeTransformer(BaseTransformer):\n",
    "    def __init__(self, width, height, fill_value=1.0):\n",
    "        self.w_ = width\n",
    "        self.h_ = height\n",
    "        self.fill_ = fill_value\n",
    "        self.template_ = np.ones((self.h_, self.w_)) * self.fill_\n",
    "        \n",
    "    def transform(self, x):\n",
    "        (h, w) = x.shape\n",
    "        f = max(w / self.w_, h / self.h_)\n",
    "        res = self.template_.copy()\n",
    "        rw = max(min(self.w_, int(w / f)), 1)\n",
    "        rh = max(min(self.h_, int(h / f)), 1)\n",
    "        res[0:rh, 0:rw] = skimage.transform.resize(x, (rh, rw), mode='constant', cval=self.fill_)\n",
    "        return res\n",
    "    \n",
    "class StandardizeTransformer(BaseTransformer):\n",
    "    def __init__(self):\n",
    "        pass\n",
    "    \n",
    "    def transform(self, x):\n",
    "        m = np.mean(x)\n",
    "        s = np.std(x)\n",
    "        if s <= 1e-9:\n",
    "            return x - m\n",
    "        return (x - m) / s\n",
    "    \n",
    "class TruncateLabelTransform(BaseTransformer):\n",
    "    def __init__(self, max_cost):\n",
    "        self.max_cost_ = max_cost\n",
    "        \n",
    "    def transform(self, x):\n",
    "        if type(x) != str:\n",
    "            raise Exception(\"TruncateLabelTransform: input expected to be of type string!\")\n",
    "        cost = 0\n",
    "        for i in range(len(x)):\n",
    "            flg = (i > 0) and (x[i] == x[i-1])\n",
    "            cost += 1 + int(flg)\n",
    "            if cost > max_cost:\n",
    "                return x[:i]\n",
    "        return x\n",
    "    \n",
    "def load_images(path, words, transform):\n",
    "    res = []\n",
    "    for (i, (word, fname)) in enumerate(tqdm.tqdm(words)):\n",
    "        src_image = skimage.io.imread(os.path.join(path, fname), as_grey=True)\n",
    "        res_image = wp.perform_transform(src_image, transform)\n",
    "        res.append(res_image)\n",
    "    return res"
   ]
  },
  {
   "cell_type": "code",
   "execution_count": 5,
   "metadata": {},
   "outputs": [
    {
     "name": "stdout",
     "output_type": "stream",
     "text": [
      "Wall time: 53.3 ms\n"
     ]
    }
   ],
   "source": [
    "%%time\n",
    "fname = 'D:/Data/bujo_sample_v2/dataset.json'\n",
    "extraction_path = os.path.join(os.path.dirname(fname),\n",
    "                               os.path.basename(fname).split('.')[0])\n",
    "with open(fname, 'r', encoding='utf-8') as f:\n",
    "    src = json.load(f)\n",
    "    \n",
    "words = wp.extract_words_from_dataset(src, (1,))\n",
    "\n",
    "transform_pipeline = [\n",
    "    {'type':'cutoff', 'cutoff':0.7},\n",
    "    {'type':'trimx'}, {'type':'trimy'}, {'type':'resize', 'y':32}, {'type':'invert'}\n",
    "]"
   ]
  },
  {
   "cell_type": "code",
   "execution_count": 133,
   "metadata": {},
   "outputs": [
    {
     "name": "stderr",
     "output_type": "stream",
     "text": [
      "100%|█████████████████████████████████████████████████████████████████████████████| 1579/1579 [00:12<00:00, 123.96it/s]\n"
     ]
    }
   ],
   "source": [
    "raw_imgs = load_images('D:/Data/bujo_sample_v2/dataset/', words, transform_pipeline)"
   ]
  },
  {
   "cell_type": "code",
   "execution_count": 8,
   "metadata": {},
   "outputs": [
    {
     "data": {
      "text/plain": [
       "(32, 82)"
      ]
     },
     "execution_count": 8,
     "metadata": {},
     "output_type": "execute_result"
    }
   ],
   "source": [
    "raw_imgs[0].shape"
   ]
  },
  {
   "cell_type": "code",
   "execution_count": 10,
   "metadata": {},
   "outputs": [],
   "source": [
    "model_fname = 'D:/htr-model/frozen_model.pb'"
   ]
  },
  {
   "cell_type": "code",
   "execution_count": 25,
   "metadata": {},
   "outputs": [
    {
     "name": "stdout",
     "output_type": "stream",
     "text": [
      "Loading model...\n",
      "Check out the input placeholders:\n",
      "is_train => Placeholder\n",
      "Placeholder => Placeholder\n",
      "Placeholder_4 => Placeholder\n",
      "Model loading complete!\n"
     ]
    }
   ],
   "source": [
    "print('Loading model...')\n",
    "tf.reset_default_graph()\n",
    "tf_graph = tf.Graph()\n",
    "tf_session = tf.InteractiveSession(graph = tf_graph)\n",
    "\n",
    "with tf.gfile.GFile(model_fname, 'rb') as f:\n",
    "    tf_graph_def = tf.GraphDef()\n",
    "    tf_graph_def.ParseFromString(f.read())\n",
    "\n",
    "print('Check out the input placeholders:')\n",
    "nodes = [n.name + ' => ' +  n.op for n in tf_graph_def.node if n.op in ('Placeholder')]\n",
    "for node in nodes:\n",
    "    print(node)\n",
    "    \n",
    "with tf.Graph().as_default() as tf_graph:\n",
    "    tf.import_graph_def(tf_graph_def, name=\"\")\n",
    "\n",
    "#self.input = tf.placeholder(np.float32, shape = [None, 32, 32, 3], name='input')\n",
    "#self.dropout_rate = tf.placeholder(tf.float32, shape = [], name = 'dropout_rate')\n",
    "\n",
    "#tf.import_graph_def(graph_def, {'input': self.input, 'dropout_rate': self.dropout_rate})\n",
    "print('Model loading complete!')"
   ]
  },
  {
   "cell_type": "code",
   "execution_count": null,
   "metadata": {},
   "outputs": [],
   "source": [
    "tf.import_graph_def(tf_graph_def, name=\"\")"
   ]
  },
  {
   "cell_type": "code",
   "execution_count": 122,
   "metadata": {},
   "outputs": [],
   "source": [
    "with open('D:/htr-model/frozen_model.info', 'r') as fp:\n",
    "    info = json.load(fp)"
   ]
  },
  {
   "cell_type": "code",
   "execution_count": 123,
   "metadata": {},
   "outputs": [
    {
     "data": {
      "text/plain": [
       "{'chars': '!\"(),-.0123456789:?FLOPTabcdefhiklmnorstuwyАБВГДЕЖЗИКЛМНОПРСТУФЦЧЭЮЯабвгдежзийклмнопрстуфхцчшщъыьэюяё',\n",
       " 'input': {'images': 'Placeholder',\n",
       "  'is_train': 'is_train',\n",
       "  'textlen': 'Placeholder_4'},\n",
       " 'output': 'CTCGreedyDecoder',\n",
       " 'textlen': 32}"
      ]
     },
     "execution_count": 123,
     "metadata": {},
     "output_type": "execute_result"
    }
   ],
   "source": [
    "info"
   ]
  },
  {
   "cell_type": "code",
   "execution_count": 124,
   "metadata": {},
   "outputs": [],
   "source": [
    "tf_is_train = tf.get_default_graph().get_tensor_by_name(info['input']['is_train']+':0')\n",
    "tf_in_images = tf.get_default_graph().get_tensor_by_name(info['input']['images']+':0')\n",
    "tf_in_seqlens = tf.get_default_graph().get_tensor_by_name(info['input']['textlen']+':0')\n",
    "tf_out_ctc0 = tf.get_default_graph().get_tensor_by_name(info['output']+':0')\n",
    "tf_out_ctc1 = tf.get_default_graph().get_tensor_by_name(info['output']+':1')"
   ]
  },
  {
   "cell_type": "code",
   "execution_count": 128,
   "metadata": {},
   "outputs": [],
   "source": [
    "def runBatch(session, imgs, chars):\n",
    "    def decodeOutput(indices, values, batch_size):\n",
    "        encoded_labels = [[] for i in range(batch_size)]\n",
    "\n",
    "        for (k, (i, j)) in enumerate(indices):\n",
    "            encoded_labels[i].append(values[k])\n",
    "\n",
    "        return [''.join([chars[c] for c in x]) for x in encoded_labels]\n",
    "    \n",
    "    batch_size = len(imgs)\n",
    "    evalList = [tf_out_ctc0, tf_out_ctc1, tf_out_ctc2, tf_out_ctc3]\n",
    "    feedDict = {tf_in_images : imgs,\n",
    "                tf_in_seqlens : [32] * batch_size,\n",
    "                tf_is_train: False}\n",
    "    indices, values, _, _ = session.run(evalList, feedDict)\n",
    "    return decodeOutput(indices, values, batch_size)"
   ]
  },
  {
   "cell_type": "code",
   "execution_count": 132,
   "metadata": {},
   "outputs": [],
   "source": [
    "transform_pipeline_img = SequentialTransformer(\n",
    "    FitSizeTransformer(128, 32),\n",
    "    TransposeTransformer(),\n",
    "    StandardizeTransformer())"
   ]
  },
  {
   "cell_type": "code",
   "execution_count": 134,
   "metadata": {},
   "outputs": [],
   "source": [
    "tmp_imgs = [transform_pipeline_img.transform(x) for x in raw_imgs]"
   ]
  },
  {
   "cell_type": "code",
   "execution_count": 136,
   "metadata": {},
   "outputs": [
    {
     "name": "stdout",
     "output_type": "stream",
     "text": [
      "0\n",
      "1\n",
      "2\n",
      "3\n",
      "4\n",
      "5\n",
      "6\n"
     ]
    }
   ],
   "source": [
    "tmp = []\n",
    "with tf.Session() as tfs:\n",
    "    for i in range(len(raw_imgs)//256+1):\n",
    "        s0 = i * 256\n",
    "        s1 = (i+1)*256\n",
    "        print(i)\n",
    "        tmp += runBatch(tfs, tmp_imgs[s0:s1], info['chars'])"
   ]
  },
  {
   "cell_type": "code",
   "execution_count": 138,
   "metadata": {},
   "outputs": [],
   "source": [
    "pred = tmp"
   ]
  },
  {
   "cell_type": "code",
   "execution_count": 139,
   "metadata": {},
   "outputs": [],
   "source": [
    "act = [x[0] for x in words]"
   ]
  },
  {
   "cell_type": "code",
   "execution_count": 141,
   "metadata": {},
   "outputs": [],
   "source": [
    "import editdistance"
   ]
  },
  {
   "cell_type": "code",
   "execution_count": 146,
   "metadata": {},
   "outputs": [],
   "source": [
    "dists = np.array([editdistance.distance(x, y) for (x, y) in zip(pred, act)])"
   ]
  },
  {
   "cell_type": "code",
   "execution_count": 153,
   "metadata": {},
   "outputs": [
    {
     "data": {
      "text/plain": [
       "(1579, 870, 338, 1368)"
      ]
     },
     "execution_count": 153,
     "metadata": {},
     "output_type": "execute_result"
    }
   ],
   "source": [
    "len(dists), sum(dists==0), sum(dists==1), sum(dists<=2)"
   ]
  },
  {
   "cell_type": "code",
   "execution_count": 156,
   "metadata": {},
   "outputs": [],
   "source": [
    "pct_dists = dists / np.array([max(1, len(x)) for x in act])"
   ]
  },
  {
   "cell_type": "code",
   "execution_count": 161,
   "metadata": {},
   "outputs": [
    {
     "data": {
      "text/plain": [
       "(1579, 1008)"
      ]
     },
     "execution_count": 161,
     "metadata": {},
     "output_type": "execute_result"
    }
   ],
   "source": [
    "len(pct_dists), sum(pct_dists < 0.2)"
   ]
  },
  {
   "cell_type": "code",
   "execution_count": null,
   "metadata": {},
   "outputs": [],
   "source": []
  }
 ],
 "metadata": {
  "kernelspec": {
   "display_name": "Python 3",
   "language": "python",
   "name": "python3"
  },
  "language_info": {
   "codemirror_mode": {
    "name": "ipython",
    "version": 3
   },
   "file_extension": ".py",
   "mimetype": "text/x-python",
   "name": "python",
   "nbconvert_exporter": "python",
   "pygments_lexer": "ipython3",
   "version": "3.6.1"
  }
 },
 "nbformat": 4,
 "nbformat_minor": 2
}
