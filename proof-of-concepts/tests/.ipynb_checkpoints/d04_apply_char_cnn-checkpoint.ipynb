{
 "cells": [
  {
   "cell_type": "code",
   "execution_count": 3,
   "metadata": {},
   "outputs": [],
   "source": [
    "import test_config as cfg\n",
    "import numpy as np\n",
    "\n",
    "%matplotlib inline\n",
    "import matplotlib.pyplot as plt\n",
    "import os, os.path\n",
    "import pickle\n",
    "import io\n",
    "\n",
    "import json\n",
    "\n",
    "import skimage, skimage.io, skimage.transform, skimage.filters\n",
    "import sklearn, sklearn.metrics\n",
    "\n",
    "import importlib\n",
    "\n",
    "import sys\n",
    "sys.path.append('../src/')\n",
    "import modutils\n",
    "import word_processing as wp\n",
    "\n",
    "import datetime, time, random\n",
    "import tensorflow as tf"
   ]
  },
  {
   "cell_type": "code",
   "execution_count": 11,
   "metadata": {},
   "outputs": [],
   "source": [
    "def build_cnn_graph(input_shape, cnn_arch, fc_arch, num_classes):\n",
    "    tf.reset_default_graph()\n",
    "\n",
    "    with tf.name_scope('Input'):\n",
    "        tf_in_x = tf.placeholder(tf.float32, shape=(None, input_shape[0], input_shape[1], 1))\n",
    "        tf_in_y = tf.placeholder(tf.int32, shape=(None,))\n",
    "\n",
    "    tf_temp = tf_in_x\n",
    "    for (i, (conv_filters, conv_size, conv_stride, pool_size, pool_stride)) in enumerate(cnn_arch):\n",
    "        with tf.name_scope('Conv-MaxPool-{:02d}'.format(i)):\n",
    "            tf_temp = tf.layers.conv2d(tf_temp, conv_filters, conv_size, conv_stride, activation=tf.nn.relu)\n",
    "            tf_temp = tf.layers.max_pooling2d(tf_temp, pool_size, pool_stride)\n",
    "\n",
    "    with tf.name_scope('FC'):\n",
    "        tf_temp = tf.contrib.layers.flatten(tf_temp)\n",
    "        for sz in fc_arch:\n",
    "            tf_temp = tf.layers.dense(tf_temp, sz, activation=tf.nn.elu)\n",
    "            \n",
    "        tf_final = tf.layers.dense(tf_temp, num_classes)\n",
    "        tf_prob = tf.nn.softmax(tf_final)\n",
    "        tf_predicted = tf.cast(tf.argmax(tf_prob, axis=1), dtype=tf.int32)\n",
    "\n",
    "    with tf.name_scope('LOSS'):\n",
    "        tf_loss = tf.reduce_mean(tf.nn.sparse_softmax_cross_entropy_with_logits(labels=tf_in_y, logits=tf_final))\n",
    "        tf_train = tf.train.AdamOptimizer(1e-3).minimize(tf_loss)\n",
    "        \n",
    "        tf_accuracy, tf_upd_accuracy = tf.metrics.accuracy(labels=tf_in_y, predictions=tf_predicted)\n",
    "        tf_update_metrics = tf.group(tf_upd_accuracy)\n",
    "        \n",
    "        tfsummary_logloss = tf.summary.scalar('Log-Loss', tf_loss)\n",
    "        tfsummary_accuracy = tf.summary.scalar('1-Accuracy', 1-tf_accuracy)\n",
    "        tfsummary = tf.summary.merge([tfsummary_logloss, tfsummary_accuracy])\n",
    "\n",
    "    return {'in':{'data':tf_in_x, 'label':tf_in_y},\n",
    "            'out':{'logit':tf_final, 'prob':tf_prob},\n",
    "            'run':{'loss': tf_loss, 'upd_metrics':tf_update_metrics,'accuracy':tf_accuracy,\n",
    "                   'train': tf_train, 'summary':tfsummary}}\n",
    "\n",
    "def make_batches(sample, batch_size):\n",
    "    raw_sample = [(i,z) for (i, x) in enumerate(sample) for z in x]\n",
    "    random.shuffle(raw_sample)\n",
    "    num_batches = len(raw_sample) // batch_size\n",
    "    return [raw_sample[i*batch_size:(i+1)*batch_size] for i in range(num_batches)]\n",
    "\n",
    "def get_x_value(batch, xshape):\n",
    "    tres = [wp.perform_transform(src_images[x[0]], transforms_all[x[1]]) for x in batch]\n",
    "    res = [x[:, :xshape] if x.shape[1] >= xshape\n",
    "            else np.hstack((x, np.zeros(shape=(x.shape[0], xshape-x.shape[1]))))\n",
    "            for x in tres]\n",
    "    return np.array(res)\n",
    "\n",
    "def get_y_value(batch):\n",
    "    return np.array([x[0] for x in batch])"
   ]
  },
  {
   "cell_type": "code",
   "execution_count": 67,
   "metadata": {},
   "outputs": [
    {
     "name": "stdout",
     "output_type": "stream",
     "text": [
      "Graph created\n",
      "Preparation complete\n"
     ]
    }
   ],
   "source": [
    "src_shape = (32, 32)\n",
    "\n",
    "graph_descr = build_cnn_graph(src_shape,\n",
    "                              [(30, 5, 1, 3, 3), (200, 3, 1, 3, 3)],\n",
    "                              [100], len(words))\n",
    "model_name = 'D03_CHAR_CNN'\n",
    "tf_model_file = '../data/tfmodels/d03_char_cnn/model-13.ckpt'\n",
    "\n",
    "print('Graph created')\n",
    "\n",
    "batch_size  = 256\n",
    "set2dict = lambda x: {graph_descr['in']['data']: x[0],\n",
    "                           graph_descr['in']['label']: x[1]}\n",
    "\n",
    "set2dict_eval = lambda x: {graph_descr['in']['data']: x}\n",
    "\n",
    "print('Preparation complete')"
   ]
  },
  {
   "cell_type": "code",
   "execution_count": 6,
   "metadata": {},
   "outputs": [
    {
     "name": "stdout",
     "output_type": "stream",
     "text": [
      "Wall time: 635 ms\n"
     ]
    }
   ],
   "source": [
    "%%time\n",
    "fname = '../data/ru_calibration.json'\n",
    "extraction_path = os.path.join(os.path.dirname(fname),\n",
    "                               os.path.basename(fname).split('.')[0])\n",
    "with open(fname, 'r', encoding='utf-8') as f:\n",
    "    src = json.load(f)\n",
    "    \n",
    "words = wp.extract_words_from_dataset(src, (1,))\n",
    "\n",
    "transforms_rotation = wp.generate_rotations(-10, 10, 5)\n",
    "transforms_scale = wp.generate_scales(0.75, 1.25, 5)\n",
    "transforms_shift = wp.generate_shifts(-0.1, 0.1, 5)\n",
    "transforms_cutoff = wp.generate_cutoffs(0.3, 0.5, 5)\n",
    "combinations_all = wp.generate_combinations(transforms_rotation, transforms_shift,\n",
    "                                       transforms_scale, transforms_cutoff)\n",
    "\n",
    "fixed_post = [{'type':'trimx'},{'type':'trimy'}, {'type':'resize', 'y':32}]\n",
    "transforms_all = wp.append_transformations(combinations_all, post_transforms=fixed_post)\n",
    "\n",
    "test_sample = [np.random.choice(np.arange(len(transforms_all)), size=100) for i in range(len(words))]\n",
    "\n",
    "src_images = [skimage.io.imread(os.path.join(extraction_path, x[1]), as_grey=True) for x in words]"
   ]
  },
  {
   "cell_type": "code",
   "execution_count": 12,
   "metadata": {},
   "outputs": [
    {
     "name": "stdout",
     "output_type": "stream",
     "text": [
      "INFO:tensorflow:Restoring parameters from ../data/tfmodels/d03_char_cnn/model-13.ckpt\n",
      "Test batch 0 of 7600\n",
      "Test batch 256 of 7600\n",
      "Test batch 512 of 7600\n",
      "Test batch 768 of 7600\n",
      "Test batch 1024 of 7600\n",
      "Test batch 1280 of 7600\n",
      "Test batch 1536 of 7600\n",
      "Test batch 1792 of 7600\n",
      "Test batch 2048 of 7600\n",
      "Test batch 2304 of 7600\n",
      "Test batch 2560 of 7600\n",
      "Test batch 2816 of 7600\n",
      "Test batch 3072 of 7600\n",
      "Test batch 3328 of 7600\n",
      "Test batch 3584 of 7600\n",
      "Test batch 3840 of 7600\n",
      "Test batch 4096 of 7600\n",
      "Test batch 4352 of 7600\n",
      "Test batch 4608 of 7600\n",
      "Test batch 4864 of 7600\n",
      "Test batch 5120 of 7600\n",
      "Test batch 5376 of 7600\n",
      "Test batch 5632 of 7600\n",
      "Test batch 5888 of 7600\n",
      "Test batch 6144 of 7600\n",
      "Test batch 6400 of 7600\n",
      "Test batch 6656 of 7600\n",
      "Test batch 6912 of 7600\n",
      "Test batch 7168 of 7600\n"
     ]
    },
    {
     "ename": "AttributeError",
     "evalue": "'float' object has no attribute '2f'",
     "output_type": "error",
     "traceback": [
      "\u001b[1;31m---------------------------------------------------------------------------\u001b[0m",
      "\u001b[1;31mAttributeError\u001b[0m                            Traceback (most recent call last)",
      "\u001b[1;32m<ipython-input-12-649630e8a2a9>\u001b[0m in \u001b[0;36m<module>\u001b[1;34m()\u001b[0m\n\u001b[0;32m     22\u001b[0m     \u001b[0mt1\u001b[0m \u001b[1;33m=\u001b[0m \u001b[0mtime\u001b[0m\u001b[1;33m.\u001b[0m\u001b[0mperf_counter\u001b[0m\u001b[1;33m(\u001b[0m\u001b[1;33m)\u001b[0m\u001b[1;33m\u001b[0m\u001b[0m\n\u001b[0;32m     23\u001b[0m \u001b[1;33m\u001b[0m\u001b[0m\n\u001b[1;32m---> 24\u001b[1;33m \u001b[0mprint\u001b[0m\u001b[1;33m(\u001b[0m\u001b[1;34m'Applied model in {.2f} sec'\u001b[0m\u001b[1;33m.\u001b[0m\u001b[0mformat\u001b[0m\u001b[1;33m(\u001b[0m\u001b[0mt1\u001b[0m\u001b[1;33m-\u001b[0m\u001b[0mt0\u001b[0m\u001b[1;33m)\u001b[0m\u001b[1;33m)\u001b[0m\u001b[1;33m\u001b[0m\u001b[0m\n\u001b[0m",
      "\u001b[1;31mAttributeError\u001b[0m: 'float' object has no attribute '2f'"
     ]
    }
   ],
   "source": [
    "dt_now = datetime.datetime.now().strftime(\"%Y-%m-%d_%H%M%S\")\n",
    "tfsSaver = tf.train.Saver()\n",
    "\n",
    "with tf.Session() as tfs:\n",
    "    tfsSaver.restore(tfs, tf_model_file)\n",
    "    t0 = time.perf_counter()\n",
    "        \n",
    "    test_res = []\n",
    "    test_yf = []\n",
    "    for (i, batch) in enumerate(make_batches(test_sample, batch_size)):\n",
    "        print('Test batch {} of {}'.format(i * batch_size, len(test_sample)*len(test_sample[0])))\n",
    "        valid_x = get_x_value(batch, src_shape[1]).reshape(-1, *src_shape, 1)\n",
    "        valid_y = get_y_value(batch)\n",
    "        test_yf.append(valid_y)\n",
    "        test_res += modutils.runDataset(tfs, (valid_x, valid_y), batch_size, set2dict,\n",
    "                                  [graph_descr['run']['loss'], graph_descr['out']['prob']])\n",
    "        \n",
    "    test_loss = np.sum([x[1] * x[2][0] for x in test_res]) / np.sum([x[1] for x in test_res])\n",
    "    test_prob = np.concatenate([x[2][1] for x in test_res])\n",
    "    test_pred = np.argmax(test_prob, axis=1)\n",
    "    test_true = np.concatenate(test_yf)\n",
    "    t1 = time.perf_counter()\n",
    "        \n",
    "print('Applied model in {:.2f} sec'.format(t1-t0))"
   ]
  },
  {
   "cell_type": "code",
   "execution_count": 23,
   "metadata": {},
   "outputs": [
    {
     "data": {
      "text/plain": [
       "0.99353448275862066"
      ]
     },
     "execution_count": 23,
     "metadata": {},
     "output_type": "execute_result"
    }
   ],
   "source": [
    "sklearn.metrics.accuracy_score(test_true, test_pred)"
   ]
  },
  {
   "cell_type": "code",
   "execution_count": 27,
   "metadata": {},
   "outputs": [
    {
     "data": {
      "text/plain": [
       "(array([ 9, 19, 20, 21, 22, 23, 26, 28, 31, 32, 36, 47, 52, 55, 56, 57, 58,\n",
       "        60, 61, 67, 74]),\n",
       " array([1, 2, 1, 2, 1, 2, 1, 1, 2, 1, 1, 1, 7, 6, 6, 3, 4, 2, 2, 1, 1], dtype=int64))"
      ]
     },
     "execution_count": 27,
     "metadata": {},
     "output_type": "execute_result"
    }
   ],
   "source": [
    "np.unique(test_true[test_true != test_pred], return_counts=True)"
   ]
  },
  {
   "cell_type": "code",
   "execution_count": 28,
   "metadata": {},
   "outputs": [],
   "source": [
    "#53, 55, 56"
   ]
  },
  {
   "cell_type": "code",
   "execution_count": 43,
   "metadata": {},
   "outputs": [
    {
     "data": {
      "text/plain": [
       "array([[90,  0,  0,  3,  0],\n",
       "       [ 0, 99,  0,  0,  0],\n",
       "       [ 0,  0, 99,  0,  0],\n",
       "       [ 0,  0,  0, 94,  0],\n",
       "       [ 5,  0,  0,  1, 92]])"
      ]
     },
     "execution_count": 43,
     "metadata": {},
     "output_type": "execute_result"
    }
   ],
   "source": [
    "sklearn.metrics.confusion_matrix(test_true, test_pred)[52:57, 52:57]"
   ]
  },
  {
   "cell_type": "code",
   "execution_count": 46,
   "metadata": {},
   "outputs": [
    {
     "data": {
      "text/plain": [
       "<matplotlib.image.AxesImage at 0x24cc2c95be0>"
      ]
     },
     "execution_count": 46,
     "metadata": {},
     "output_type": "execute_result"
    },
    {
     "data": {
      "image/png": "[encoded data removed]",
      "text/plain": [
       "<matplotlib.figure.Figure at 0x24cc2be5438>"
      ]
     },
     "metadata": {},
     "output_type": "display_data"
    }
   ],
   "source": [
    "plt.imshow(src_images[52])"
   ]
  },
  {
   "cell_type": "code",
   "execution_count": 47,
   "metadata": {},
   "outputs": [],
   "source": [
    "test_image = skimage.io.imread('../data/test01.jpg', as_grey=True)"
   ]
  },
  {
   "cell_type": "code",
   "execution_count": 54,
   "metadata": {},
   "outputs": [
    {
     "data": {
      "text/plain": [
       "<matplotlib.image.AxesImage at 0x24cc4472e48>"
      ]
     },
     "execution_count": 54,
     "metadata": {},
     "output_type": "execute_result"
    },
    {
     "data": {
      "image/png": "[encoded data removed]",
      "text/plain": [
       "<matplotlib.figure.Figure at 0x24cc2d34860>"
      ]
     },
     "metadata": {},
     "output_type": "display_data"
    }
   ],
   "source": [
    "plt.imshow(test_image<0.4, cmap='gray')"
   ]
  },
  {
   "cell_type": "code",
   "execution_count": 64,
   "metadata": {},
   "outputs": [
    {
     "data": {
      "text/plain": [
       "<matplotlib.image.AxesImage at 0x24cc4981710>"
      ]
     },
     "execution_count": 64,
     "metadata": {},
     "output_type": "execute_result"
    },
    {
     "data": {
      "image/png": "[encoded data removed]",
      "text/plain": [
       "<matplotlib.figure.Figure at 0x24cc48bb2b0>"
      ]
     },
     "metadata": {},
     "output_type": "display_data"
    }
   ],
   "source": [
    "fin_image = wp.trim_image_width(wp.trim_image_height(test_image<0.4))\n",
    "plt.imshow(fin_image, cmap='gray')"
   ]
  },
  {
   "cell_type": "code",
   "execution_count": 63,
   "metadata": {},
   "outputs": [],
   "source": [
    "def extract_regions_xshift(src, xsize, xstride):\n",
    "    sz = (src.shape[1] - xsize) // xstride\n",
    "    offsets = [i * xstride for i in range(sz)]\n",
    "    return np.array([src[:, off:(off+xsize)] for off in offsets])"
   ]
  },
  {
   "cell_type": "code",
   "execution_count": 65,
   "metadata": {},
   "outputs": [],
   "source": [
    "tmp = extract_regions_xshift(fin_image, 32, 8)"
   ]
  },
  {
   "cell_type": "code",
   "execution_count": 66,
   "metadata": {},
   "outputs": [
    {
     "data": {
      "text/plain": [
       "(34, 90, 32)"
      ]
     },
     "execution_count": 66,
     "metadata": {},
     "output_type": "execute_result"
    }
   ],
   "source": [
    "dt_now = datetime.datetime.now().strftime(\"%Y-%m-%d_%H%M%S\")\n",
    "tfsSaver = tf.train.Saver()\n",
    "xstride = 4\n",
    "ystride = 4\n",
    "\n",
    "res_ests = []\n",
    "res_prob = []\n",
    "res_pred = []\n",
    "\n",
    "with tf.Session() as tfs:\n",
    "    tfsSaver.restore(tfs, tf_model_file)\n",
    "    t0 = time.perf_counter()\n",
    "    \n",
    "    num = (fin_image.shape[0] - src_shape[0]) // ystride\n",
    "    test_res = []\n",
    "    for i in range(num):\n",
    "        print('Step {} of {}'.format(i, num))\n",
    "        off = i * ystride\n",
    "        xval = extract_regions_xshift(src[off:(off+src_shape[0])], src_shape[1], xstride)\n",
    "        tmp_res = modutils.runDataset(tfs, xval.reshape(-1, *src_shape, 1),\n",
    "                                        batch_size, set2dict_eval,\n",
    "                                  [graph_descr['out']['logit'], graph_descr['out']['prob']])\n",
    "        \n",
    "        tmp_ests = np.concatenate([x[2][0] for x in tmp_res])\n",
    "        tmp_prob = np.concatenate([x[2][1] for x in tmp_res])\n",
    "        tmp_pred = np.argmax(tmp_prob, axis=1)\n",
    "    t1 = time.perf_counter()\n",
    "        \n",
    "print('Applied model in {:.2f} sec'.format(t1-t0))"
   ]
  },
  {
   "cell_type": "code",
   "execution_count": null,
   "metadata": {},
   "outputs": [],
   "source": []
  }
 ],
 "metadata": {
  "kernelspec": {
   "display_name": "Python 3",
   "language": "python",
   "name": "python3"
  },
  "language_info": {
   "codemirror_mode": {
    "name": "ipython",
    "version": 3
   },
   "file_extension": ".py",
   "mimetype": "text/x-python",
   "name": "python",
   "nbconvert_exporter": "python",
   "pygments_lexer": "ipython3",
   "version": "3.6.1"
  }
 },
 "nbformat": 4,
 "nbformat_minor": 2
}
