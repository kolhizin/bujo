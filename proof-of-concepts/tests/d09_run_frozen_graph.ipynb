{
 "cells": [
  {
   "cell_type": "code",
   "execution_count": 1,
   "metadata": {},
   "outputs": [],
   "source": [
    "import test_config as cfg\n",
    "import numpy as np\n",
    "import itertools, functools\n",
    "\n",
    "%matplotlib inline\n",
    "import matplotlib.pyplot as plt\n",
    "import sys, os, os.path, time, datetime\n",
    "import pickle, io, json\n",
    "\n",
    "import skimage, skimage.io, skimage.transform, skimage.filters\n",
    "import sklearn, sklearn.metrics\n",
    "\n",
    "import importlib\n",
    "sys.path.append('../src/')\n",
    "import modutils\n",
    "import word_processing as wp\n",
    "import tqdm\n",
    "import tensorflow as tf\n",
    "import editdistance"
   ]
  },
  {
   "cell_type": "code",
   "execution_count": 2,
   "metadata": {},
   "outputs": [],
   "source": [
    "class BaseTransformer:\n",
    "    def __init__(self):\n",
    "        pass\n",
    "    def transform(self, x):\n",
    "        return x\n",
    "\n",
    "    \n",
    "class SequentialTransformer:\n",
    "    def __init__(self, *args):\n",
    "        self.stages_ = args\n",
    "        \n",
    "    def transform(self, x):\n",
    "        res = x\n",
    "        for s in self.stages_:\n",
    "            res = s.transform(res)\n",
    "        return res\n",
    "    \n",
    "class LoadImageTransformer(BaseTransformer):\n",
    "    def __init__(self, path):\n",
    "        self.path_ = path\n",
    "        \n",
    "    def transform(self, x):\n",
    "        if type(x) != str:\n",
    "            raise Exception(\"LoadImageTransformer: expects filename as argument!\")\n",
    "        return skimage.io.imread(os.path.join(self.path_, x), as_grey=True)\n",
    "    \n",
    "class ConvertFloatTransformer(BaseTransformer):\n",
    "    def __init__(self, min_value = 0.0, max_value = 1.0):\n",
    "        self.min_ = min_value\n",
    "        self.max_ = max_value\n",
    "        \n",
    "    def transform(self, x):\n",
    "        if x.dtype in (np.float, np.float64, np.float32):\n",
    "            return x\n",
    "        if x.dtype == np.uint8:\n",
    "            return (x / 255.0) * (self.max_ - self.min_) + self.min_\n",
    "        if x.dtype == np.uint16:\n",
    "            return (x / 65535.0) * (self.max_ - self.min_) + self.min_\n",
    "        raise Exception(\"ConvertFloatTransformer: unexpected argument type!\")\n",
    "    \n",
    "class RandomStretchTransformer(BaseTransformer):\n",
    "    def __init__(self, min_scale = 0.66, max_scale = 1.5, fill_value=1.0):\n",
    "        self.max_ = max_scale\n",
    "        self.min_ = min_scale\n",
    "        self.fill_ = fill_value\n",
    "        \n",
    "    def transform(self, x):\n",
    "        f = np.random.uniform(self.min_, self.max_)\n",
    "        return skimage.transform.rescale(x, (1.0, f), mode='constant', cval=self.fill_)\n",
    "    \n",
    "class TransposeTransformer(BaseTransformer):\n",
    "    def __init__(self):\n",
    "        pass\n",
    "    def transform(self, x):\n",
    "        return np.transpose(x)\n",
    "    \n",
    "class FitSizeTransformer(BaseTransformer):\n",
    "    def __init__(self, width, height, fill_value=1.0):\n",
    "        self.w_ = width\n",
    "        self.h_ = height\n",
    "        self.fill_ = fill_value\n",
    "        self.template_ = np.ones((self.h_, self.w_)) * self.fill_\n",
    "        \n",
    "    def transform(self, x):\n",
    "        (h, w) = x.shape\n",
    "        f = max(w / self.w_, h / self.h_)\n",
    "        res = self.template_.copy()\n",
    "        rw = max(min(self.w_, int(w / f)), 1)\n",
    "        rh = max(min(self.h_, int(h / f)), 1)\n",
    "        res[0:rh, 0:rw] = skimage.transform.resize(x, (rh, rw), mode='constant', cval=self.fill_)\n",
    "        return res\n",
    "    \n",
    "class StandardizeTransformer(BaseTransformer):\n",
    "    def __init__(self):\n",
    "        pass\n",
    "    \n",
    "    def transform(self, x):\n",
    "        m = np.mean(x)\n",
    "        s = np.std(x)\n",
    "        if s <= 1e-9:\n",
    "            return x - m\n",
    "        return (x - m) / s\n",
    "    \n",
    "class TruncateLabelTransform(BaseTransformer):\n",
    "    def __init__(self, max_cost):\n",
    "        self.max_cost_ = max_cost\n",
    "        \n",
    "    def transform(self, x):\n",
    "        if type(x) != str:\n",
    "            raise Exception(\"TruncateLabelTransform: input expected to be of type string!\")\n",
    "        cost = 0\n",
    "        for i in range(len(x)):\n",
    "            flg = (i > 0) and (x[i] == x[i-1])\n",
    "            cost += 1 + int(flg)\n",
    "            if cost > max_cost:\n",
    "                return x[:i]\n",
    "        return x\n",
    "    \n",
    "def load_images(path, words, transform):\n",
    "    res = []\n",
    "    for (i, (word, fname)) in enumerate(tqdm.tqdm(words)):\n",
    "        src_image = skimage.io.imread(os.path.join(path, fname), as_grey=True)\n",
    "        res_image = wp.perform_transform(src_image, transform)\n",
    "        res.append(res_image)\n",
    "    return res"
   ]
  },
  {
   "cell_type": "code",
   "execution_count": 4,
   "metadata": {},
   "outputs": [],
   "source": [
    "\n",
    "fname = 'D:/Data/bujo_sample_v2/dataset.json'\n",
    "extraction_path = os.path.join(os.path.dirname(fname),\n",
    "                               os.path.basename(fname).split('.')[0])\n",
    "with open(fname, 'r', encoding='utf-8') as f:\n",
    "    src = json.load(f)\n",
    "    \n",
    "words = wp.extract_words_from_dataset(src, (1,))\n",
    "\n",
    "transform_pipeline = [\n",
    "    {'type':'cutoff', 'cutoff':0.7},\n",
    "    {'type':'trimx'}, {'type':'trimy'}, {'type':'resize', 'y':32}, {'type':'invert'}\n",
    "]"
   ]
  },
  {
   "cell_type": "code",
   "execution_count": 5,
   "metadata": {},
   "outputs": [
    {
     "name": "stderr",
     "output_type": "stream",
     "text": [
      "  0%|                                                                                         | 0/1579 [00:00<?, ?it/s]C:\\Anaconda3\\lib\\site-packages\\skimage\\io\\_io.py:49: UserWarning: `as_grey` has been deprecated in favor of `as_gray`\n",
      "  warn('`as_grey` has been deprecated in favor of `as_gray`')\n",
      "C:\\Anaconda3\\lib\\site-packages\\skimage\\transform\\_warps.py:110: UserWarning: Anti-aliasing will be enabled by default in skimage 0.15 to avoid aliasing artifacts when down-sampling images.\n",
      "  warn(\"Anti-aliasing will be enabled by default in skimage 0.15 to \"\n",
      "100%|██████████████████████████████████████████████████████████████████████████████| 1579/1579 [00:15<00:00, 99.75it/s]\n"
     ]
    }
   ],
   "source": [
    "raw_imgs = load_images('D:/Data/bujo_sample_v2/dataset/', words, transform_pipeline)"
   ]
  },
  {
   "cell_type": "code",
   "execution_count": 6,
   "metadata": {},
   "outputs": [
    {
     "data": {
      "text/plain": [
       "(32, 82)"
      ]
     },
     "execution_count": 6,
     "metadata": {},
     "output_type": "execute_result"
    }
   ],
   "source": [
    "raw_imgs[0].shape"
   ]
  },
  {
   "cell_type": "code",
   "execution_count": 7,
   "metadata": {},
   "outputs": [],
   "source": [
    "model_fname = 'D:/htr-model/frozen_model_v2.pb'"
   ]
  },
  {
   "cell_type": "code",
   "execution_count": 8,
   "metadata": {},
   "outputs": [
    {
     "name": "stdout",
     "output_type": "stream",
     "text": [
      "Loading model...\n",
      "Check out the input placeholders:\n",
      "Placeholder => Placeholder\n",
      "Placeholder_4 => Placeholder\n",
      "Model loading complete!\n"
     ]
    }
   ],
   "source": [
    "print('Loading model...')\n",
    "tf.reset_default_graph()\n",
    "tf_graph = tf.Graph()\n",
    "tf_session = tf.InteractiveSession(graph = tf_graph)\n",
    "\n",
    "with tf.gfile.GFile(model_fname, 'rb') as f:\n",
    "    tf_graph_def = tf.GraphDef()\n",
    "    tf_graph_def.ParseFromString(f.read())\n",
    "\n",
    "print('Check out the input placeholders:')\n",
    "nodes = [n.name + ' => ' +  n.op for n in tf_graph_def.node if n.op in ('Placeholder')]\n",
    "for node in nodes:\n",
    "    print(node)\n",
    "    \n",
    "with tf.Graph().as_default() as tf_graph:\n",
    "    tf.import_graph_def(tf_graph_def, name=\"\")\n",
    "\n",
    "#self.input = tf.placeholder(np.float32, shape = [None, 32, 32, 3], name='input')\n",
    "#self.dropout_rate = tf.placeholder(tf.float32, shape = [], name = 'dropout_rate')\n",
    "\n",
    "#tf.import_graph_def(graph_def, {'input': self.input, 'dropout_rate': self.dropout_rate})\n",
    "print('Model loading complete!')"
   ]
  },
  {
   "cell_type": "code",
   "execution_count": 9,
   "metadata": {},
   "outputs": [],
   "source": [
    "tf.import_graph_def(tf_graph_def, name=\"\")"
   ]
  },
  {
   "cell_type": "code",
   "execution_count": 10,
   "metadata": {},
   "outputs": [],
   "source": [
    "with open('D:/htr-model/frozen_model_v2.info', 'r') as fp:\n",
    "    info = json.load(fp)"
   ]
  },
  {
   "cell_type": "code",
   "execution_count": 11,
   "metadata": {},
   "outputs": [
    {
     "data": {
      "text/plain": [
       "{'chars': '!\"(),-.0123456789:?FLOPTabcdefhiklmnorstuwyАБВГДЕЖЗИКЛМНОПРСТУФЦЧЭЮЯабвгдежзийклмнопрстуфхцчшщъыьэюяё',\n",
       " 'textlen': 32,\n",
       " 'output': 'CTCGreedyDecoder',\n",
       " 'input': {'images': 'Placeholder',\n",
       "  'textlen': 'Placeholder_4',\n",
       "  'is_train': 'is_train'}}"
      ]
     },
     "execution_count": 11,
     "metadata": {},
     "output_type": "execute_result"
    }
   ],
   "source": [
    "info"
   ]
  },
  {
   "cell_type": "code",
   "execution_count": 12,
   "metadata": {},
   "outputs": [],
   "source": [
    "tf_in_images = tf.get_default_graph().get_tensor_by_name(info['input']['images']+':0')\n",
    "tf_in_seqlens = tf.get_default_graph().get_tensor_by_name(info['input']['textlen']+':0')\n",
    "tf_out_ctc0 = tf.get_default_graph().get_tensor_by_name(info['output']+':0')\n",
    "tf_out_ctc1 = tf.get_default_graph().get_tensor_by_name(info['output']+':1')"
   ]
  },
  {
   "cell_type": "code",
   "execution_count": 17,
   "metadata": {},
   "outputs": [],
   "source": [
    "def runBatch(session, imgs, chars):\n",
    "    def decodeOutput(indices, values, batch_size):\n",
    "        encoded_labels = [[] for i in range(batch_size)]\n",
    "\n",
    "        for (k, (i, j)) in enumerate(indices):\n",
    "            encoded_labels[i].append(values[k])\n",
    "\n",
    "        return [''.join([chars[c] for c in x]) for x in encoded_labels]\n",
    "    \n",
    "    batch_size = len(imgs)\n",
    "    evalList = [tf_out_ctc0, tf_out_ctc1]\n",
    "    feedDict = {tf_in_images : imgs,\n",
    "                tf_in_seqlens : [32] * batch_size}\n",
    "    indices, values = session.run(evalList, feedDict)\n",
    "    return decodeOutput(indices, values, batch_size)"
   ]
  },
  {
   "cell_type": "code",
   "execution_count": 14,
   "metadata": {},
   "outputs": [],
   "source": [
    "transform_pipeline_img = SequentialTransformer(\n",
    "    FitSizeTransformer(128, 32),\n",
    "    TransposeTransformer(),\n",
    "    StandardizeTransformer())"
   ]
  },
  {
   "cell_type": "code",
   "execution_count": 15,
   "metadata": {},
   "outputs": [],
   "source": [
    "tmp_imgs = [transform_pipeline_img.transform(x) for x in raw_imgs[:10]]"
   ]
  },
  {
   "cell_type": "code",
   "execution_count": 18,
   "metadata": {},
   "outputs": [
    {
     "name": "stdout",
     "output_type": "stream",
     "text": [
      "0\n"
     ]
    }
   ],
   "source": [
    "tmp = []\n",
    "with tf.Session() as tfs:\n",
    "    for i in range(len(tmp_imgs)//256+1):\n",
    "        s0 = i * 256\n",
    "        s1 = (i+1)*256\n",
    "        print(i)\n",
    "        tmp += runBatch(tfs, tmp_imgs[s0:s1], info['chars'])"
   ]
  },
  {
   "cell_type": "code",
   "execution_count": 19,
   "metadata": {},
   "outputs": [],
   "source": [
    "pred = tmp"
   ]
  },
  {
   "cell_type": "code",
   "execution_count": 20,
   "metadata": {},
   "outputs": [],
   "source": [
    "act = [x[0] for x in words]"
   ]
  },
  {
   "cell_type": "code",
   "execution_count": 21,
   "metadata": {},
   "outputs": [],
   "source": [
    "import editdistance"
   ]
  },
  {
   "cell_type": "code",
   "execution_count": 22,
   "metadata": {},
   "outputs": [],
   "source": [
    "dists = np.array([editdistance.distance(x, y) for (x, y) in zip(pred, act)])"
   ]
  },
  {
   "cell_type": "code",
   "execution_count": 23,
   "metadata": {},
   "outputs": [
    {
     "data": {
      "text/plain": [
       "(10, 4, 4, 9)"
      ]
     },
     "execution_count": 23,
     "metadata": {},
     "output_type": "execute_result"
    }
   ],
   "source": [
    "len(dists), sum(dists==0), sum(dists==1), sum(dists<=2)"
   ]
  },
  {
   "cell_type": "code",
   "execution_count": 24,
   "metadata": {},
   "outputs": [],
   "source": [
    "inputs = list(info['input'].values())\n",
    "outputs = [info['output']]"
   ]
  },
  {
   "cell_type": "code",
   "execution_count": 26,
   "metadata": {},
   "outputs": [],
   "source": [
    "inputs.remove('is_train')"
   ]
  },
  {
   "cell_type": "code",
   "execution_count": 27,
   "metadata": {},
   "outputs": [
    {
     "data": {
      "text/plain": [
       "['Placeholder', 'Placeholder_4']"
      ]
     },
     "execution_count": 27,
     "metadata": {},
     "output_type": "execute_result"
    }
   ],
   "source": [
    "inputs"
   ]
  },
  {
   "cell_type": "code",
   "execution_count": 32,
   "metadata": {},
   "outputs": [],
   "source": [
    "tflite_converter = tf.lite.TFLiteConverter.from_frozen_graph(model_fname, inputs, outputs)\n",
    "#                           input_shapes={'Placeholder_4': [1], 'Placeholder': [1, 128, 32]})"
   ]
  },
  {
   "cell_type": "code",
   "execution_count": 43,
   "metadata": {},
   "outputs": [],
   "source": [
    "tflite_converter = tf.lite.TFLiteConverter(tf_graph_def,\n",
    "                [tf_is_train, tf_in_images, tf_in_seqlens], [tf_out_ctc0, tf_out_ctc1])"
   ]
  },
  {
   "cell_type": "code",
   "execution_count": 31,
   "metadata": {},
   "outputs": [
    {
     "ename": "ConverterError",
     "evalue": "TOCO failed. See console for info.\n2019-07-18 08:58:54.650184: I tensorflow/lite/toco/import_tensorflow.cc:1336] Converting unsupported operation: Enter\n2019-07-18 08:58:54.651238: E tensorflow/core/framework/op_kernel.cc:1426] OpKernel ('op: \"NoOp\" device_type: \"CPU\"') for unknown op: NoOp\n2019-07-18 08:58:54.651865: E tensorflow/core/framework/op_kernel.cc:1426] OpKernel ('op: \"NoOp\" device_type: \"GPU\"') for unknown op: NoOp\n2019-07-18 08:58:54.652451: E tensorflow/core/framework/op_kernel.cc:1426] OpKernel ('op: \"_HostRecv\" device_type: \"GPU\" host_memory_arg: \"tensor\"') for unknown op: _HostRecv\n2019-07-18 08:58:54.653257: E tensorflow/core/framework/op_kernel.cc:1426] OpKernel ('op: \"_Send\" device_type: \"CPU\"') for unknown op: _Send\n2019-07-18 08:58:54.653649: E tensorflow/core/framework/op_kernel.cc:1426] OpKernel ('op: \"_HostRecv\" device_type: \"CPU\"') for unknown op: _HostRecv\n2019-07-18 08:58:54.654011: E tensorflow/core/framework/op_kernel.cc:1426] OpKernel ('op: \"_Send\" device_type: \"GPU\"') for unknown op: _Send\n2019-07-18 08:58:54.654381: E tensorflow/core/framework/op_kernel.cc:1426] OpKernel ('op: \"_Recv\" device_type: \"CPU\"') for unknown op: _Recv\n2019-07-18 08:58:54.654757: E tensorflow/core/framework/op_kernel.cc:1426] OpKernel ('op: \"_HostSend\" device_type: \"GPU\" host_memory_arg: \"tensor\"') for unknown op: _HostSend\n2019-07-18 08:58:54.655493: E tensorflow/core/framework/op_kernel.cc:1426] OpKernel ('op: \"_Recv\" device_type: \"GPU\"') for unknown op: _Recv\n2019-07-18 08:58:54.655992: E tensorflow/core/framework/op_kernel.cc:1426] OpKernel ('op: \"_HostSend\" device_type: \"CPU\"') for unknown op: _HostSend\n2019-07-18 08:58:54.656574: E tensorflow/core/framework/op_kernel.cc:1426] OpKernel ('op: \"WrapDatasetVariant\" device_type: \"CPU\"') for unknown op: WrapDatasetVariant\n2019-07-18 08:58:54.657291: E tensorflow/core/framework/op_kernel.cc:1426] OpKernel ('op: \"WrapDatasetVariant\" device_type: \"GPU\" host_memory_arg: \"input_handle\" host_memory_arg: \"output_handle\"') for unknown op: WrapDatasetVariant\n2019-07-18 08:58:54.658280: E tensorflow/core/framework/op_kernel.cc:1426] OpKernel ('op: \"UnwrapDatasetVariant\" device_type: \"CPU\"') for unknown op: UnwrapDatasetVariant\n2019-07-18 08:58:54.658796: E tensorflow/core/framework/op_kernel.cc:1426] OpKernel ('op: \"UnwrapDatasetVariant\" device_type: \"GPU\" host_memory_arg: \"input_handle\" host_memory_arg: \"output_handle\"') for unknown op: UnwrapDatasetVariant\n2019-07-18 08:58:54.660065: I tensorflow/lite/toco/import_tensorflow.cc:1385] Unable to determine output type for op: Enter\n2019-07-18 08:58:54.660539: I tensorflow/lite/toco/import_tensorflow.cc:1336] Converting unsupported operation: Enter\n2019-07-18 08:58:54.661034: I tensorflow/lite/toco/import_tensorflow.cc:1385] Unable to determine output type for op: Enter\n2019-07-18 08:58:54.661458: I tensorflow/lite/toco/import_tensorflow.cc:1336] Converting unsupported operation: Enter\n2019-07-18 08:58:54.661769: I tensorflow/lite/toco/import_tensorflow.cc:1385] Unable to determine output type for op: Enter\n2019-07-18 08:58:54.662485: I tensorflow/lite/toco/import_tensorflow.cc:1336] Converting unsupported operation: Enter\n2019-07-18 08:58:54.663072: I tensorflow/lite/toco/import_tensorflow.cc:1385] Unable to determine output type for op: Enter\n2019-07-18 08:58:54.663382: I tensorflow/lite/toco/import_tensorflow.cc:1336] Converting unsupported operation: Enter\n2019-07-18 08:58:54.663867: I tensorflow/lite/toco/import_tensorflow.cc:1385] Unable to determine output type for op: Enter\n2019-07-18 08:58:54.664245: I tensorflow/lite/toco/import_tensorflow.cc:1336] Converting unsupported operation: Enter\n2019-07-18 08:58:54.664605: I tensorflow/lite/toco/import_tensorflow.cc:1385] Unable to determine output type for op: Enter\n2019-07-18 08:58:54.664933: I tensorflow/lite/toco/import_tensorflow.cc:1336] Converting unsupported operation: Enter\n2019-07-18 08:58:54.665316: I tensorflow/lite/toco/import_tensorflow.cc:1385] Unable to determine output type for op: Enter\n2019-07-18 08:58:54.665840: I tensorflow/lite/toco/import_tensorflow.cc:1336] Converting unsupported operation: Enter\n2019-07-18 08:58:54.666211: I tensorflow/lite/toco/import_tensorflow.cc:1385] Unable to determine output type for op: Enter\n2019-07-18 08:58:54.666525: I tensorflow/lite/toco/import_tensorflow.cc:1336] Converting unsupported operation: Enter\n2019-07-18 08:58:54.666852: I tensorflow/lite/toco/import_tensorflow.cc:1385] Unable to determine output type for op: Enter\n2019-07-18 08:58:54.667203: I tensorflow/lite/toco/import_tensorflow.cc:1336] Converting unsupported operation: Enter\n2019-07-18 08:58:54.667550: I tensorflow/lite/toco/import_tensorflow.cc:1385] Unable to determine output type for op: Enter\n2019-07-18 08:58:54.667910: I tensorflow/lite/toco/import_tensorflow.cc:1336] Converting unsupported operation: Enter\n2019-07-18 08:58:54.668813: I tensorflow/lite/toco/import_tensorflow.cc:1385] Unable to determine output type for op: Enter\n2019-07-18 08:58:54.669360: I tensorflow/lite/toco/import_tensorflow.cc:1336] Converting unsupported operation: Enter\n2019-07-18 08:58:54.669979: I tensorflow/lite/toco/import_tensorflow.cc:1385] Unable to determine output type for op: Enter\n2019-07-18 08:58:54.673665: I tensorflow/lite/toco/import_tensorflow.cc:1336] Converting unsupported operation: TensorArrayV3\n2019-07-18 08:58:54.674292: I tensorflow/lite/toco/import_tensorflow.cc:1385] Unable to determine output type for op: TensorArrayV3\n2019-07-18 08:58:54.674865: I tensorflow/lite/toco/import_tensorflow.cc:1336] Converting unsupported operation: TensorArrayV3\n2019-07-18 08:58:54.675419: I tensorflow/lite/toco/import_tensorflow.cc:1385] Unable to determine output type for op: TensorArrayV3\n2019-07-18 08:58:54.676021: I tensorflow/lite/toco/import_tensorflow.cc:1336] Converting unsupported operation: Enter\n2019-07-18 08:58:54.676552: I tensorflow/lite/toco/import_tensorflow.cc:1385] Unable to determine output type for op: Enter\n2019-07-18 08:58:54.677071: I tensorflow/lite/toco/import_tensorflow.cc:1336] Converting unsupported operation: Enter\n2019-07-18 08:58:54.677506: I tensorflow/lite/toco/import_tensorflow.cc:1385] Unable to determine output type for op: Enter\n2019-07-18 08:58:54.677860: I tensorflow/lite/toco/import_tensorflow.cc:1336] Converting unsupported operation: Enter\n2019-07-18 08:58:54.678243: I tensorflow/lite/toco/import_tensorflow.cc:1385] Unable to determine output type for op: Enter\n2019-07-18 08:58:54.678544: I tensorflow/lite/toco/import_tensorflow.cc:1336] Converting unsupported operation: Enter\n2019-07-18 08:58:54.678857: I tensorflow/lite/toco/import_tensorflow.cc:1385] Unable to determine output type for op: Enter\n2019-07-18 08:58:54.679205: I tensorflow/lite/toco/import_tensorflow.cc:1336] Converting unsupported operation: TensorArrayScatterV3\n2019-07-18 08:58:54.679519: I tensorflow/lite/toco/import_tensorflow.cc:1385] Unable to determine output type for op: TensorArrayScatterV3\n2019-07-18 08:58:54.679881: I tensorflow/lite/toco/import_tensorflow.cc:1336] Converting unsupported operation: TensorArrayV3\n2019-07-18 08:58:54.680303: I tensorflow/lite/toco/import_tensorflow.cc:1385] Unable to determine output type for op: TensorArrayV3\n2019-07-18 08:58:54.680853: I tensorflow/lite/toco/import_tensorflow.cc:1336] Converting unsupported operation: TensorArrayV3\n2019-07-18 08:58:54.681330: I tensorflow/lite/toco/import_tensorflow.cc:1385] Unable to determine output type for op: TensorArrayV3\n2019-07-18 08:58:54.681980: I tensorflow/lite/toco/import_tensorflow.cc:1336] Converting unsupported operation: Enter\n2019-07-18 08:58:54.682465: I tensorflow/lite/toco/import_tensorflow.cc:1385] Unable to determine output type for op: Enter\n2019-07-18 08:58:54.683032: I tensorflow/lite/toco/import_tensorflow.cc:1336] Converting unsupported operation: Enter\n2019-07-18 08:58:54.683503: I tensorflow/lite/toco/import_tensorflow.cc:1385] Unable to determine output type for op: Enter\n2019-07-18 08:58:54.684063: I tensorflow/lite/toco/import_tensorflow.cc:1336] Converting unsupported operation: Enter\n2019-07-18 08:58:54.684401: I tensorflow/lite/toco/import_tensorflow.cc:1385] Unable to determine output type for op: Enter\n2019-07-18 08:58:54.684719: I tensorflow/lite/toco/import_tensorflow.cc:1336] Converting unsupported operation: Enter\n2019-07-18 08:58:54.685032: I tensorflow/lite/toco/import_tensorflow.cc:1385] Unable to determine output type for op: Enter\n2019-07-18 08:58:54.685465: I tensorflow/lite/toco/import_tensorflow.cc:1336] Converting unsupported operation: Enter\n2019-07-18 08:58:54.685959: I tensorflow/lite/toco/import_tensorflow.cc:1385] Unable to determine output type for op: Enter\n2019-07-18 08:58:54.686433: I tensorflow/lite/toco/import_tensorflow.cc:1336] Converting unsupported operation: Enter\n2019-07-18 08:58:54.686917: I tensorflow/lite/toco/import_tensorflow.cc:1385] Unable to determine output type for op: Enter\n2019-07-18 08:58:54.687410: I tensorflow/lite/toco/import_tensorflow.cc:1336] Converting unsupported operation: TensorArrayScatterV3\n2019-07-18 08:58:54.687981: I tensorflow/lite/toco/import_tensorflow.cc:1385] Unable to determine output type for op: TensorArrayScatterV3\n2019-07-18 08:58:54.688560: I tensorflow/lite/toco/import_tensorflow.cc:1336] Converting unsupported operation: Enter\n2019-07-18 08:58:54.689097: I tensorflow/lite/toco/import_tensorflow.cc:1385] Unable to determine output type for op: Enter\n2019-07-18 08:58:54.689608: I tensorflow/lite/toco/import_tensorflow.cc:1336] Converting unsupported operation: Enter\n2019-07-18 08:58:54.689941: I tensorflow/lite/toco/import_tensorflow.cc:1385] Unable to determine output type for op: Enter\n2019-07-18 08:58:54.690220: I tensorflow/lite/toco/import_tensorflow.cc:1336] Converting unsupported operation: Enter\n2019-07-18 08:58:54.690457: I tensorflow/lite/toco/import_tensorflow.cc:1385] Unable to determine output type for op: Enter\n2019-07-18 08:58:54.691021: I tensorflow/lite/toco/import_tensorflow.cc:1336] Converting unsupported operation: Enter\n2019-07-18 08:58:54.691520: I tensorflow/lite/toco/import_tensorflow.cc:1385] Unable to determine output type for op: Enter\n2019-07-18 08:58:54.692119: I tensorflow/lite/toco/import_tensorflow.cc:1336] Converting unsupported operation: Enter\n2019-07-18 08:58:54.692590: I tensorflow/lite/toco/import_tensorflow.cc:1385] Unable to determine output type for op: Enter\n2019-07-18 08:58:54.693127: I tensorflow/lite/toco/import_tensorflow.cc:1336] Converting unsupported operation: Enter\n2019-07-18 08:58:54.693688: I tensorflow/lite/toco/import_tensorflow.cc:1385] Unable to determine output type for op: Enter\n2019-07-18 08:58:54.694179: I tensorflow/lite/toco/import_tensorflow.cc:1336] Converting unsupported operation: Enter\n2019-07-18 08:58:54.694726: I tensorflow/lite/toco/import_tensorflow.cc:1385] Unable to determine output type for op: Enter\n2019-07-18 08:58:54.695058: I tensorflow/lite/toco/import_tensorflow.cc:1336] Converting unsupported operation: Enter\n2019-07-18 08:58:54.695382: I tensorflow/lite/toco/import_tensorflow.cc:1385] Unable to determine output type for op: Enter\n2019-07-18 08:58:54.695735: I tensorflow/lite/toco/import_tensorflow.cc:1336] Converting unsupported operation: Enter\n2019-07-18 08:58:54.695999: I tensorflow/lite/toco/import_tensorflow.cc:1385] Unable to determine output type for op: Enter\n2019-07-18 08:58:54.696267: I tensorflow/lite/toco/import_tensorflow.cc:1336] Converting unsupported operation: Enter\n2019-07-18 08:58:54.696529: I tensorflow/lite/toco/import_tensorflow.cc:1385] Unable to determine output type for op: Enter\n2019-07-18 08:58:54.697100: I tensorflow/lite/toco/import_tensorflow.cc:1336] Converting unsupported operation: LoopCond\n2019-07-18 08:58:54.697598: I tensorflow/lite/toco/import_tensorflow.cc:1385] Unable to determine output type for op: LoopCond\n2019-07-18 08:58:54.698212: I tensorflow/lite/toco/import_tensorflow.cc:1336] Converting unsupported operation: LoopCond\n2019-07-18 08:58:54.698548: I tensorflow/lite/toco/import_tensorflow.cc:1385] Unable to determine output type for op: LoopCond\n2019-07-18 08:58:54.699173: I tensorflow/lite/toco/import_tensorflow.cc:1336] Converting unsupported operation: Exit\n2019-07-18 08:58:54.699641: I tensorflow/lite/toco/import_tensorflow.cc:1385] Unable to determine output type for op: Exit\n2019-07-18 08:58:54.700378: I tensorflow/lite/toco/import_tensorflow.cc:1336] Converting unsupported operation: TensorArrayReadV3\n2019-07-18 08:58:54.701009: I tensorflow/lite/toco/import_tensorflow.cc:1385] Unable to determine output type for op: TensorArrayReadV3\n2019-07-18 08:58:54.701591: I tensorflow/lite/toco/import_tensorflow.cc:1336] Converting unsupported operation: TensorArraySizeV3\n2019-07-18 08:58:54.702233: I tensorflow/lite/toco/import_tensorflow.cc:1385] Unable to determine output type for op: TensorArraySizeV3\n2019-07-18 08:58:54.702624: I tensorflow/lite/toco/import_tensorflow.cc:1336] Converting unsupported operation: Exit\n2019-07-18 08:58:54.703217: I tensorflow/lite/toco/import_tensorflow.cc:1385] Unable to determine output type for op: Exit\n2019-07-18 08:58:54.703878: I tensorflow/lite/toco/import_tensorflow.cc:1336] Converting unsupported operation: TensorArrayReadV3\n2019-07-18 08:58:54.704436: I tensorflow/lite/toco/import_tensorflow.cc:1385] Unable to determine output type for op: TensorArrayReadV3\n2019-07-18 08:58:54.705154: I tensorflow/lite/toco/import_tensorflow.cc:1336] Converting unsupported operation: TensorArraySizeV3\n2019-07-18 08:58:54.705841: I tensorflow/lite/toco/import_tensorflow.cc:1385] Unable to determine output type for op: TensorArraySizeV3\n2019-07-18 08:58:54.706615: I tensorflow/lite/toco/import_tensorflow.cc:1336] Converting unsupported operation: TensorArrayGatherV3\n2019-07-18 08:58:54.707252: I tensorflow/lite/toco/import_tensorflow.cc:1385] Unable to determine output type for op: TensorArrayGatherV3\n2019-07-18 08:58:54.707756: I tensorflow/lite/toco/import_tensorflow.cc:1336] Converting unsupported operation: TensorArrayGatherV3\n2019-07-18 08:58:54.708118: I tensorflow/lite/toco/import_tensorflow.cc:1385] Unable to determine output type for op: TensorArrayGatherV3\n2019-07-18 08:58:54.708702: I tensorflow/lite/toco/import_tensorflow.cc:1336] Converting unsupported operation: CTCGreedyDecoder\n2019-07-18 08:58:54.709401: I tensorflow/lite/toco/import_tensorflow.cc:1385] Unable to determine output type for op: CTCGreedyDecoder\n2019-07-18 08:58:54.710122: I tensorflow/lite/toco/import_tensorflow.cc:1336] Converting unsupported operation: TensorArrayWriteV3\n2019-07-18 08:58:54.710679: I tensorflow/lite/toco/import_tensorflow.cc:1385] Unable to determine output type for op: TensorArrayWriteV3\n2019-07-18 08:58:54.711330: I tensorflow/lite/toco/import_tensorflow.cc:1336] Converting unsupported operation: TensorArrayWriteV3\n2019-07-18 08:58:54.711951: I tensorflow/lite/toco/import_tensorflow.cc:1385] Unable to determine output type for op: TensorArrayWriteV3\n2019-07-18 08:58:54.724526: I tensorflow/lite/toco/graph_transformations/graph_transformations.cc:39] Before Removing unused ops: 314 operators, 532 arrays (0 quantized)\n2019-07-18 08:58:54.739684: I tensorflow/lite/toco/graph_transformations/graph_transformations.cc:39] After Removing unused ops pass 1: 302 operators, 516 arrays (0 quantized)\n2019-07-18 08:58:54.759586: I tensorflow/lite/toco/graph_transformations/graph_transformations.cc:39] Before general graph transformations: 302 operators, 516 arrays (0 quantized)\n2019-07-18 08:58:54.762887: F tensorflow/lite/toco/graph_transformations/resolve_tensorflow_switch.cc:98] Check failed: other_op->type == OperatorType::kMerge Found Mul as non-selected output from Switch, but only Merge supported.\nFatal Python error: Aborted\n\nCurrent thread 0x00001154 (most recent call first):\n  File \"c:\\anaconda3\\lib\\site-packages\\tensorflow\\lite\\toco\\python\\toco_from_protos.py\", line 33 in execute\n  File \"c:\\anaconda3\\lib\\site-packages\\absl\\app.py\", line 251 in _run_main\n  File \"c:\\anaconda3\\lib\\site-packages\\absl\\app.py\", line 300 in run\n  File \"c:\\anaconda3\\lib\\site-packages\\tensorflow\\python\\platform\\app.py\", line 40 in run\n  File \"c:\\anaconda3\\lib\\site-packages\\tensorflow\\lite\\toco\\python\\toco_from_protos.py\", line 59 in main\n  File \"C:\\Anaconda3\\Scripts\\toco_from_protos.exe\\__main__.py\", line 9 in <module>\n  File \"c:\\anaconda3\\lib\\runpy.py\", line 85 in _run_code\n  File \"c:\\anaconda3\\lib\\runpy.py\", line 193 in _run_module_as_main\n\n\n",
     "output_type": "error",
     "traceback": [
      "\u001b[1;31m---------------------------------------------------------------------------\u001b[0m",
      "\u001b[1;31mConverterError\u001b[0m                            Traceback (most recent call last)",
      "\u001b[1;32m<ipython-input-31-c6501403a913>\u001b[0m in \u001b[0;36m<module>\u001b[1;34m\u001b[0m\n\u001b[1;32m----> 1\u001b[1;33m \u001b[0mtflite_model\u001b[0m \u001b[1;33m=\u001b[0m \u001b[0mtflite_converter\u001b[0m\u001b[1;33m.\u001b[0m\u001b[0mconvert\u001b[0m\u001b[1;33m(\u001b[0m\u001b[1;33m)\u001b[0m\u001b[1;33m\u001b[0m\u001b[1;33m\u001b[0m\u001b[0m\n\u001b[0m",
      "\u001b[1;32mC:\\Anaconda3\\lib\\site-packages\\tensorflow\\lite\\python\\lite.py\u001b[0m in \u001b[0;36mconvert\u001b[1;34m(self)\u001b[0m\n\u001b[0;32m    896\u001b[0m           \u001b[0minput_tensors\u001b[0m\u001b[1;33m=\u001b[0m\u001b[0mself\u001b[0m\u001b[1;33m.\u001b[0m\u001b[0m_input_tensors\u001b[0m\u001b[1;33m,\u001b[0m\u001b[1;33m\u001b[0m\u001b[1;33m\u001b[0m\u001b[0m\n\u001b[0;32m    897\u001b[0m           \u001b[0moutput_tensors\u001b[0m\u001b[1;33m=\u001b[0m\u001b[0mself\u001b[0m\u001b[1;33m.\u001b[0m\u001b[0m_output_tensors\u001b[0m\u001b[1;33m,\u001b[0m\u001b[1;33m\u001b[0m\u001b[1;33m\u001b[0m\u001b[0m\n\u001b[1;32m--> 898\u001b[1;33m           **converter_kwargs)\n\u001b[0m\u001b[0;32m    899\u001b[0m     \u001b[1;32melse\u001b[0m\u001b[1;33m:\u001b[0m\u001b[1;33m\u001b[0m\u001b[1;33m\u001b[0m\u001b[0m\n\u001b[0;32m    900\u001b[0m       result = _toco_convert_graph_def(\n",
      "\u001b[1;32mC:\\Anaconda3\\lib\\site-packages\\tensorflow\\lite\\python\\convert.py\u001b[0m in \u001b[0;36mtoco_convert_impl\u001b[1;34m(input_data, input_tensors, output_tensors, *args, **kwargs)\u001b[0m\n\u001b[0;32m    402\u001b[0m   data = toco_convert_protos(model_flags.SerializeToString(),\n\u001b[0;32m    403\u001b[0m                              \u001b[0mtoco_flags\u001b[0m\u001b[1;33m.\u001b[0m\u001b[0mSerializeToString\u001b[0m\u001b[1;33m(\u001b[0m\u001b[1;33m)\u001b[0m\u001b[1;33m,\u001b[0m\u001b[1;33m\u001b[0m\u001b[1;33m\u001b[0m\u001b[0m\n\u001b[1;32m--> 404\u001b[1;33m                              input_data.SerializeToString())\n\u001b[0m\u001b[0;32m    405\u001b[0m   \u001b[1;32mreturn\u001b[0m \u001b[0mdata\u001b[0m\u001b[1;33m\u001b[0m\u001b[1;33m\u001b[0m\u001b[0m\n\u001b[0;32m    406\u001b[0m \u001b[1;33m\u001b[0m\u001b[0m\n",
      "\u001b[1;32mC:\\Anaconda3\\lib\\site-packages\\tensorflow\\lite\\python\\convert.py\u001b[0m in \u001b[0;36mtoco_convert_protos\u001b[1;34m(model_flags_str, toco_flags_str, input_data_str)\u001b[0m\n\u001b[0;32m    170\u001b[0m       \u001b[0mstderr\u001b[0m \u001b[1;33m=\u001b[0m \u001b[0m_try_convert_to_unicode\u001b[0m\u001b[1;33m(\u001b[0m\u001b[0mstderr\u001b[0m\u001b[1;33m)\u001b[0m\u001b[1;33m\u001b[0m\u001b[1;33m\u001b[0m\u001b[0m\n\u001b[0;32m    171\u001b[0m       raise ConverterError(\n\u001b[1;32m--> 172\u001b[1;33m           \"TOCO failed. See console for info.\\n%s\\n%s\\n\" % (stdout, stderr))\n\u001b[0m\u001b[0;32m    173\u001b[0m   \u001b[1;32mfinally\u001b[0m\u001b[1;33m:\u001b[0m\u001b[1;33m\u001b[0m\u001b[1;33m\u001b[0m\u001b[0m\n\u001b[0;32m    174\u001b[0m     \u001b[1;31m# Must manually cleanup files.\u001b[0m\u001b[1;33m\u001b[0m\u001b[1;33m\u001b[0m\u001b[1;33m\u001b[0m\u001b[0m\n",
      "\u001b[1;31mConverterError\u001b[0m: TOCO failed. See console for info.\n2019-07-18 08:58:54.650184: I tensorflow/lite/toco/import_tensorflow.cc:1336] Converting unsupported operation: Enter\n2019-07-18 08:58:54.651238: E tensorflow/core/framework/op_kernel.cc:1426] OpKernel ('op: \"NoOp\" device_type: \"CPU\"') for unknown op: NoOp\n2019-07-18 08:58:54.651865: E tensorflow/core/framework/op_kernel.cc:1426] OpKernel ('op: \"NoOp\" device_type: \"GPU\"') for unknown op: NoOp\n2019-07-18 08:58:54.652451: E tensorflow/core/framework/op_kernel.cc:1426] OpKernel ('op: \"_HostRecv\" device_type: \"GPU\" host_memory_arg: \"tensor\"') for unknown op: _HostRecv\n2019-07-18 08:58:54.653257: E tensorflow/core/framework/op_kernel.cc:1426] OpKernel ('op: \"_Send\" device_type: \"CPU\"') for unknown op: _Send\n2019-07-18 08:58:54.653649: E tensorflow/core/framework/op_kernel.cc:1426] OpKernel ('op: \"_HostRecv\" device_type: \"CPU\"') for unknown op: _HostRecv\n2019-07-18 08:58:54.654011: E tensorflow/core/framework/op_kernel.cc:1426] OpKernel ('op: \"_Send\" device_type: \"GPU\"') for unknown op: _Send\n2019-07-18 08:58:54.654381: E tensorflow/core/framework/op_kernel.cc:1426] OpKernel ('op: \"_Recv\" device_type: \"CPU\"') for unknown op: _Recv\n2019-07-18 08:58:54.654757: E tensorflow/core/framework/op_kernel.cc:1426] OpKernel ('op: \"_HostSend\" device_type: \"GPU\" host_memory_arg: \"tensor\"') for unknown op: _HostSend\n2019-07-18 08:58:54.655493: E tensorflow/core/framework/op_kernel.cc:1426] OpKernel ('op: \"_Recv\" device_type: \"GPU\"') for unknown op: _Recv\n2019-07-18 08:58:54.655992: E tensorflow/core/framework/op_kernel.cc:1426] OpKernel ('op: \"_HostSend\" device_type: \"CPU\"') for unknown op: _HostSend\n2019-07-18 08:58:54.656574: E tensorflow/core/framework/op_kernel.cc:1426] OpKernel ('op: \"WrapDatasetVariant\" device_type: \"CPU\"') for unknown op: WrapDatasetVariant\n2019-07-18 08:58:54.657291: E tensorflow/core/framework/op_kernel.cc:1426] OpKernel ('op: \"WrapDatasetVariant\" device_type: \"GPU\" host_memory_arg: \"input_handle\" host_memory_arg: \"output_handle\"') for unknown op: WrapDatasetVariant\n2019-07-18 08:58:54.658280: E tensorflow/core/framework/op_kernel.cc:1426] OpKernel ('op: \"UnwrapDatasetVariant\" device_type: \"CPU\"') for unknown op: UnwrapDatasetVariant\n2019-07-18 08:58:54.658796: E tensorflow/core/framework/op_kernel.cc:1426] OpKernel ('op: \"UnwrapDatasetVariant\" device_type: \"GPU\" host_memory_arg: \"input_handle\" host_memory_arg: \"output_handle\"') for unknown op: UnwrapDatasetVariant\n2019-07-18 08:58:54.660065: I tensorflow/lite/toco/import_tensorflow.cc:1385] Unable to determine output type for op: Enter\n2019-07-18 08:58:54.660539: I tensorflow/lite/toco/import_tensorflow.cc:1336] Converting unsupported operation: Enter\n2019-07-18 08:58:54.661034: I tensorflow/lite/toco/import_tensorflow.cc:1385] Unable to determine output type for op: Enter\n2019-07-18 08:58:54.661458: I tensorflow/lite/toco/import_tensorflow.cc:1336] Converting unsupported operation: Enter\n2019-07-18 08:58:54.661769: I tensorflow/lite/toco/import_tensorflow.cc:1385] Unable to determine output type for op: Enter\n2019-07-18 08:58:54.662485: I tensorflow/lite/toco/import_tensorflow.cc:1336] Converting unsupported operation: Enter\n2019-07-18 08:58:54.663072: I tensorflow/lite/toco/import_tensorflow.cc:1385] Unable to determine output type for op: Enter\n2019-07-18 08:58:54.663382: I tensorflow/lite/toco/import_tensorflow.cc:1336] Converting unsupported operation: Enter\n2019-07-18 08:58:54.663867: I tensorflow/lite/toco/import_tensorflow.cc:1385] Unable to determine output type for op: Enter\n2019-07-18 08:58:54.664245: I tensorflow/lite/toco/import_tensorflow.cc:1336] Converting unsupported operation: Enter\n2019-07-18 08:58:54.664605: I tensorflow/lite/toco/import_tensorflow.cc:1385] Unable to determine output type for op: Enter\n2019-07-18 08:58:54.664933: I tensorflow/lite/toco/import_tensorflow.cc:1336] Converting unsupported operation: Enter\n2019-07-18 08:58:54.665316: I tensorflow/lite/toco/import_tensorflow.cc:1385] Unable to determine output type for op: Enter\n2019-07-18 08:58:54.665840: I tensorflow/lite/toco/import_tensorflow.cc:1336] Converting unsupported operation: Enter\n2019-07-18 08:58:54.666211: I tensorflow/lite/toco/import_tensorflow.cc:1385] Unable to determine output type for op: Enter\n2019-07-18 08:58:54.666525: I tensorflow/lite/toco/import_tensorflow.cc:1336] Converting unsupported operation: Enter\n2019-07-18 08:58:54.666852: I tensorflow/lite/toco/import_tensorflow.cc:1385] Unable to determine output type for op: Enter\n2019-07-18 08:58:54.667203: I tensorflow/lite/toco/import_tensorflow.cc:1336] Converting unsupported operation: Enter\n2019-07-18 08:58:54.667550: I tensorflow/lite/toco/import_tensorflow.cc:1385] Unable to determine output type for op: Enter\n2019-07-18 08:58:54.667910: I tensorflow/lite/toco/import_tensorflow.cc:1336] Converting unsupported operation: Enter\n2019-07-18 08:58:54.668813: I tensorflow/lite/toco/import_tensorflow.cc:1385] Unable to determine output type for op: Enter\n2019-07-18 08:58:54.669360: I tensorflow/lite/toco/import_tensorflow.cc:1336] Converting unsupported operation: Enter\n2019-07-18 08:58:54.669979: I tensorflow/lite/toco/import_tensorflow.cc:1385] Unable to determine output type for op: Enter\n2019-07-18 08:58:54.673665: I tensorflow/lite/toco/import_tensorflow.cc:1336] Converting unsupported operation: TensorArrayV3\n2019-07-18 08:58:54.674292: I tensorflow/lite/toco/import_tensorflow.cc:1385] Unable to determine output type for op: TensorArrayV3\n2019-07-18 08:58:54.674865: I tensorflow/lite/toco/import_tensorflow.cc:1336] Converting unsupported operation: TensorArrayV3\n2019-07-18 08:58:54.675419: I tensorflow/lite/toco/import_tensorflow.cc:1385] Unable to determine output type for op: TensorArrayV3\n2019-07-18 08:58:54.676021: I tensorflow/lite/toco/import_tensorflow.cc:1336] Converting unsupported operation: Enter\n2019-07-18 08:58:54.676552: I tensorflow/lite/toco/import_tensorflow.cc:1385] Unable to determine output type for op: Enter\n2019-07-18 08:58:54.677071: I tensorflow/lite/toco/import_tensorflow.cc:1336] Converting unsupported operation: Enter\n2019-07-18 08:58:54.677506: I tensorflow/lite/toco/import_tensorflow.cc:1385] Unable to determine output type for op: Enter\n2019-07-18 08:58:54.677860: I tensorflow/lite/toco/import_tensorflow.cc:1336] Converting unsupported operation: Enter\n2019-07-18 08:58:54.678243: I tensorflow/lite/toco/import_tensorflow.cc:1385] Unable to determine output type for op: Enter\n2019-07-18 08:58:54.678544: I tensorflow/lite/toco/import_tensorflow.cc:1336] Converting unsupported operation: Enter\n2019-07-18 08:58:54.678857: I tensorflow/lite/toco/import_tensorflow.cc:1385] Unable to determine output type for op: Enter\n2019-07-18 08:58:54.679205: I tensorflow/lite/toco/import_tensorflow.cc:1336] Converting unsupported operation: TensorArrayScatterV3\n2019-07-18 08:58:54.679519: I tensorflow/lite/toco/import_tensorflow.cc:1385] Unable to determine output type for op: TensorArrayScatterV3\n2019-07-18 08:58:54.679881: I tensorflow/lite/toco/import_tensorflow.cc:1336] Converting unsupported operation: TensorArrayV3\n2019-07-18 08:58:54.680303: I tensorflow/lite/toco/import_tensorflow.cc:1385] Unable to determine output type for op: TensorArrayV3\n2019-07-18 08:58:54.680853: I tensorflow/lite/toco/import_tensorflow.cc:1336] Converting unsupported operation: TensorArrayV3\n2019-07-18 08:58:54.681330: I tensorflow/lite/toco/import_tensorflow.cc:1385] Unable to determine output type for op: TensorArrayV3\n2019-07-18 08:58:54.681980: I tensorflow/lite/toco/import_tensorflow.cc:1336] Converting unsupported operation: Enter\n2019-07-18 08:58:54.682465: I tensorflow/lite/toco/import_tensorflow.cc:1385] Unable to determine output type for op: Enter\n2019-07-18 08:58:54.683032: I tensorflow/lite/toco/import_tensorflow.cc:1336] Converting unsupported operation: Enter\n2019-07-18 08:58:54.683503: I tensorflow/lite/toco/import_tensorflow.cc:1385] Unable to determine output type for op: Enter\n2019-07-18 08:58:54.684063: I tensorflow/lite/toco/import_tensorflow.cc:1336] Converting unsupported operation: Enter\n2019-07-18 08:58:54.684401: I tensorflow/lite/toco/import_tensorflow.cc:1385] Unable to determine output type for op: Enter\n2019-07-18 08:58:54.684719: I tensorflow/lite/toco/import_tensorflow.cc:1336] Converting unsupported operation: Enter\n2019-07-18 08:58:54.685032: I tensorflow/lite/toco/import_tensorflow.cc:1385] Unable to determine output type for op: Enter\n2019-07-18 08:58:54.685465: I tensorflow/lite/toco/import_tensorflow.cc:1336] Converting unsupported operation: Enter\n2019-07-18 08:58:54.685959: I tensorflow/lite/toco/import_tensorflow.cc:1385] Unable to determine output type for op: Enter\n2019-07-18 08:58:54.686433: I tensorflow/lite/toco/import_tensorflow.cc:1336] Converting unsupported operation: Enter\n2019-07-18 08:58:54.686917: I tensorflow/lite/toco/import_tensorflow.cc:1385] Unable to determine output type for op: Enter\n2019-07-18 08:58:54.687410: I tensorflow/lite/toco/import_tensorflow.cc:1336] Converting unsupported operation: TensorArrayScatterV3\n2019-07-18 08:58:54.687981: I tensorflow/lite/toco/import_tensorflow.cc:1385] Unable to determine output type for op: TensorArrayScatterV3\n2019-07-18 08:58:54.688560: I tensorflow/lite/toco/import_tensorflow.cc:1336] Converting unsupported operation: Enter\n2019-07-18 08:58:54.689097: I tensorflow/lite/toco/import_tensorflow.cc:1385] Unable to determine output type for op: Enter\n2019-07-18 08:58:54.689608: I tensorflow/lite/toco/import_tensorflow.cc:1336] Converting unsupported operation: Enter\n2019-07-18 08:58:54.689941: I tensorflow/lite/toco/import_tensorflow.cc:1385] Unable to determine output type for op: Enter\n2019-07-18 08:58:54.690220: I tensorflow/lite/toco/import_tensorflow.cc:1336] Converting unsupported operation: Enter\n2019-07-18 08:58:54.690457: I tensorflow/lite/toco/import_tensorflow.cc:1385] Unable to determine output type for op: Enter\n2019-07-18 08:58:54.691021: I tensorflow/lite/toco/import_tensorflow.cc:1336] Converting unsupported operation: Enter\n2019-07-18 08:58:54.691520: I tensorflow/lite/toco/import_tensorflow.cc:1385] Unable to determine output type for op: Enter\n2019-07-18 08:58:54.692119: I tensorflow/lite/toco/import_tensorflow.cc:1336] Converting unsupported operation: Enter\n2019-07-18 08:58:54.692590: I tensorflow/lite/toco/import_tensorflow.cc:1385] Unable to determine output type for op: Enter\n2019-07-18 08:58:54.693127: I tensorflow/lite/toco/import_tensorflow.cc:1336] Converting unsupported operation: Enter\n2019-07-18 08:58:54.693688: I tensorflow/lite/toco/import_tensorflow.cc:1385] Unable to determine output type for op: Enter\n2019-07-18 08:58:54.694179: I tensorflow/lite/toco/import_tensorflow.cc:1336] Converting unsupported operation: Enter\n2019-07-18 08:58:54.694726: I tensorflow/lite/toco/import_tensorflow.cc:1385] Unable to determine output type for op: Enter\n2019-07-18 08:58:54.695058: I tensorflow/lite/toco/import_tensorflow.cc:1336] Converting unsupported operation: Enter\n2019-07-18 08:58:54.695382: I tensorflow/lite/toco/import_tensorflow.cc:1385] Unable to determine output type for op: Enter\n2019-07-18 08:58:54.695735: I tensorflow/lite/toco/import_tensorflow.cc:1336] Converting unsupported operation: Enter\n2019-07-18 08:58:54.695999: I tensorflow/lite/toco/import_tensorflow.cc:1385] Unable to determine output type for op: Enter\n2019-07-18 08:58:54.696267: I tensorflow/lite/toco/import_tensorflow.cc:1336] Converting unsupported operation: Enter\n2019-07-18 08:58:54.696529: I tensorflow/lite/toco/import_tensorflow.cc:1385] Unable to determine output type for op: Enter\n2019-07-18 08:58:54.697100: I tensorflow/lite/toco/import_tensorflow.cc:1336] Converting unsupported operation: LoopCond\n2019-07-18 08:58:54.697598: I tensorflow/lite/toco/import_tensorflow.cc:1385] Unable to determine output type for op: LoopCond\n2019-07-18 08:58:54.698212: I tensorflow/lite/toco/import_tensorflow.cc:1336] Converting unsupported operation: LoopCond\n2019-07-18 08:58:54.698548: I tensorflow/lite/toco/import_tensorflow.cc:1385] Unable to determine output type for op: LoopCond\n2019-07-18 08:58:54.699173: I tensorflow/lite/toco/import_tensorflow.cc:1336] Converting unsupported operation: Exit\n2019-07-18 08:58:54.699641: I tensorflow/lite/toco/import_tensorflow.cc:1385] Unable to determine output type for op: Exit\n2019-07-18 08:58:54.700378: I tensorflow/lite/toco/import_tensorflow.cc:1336] Converting unsupported operation: TensorArrayReadV3\n2019-07-18 08:58:54.701009: I tensorflow/lite/toco/import_tensorflow.cc:1385] Unable to determine output type for op: TensorArrayReadV3\n2019-07-18 08:58:54.701591: I tensorflow/lite/toco/import_tensorflow.cc:1336] Converting unsupported operation: TensorArraySizeV3\n2019-07-18 08:58:54.702233: I tensorflow/lite/toco/import_tensorflow.cc:1385] Unable to determine output type for op: TensorArraySizeV3\n2019-07-18 08:58:54.702624: I tensorflow/lite/toco/import_tensorflow.cc:1336] Converting unsupported operation: Exit\n2019-07-18 08:58:54.703217: I tensorflow/lite/toco/import_tensorflow.cc:1385] Unable to determine output type for op: Exit\n2019-07-18 08:58:54.703878: I tensorflow/lite/toco/import_tensorflow.cc:1336] Converting unsupported operation: TensorArrayReadV3\n2019-07-18 08:58:54.704436: I tensorflow/lite/toco/import_tensorflow.cc:1385] Unable to determine output type for op: TensorArrayReadV3\n2019-07-18 08:58:54.705154: I tensorflow/lite/toco/import_tensorflow.cc:1336] Converting unsupported operation: TensorArraySizeV3\n2019-07-18 08:58:54.705841: I tensorflow/lite/toco/import_tensorflow.cc:1385] Unable to determine output type for op: TensorArraySizeV3\n2019-07-18 08:58:54.706615: I tensorflow/lite/toco/import_tensorflow.cc:1336] Converting unsupported operation: TensorArrayGatherV3\n2019-07-18 08:58:54.707252: I tensorflow/lite/toco/import_tensorflow.cc:1385] Unable to determine output type for op: TensorArrayGatherV3\n2019-07-18 08:58:54.707756: I tensorflow/lite/toco/import_tensorflow.cc:1336] Converting unsupported operation: TensorArrayGatherV3\n2019-07-18 08:58:54.708118: I tensorflow/lite/toco/import_tensorflow.cc:1385] Unable to determine output type for op: TensorArrayGatherV3\n2019-07-18 08:58:54.708702: I tensorflow/lite/toco/import_tensorflow.cc:1336] Converting unsupported operation: CTCGreedyDecoder\n2019-07-18 08:58:54.709401: I tensorflow/lite/toco/import_tensorflow.cc:1385] Unable to determine output type for op: CTCGreedyDecoder\n2019-07-18 08:58:54.710122: I tensorflow/lite/toco/import_tensorflow.cc:1336] Converting unsupported operation: TensorArrayWriteV3\n2019-07-18 08:58:54.710679: I tensorflow/lite/toco/import_tensorflow.cc:1385] Unable to determine output type for op: TensorArrayWriteV3\n2019-07-18 08:58:54.711330: I tensorflow/lite/toco/import_tensorflow.cc:1336] Converting unsupported operation: TensorArrayWriteV3\n2019-07-18 08:58:54.711951: I tensorflow/lite/toco/import_tensorflow.cc:1385] Unable to determine output type for op: TensorArrayWriteV3\n2019-07-18 08:58:54.724526: I tensorflow/lite/toco/graph_transformations/graph_transformations.cc:39] Before Removing unused ops: 314 operators, 532 arrays (0 quantized)\n2019-07-18 08:58:54.739684: I tensorflow/lite/toco/graph_transformations/graph_transformations.cc:39] After Removing unused ops pass 1: 302 operators, 516 arrays (0 quantized)\n2019-07-18 08:58:54.759586: I tensorflow/lite/toco/graph_transformations/graph_transformations.cc:39] Before general graph transformations: 302 operators, 516 arrays (0 quantized)\n2019-07-18 08:58:54.762887: F tensorflow/lite/toco/graph_transformations/resolve_tensorflow_switch.cc:98] Check failed: other_op->type == OperatorType::kMerge Found Mul as non-selected output from Switch, but only Merge supported.\nFatal Python error: Aborted\n\nCurrent thread 0x00001154 (most recent call first):\n  File \"c:\\anaconda3\\lib\\site-packages\\tensorflow\\lite\\toco\\python\\toco_from_protos.py\", line 33 in execute\n  File \"c:\\anaconda3\\lib\\site-packages\\absl\\app.py\", line 251 in _run_main\n  File \"c:\\anaconda3\\lib\\site-packages\\absl\\app.py\", line 300 in run\n  File \"c:\\anaconda3\\lib\\site-packages\\tensorflow\\python\\platform\\app.py\", line 40 in run\n  File \"c:\\anaconda3\\lib\\site-packages\\tensorflow\\lite\\toco\\python\\toco_from_protos.py\", line 59 in main\n  File \"C:\\Anaconda3\\Scripts\\toco_from_protos.exe\\__main__.py\", line 9 in <module>\n  File \"c:\\anaconda3\\lib\\runpy.py\", line 85 in _run_code\n  File \"c:\\anaconda3\\lib\\runpy.py\", line 193 in _run_module_as_main\n\n\n"
     ]
    }
   ],
   "source": [
    "tflite_model = tflite_converter.convert()"
   ]
  },
  {
   "cell_type": "code",
   "execution_count": 37,
   "metadata": {},
   "outputs": [
    {
     "data": {
      "text/plain": [
       "'1.14.0'"
      ]
     },
     "execution_count": 37,
     "metadata": {},
     "output_type": "execute_result"
    }
   ],
   "source": [
    "tf.__version__"
   ]
  },
  {
   "cell_type": "code",
   "execution_count": 55,
   "metadata": {},
   "outputs": [
    {
     "data": {
      "text/plain": [
       "TensorShape([Dimension(None), Dimension(128), Dimension(32)])"
      ]
     },
     "execution_count": 55,
     "metadata": {},
     "output_type": "execute_result"
    }
   ],
   "source": [
    "tf_in_images.shape"
   ]
  },
  {
   "cell_type": "code",
   "execution_count": 6,
   "metadata": {},
   "outputs": [
    {
     "data": {
      "text/plain": [
       "True"
      ]
     },
     "execution_count": 6,
     "metadata": {},
     "output_type": "execute_result"
    }
   ],
   "source": [
    "callable(lambda x:x)"
   ]
  },
  {
   "cell_type": "code",
   "execution_count": null,
   "metadata": {},
   "outputs": [],
   "source": []
  }
 ],
 "metadata": {
  "kernelspec": {
   "display_name": "Python 3",
   "language": "python",
   "name": "python3"
  },
  "language_info": {
   "codemirror_mode": {
    "name": "ipython",
    "version": 3
   },
   "file_extension": ".py",
   "mimetype": "text/x-python",
   "name": "python",
   "nbconvert_exporter": "python",
   "pygments_lexer": "ipython3",
   "version": "3.7.3"
  }
 },
 "nbformat": 4,
 "nbformat_minor": 2
}
