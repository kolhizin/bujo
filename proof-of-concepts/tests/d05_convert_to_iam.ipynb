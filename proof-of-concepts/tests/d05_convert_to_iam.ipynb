{
 "cells": [
  {
   "cell_type": "code",
   "execution_count": 1,
   "metadata": {},
   "outputs": [],
   "source": [
    "import test_config as cfg\n",
    "import numpy as np\n",
    "\n",
    "%matplotlib inline\n",
    "import matplotlib.pyplot as plt\n",
    "import os, os.path, shutil\n",
    "import pickle\n",
    "import io\n",
    "\n",
    "import json\n",
    "\n",
    "import skimage, skimage.io, skimage.transform, skimage.filters\n",
    "import sklearn, sklearn.metrics\n",
    "\n",
    "import importlib\n",
    "\n",
    "import sys\n",
    "sys.path.append('../src/')\n",
    "import modutils\n",
    "import word_processing as wp\n",
    "import datetime, time, random"
   ]
  },
  {
   "cell_type": "code",
   "execution_count": 2,
   "metadata": {},
   "outputs": [
    {
     "data": {
      "text/plain": [
       "<module 'word_processing' from '../src\\\\word_processing.py'>"
      ]
     },
     "execution_count": 2,
     "metadata": {},
     "output_type": "execute_result"
    }
   ],
   "source": [
    "importlib.reload(wp)"
   ]
  },
  {
   "cell_type": "code",
   "execution_count": 92,
   "metadata": {},
   "outputs": [
    {
     "name": "stdout",
     "output_type": "stream",
     "text": [
      "Wall time: 46 ms\n"
     ]
    }
   ],
   "source": [
    "%%time\n",
    "fname = 'D:/Data/bujo_sample_v2/dataset.json'\n",
    "extraction_path = os.path.join(os.path.dirname(fname),\n",
    "                               os.path.basename(fname).split('.')[0])\n",
    "with open(fname, 'r', encoding='utf-8') as f:\n",
    "    src = json.load(f)"
   ]
  },
  {
   "cell_type": "code",
   "execution_count": 78,
   "metadata": {},
   "outputs": [],
   "source": [
    "src = {k:v for (k,v) in src.items() if k in ['D:\\\\Data\\\\bujo_sample_v2\\\\20190520_232303.jpg', 'D:\\\\Data\\\\bujo_sample_v2\\\\20190520_232309.jpg']}"
   ]
  },
  {
   "cell_type": "code",
   "execution_count": 93,
   "metadata": {},
   "outputs": [],
   "source": [
    "words = wp.extract_words_from_dataset(src, (1,))\n",
    "src_images = [skimage.io.imread(os.path.join(extraction_path, x[1]), as_grey=True) for x in words]"
   ]
  },
  {
   "cell_type": "code",
   "execution_count": 3,
   "metadata": {},
   "outputs": [],
   "source": [
    "transforms_rotation = wp.generate_rotations(-10, 10, 5)\n",
    "transforms_cutoff = wp.generate_cutoffs(0.5, 0.9, 3)\n",
    "combinations_all = wp.generate_combinations(transforms_rotation, transforms_cutoff)\n",
    "\n",
    "fixed_post = [{'type':'trimx'}, {'type':'trimy'}, {'type':'resize', 'y':32}, {'type':'invert'}]\n",
    "transforms_all = wp.append_transformations(combinations_all, post_transforms=fixed_post)\n",
    "\n",
    "test_sample = [np.random.choice(np.arange(len(transforms_all)), size=100) for i in range(len(words))]"
   ]
  },
  {
   "cell_type": "raw",
   "metadata": {},
   "source": [
    "#--- words.txt ---------------------------------------------------------------#\n",
    "#\n",
    "# iam database word information\n",
    "#\n",
    "# format: a01-000u-00-00 ok 154 1 408 768 27 51 AT A\n",
    "#\n",
    "#     a01-000u-00-00  -> word id for line 00 in form a01-000u\n",
    "#     ok              -> result of word segmentation\n",
    "#                            ok: word was correctly\n",
    "#                            er: segmentation of word can be bad\n",
    "#\n",
    "#     154             -> graylevel to binarize the line containing this word\n",
    "#     1               -> number of components for this word\n",
    "#     408 768 27 51   -> bounding box around this word in x,y,w,h format\n",
    "#     AT              -> the grammatical tag for this word, see the\n",
    "#                        file tagset.txt for an explanation\n",
    "#     A               -> the transcription for this word\n",
    "#\n",
    "a01-000u-00-00 ok 154 408 768 27 51 AT A\n",
    "a01-000u-00-01 ok 154 507 766 213 48 NN MOVE\n",
    "a01-000u-00-02 ok 154 796 764 70 50 TO to\n",
    "a01-000u-00-03 ok 154 919 757 166 78 VB stop\n",
    "a01-000u-00-04 ok 154 1185 754 126 61 NPT Mr."
   ]
  },
  {
   "cell_type": "code",
   "execution_count": 4,
   "metadata": {},
   "outputs": [],
   "source": [
    "def convert_word_to_iam(fname):\n",
    "    sline, sword = fname.split('/')[1].split('.')[0].split('_')\n",
    "    iline = int(str.replace(sline, 'line', ''))\n",
    "    iword = int(str.replace(sword, 'word', ''))\n",
    "    return '{:02d}-{:02d}'.format(iline, iword)\n",
    "\n",
    "def convert_words_to_iam(fnames, lev0name):\n",
    "    docs = set(x.split('/')[0] for x in fnames)\n",
    "    maps = {x:(lev0name, '{:03d}u'.format(i)) for (i, x) in enumerate(docs)}\n",
    "    res = [(*maps[x.split('/')[0]], convert_word_to_iam(x)) for x in fnames]\n",
    "    return res\n",
    "\n",
    "def convert_corpus_to_iam(words, images, transforms, src_path, dst_path):\n",
    "    if len(transforms) >= 100:\n",
    "        raise Exception(\"Too many transforms!\")\n",
    "    names = [z for i in range(len(transforms_all))\n",
    "             for z in convert_words_to_iam([x[1] for x in words], 'a{:02d}'.format(i))]\n",
    "    words_path = os.path.join(dst_path, 'words')\n",
    "    for x in set('/'.join([x[0], '-'.join(x[:2])]) for x in names):\n",
    "        os.makedirs(os.path.join(words_path, x), exist_ok=True)\n",
    "\n",
    "    with open(os.path.join(dst_path, 'words.txt'), 'w') as fw:\n",
    "        for k in range(len(transforms)):\n",
    "            print(k)\n",
    "            for (i, x) in enumerate(words):\n",
    "                j = k * len(words) + i\n",
    "                fw.write('-'.join(names[j]))\n",
    "                fw.write(' ok 128 0 0 0 0 NN {}'.format(words[i][0]))\n",
    "                fw.write('\\n')\n",
    "                tmp_img = wp.perform_transform(src_images[i], transforms[k])\n",
    "                fname0 = os.path.join(words_path, names[j][0])\n",
    "                fname1 = os.path.join(fname0, '-'.join(names[j][:2]))\n",
    "                fname = os.path.join(fname1, '-'.join(names[j]))\n",
    "                skimage.io.imsave(fname + '.png', tmp_img)"
   ]
  },
  {
   "cell_type": "code",
   "execution_count": 94,
   "metadata": {},
   "outputs": [
    {
     "data": {
      "text/plain": [
       "1579"
      ]
     },
     "execution_count": 94,
     "metadata": {},
     "output_type": "execute_result"
    }
   ],
   "source": [
    "dst_path = 'D:/Data/bujo_iam_valid/'\n",
    "len(words)"
   ]
  },
  {
   "cell_type": "code",
   "execution_count": 95,
   "metadata": {},
   "outputs": [],
   "source": [
    "fin_images = [src_images[i] for (i,x) in enumerate(words) if ' ' not in x[0]] \n",
    "fin_words = [x for x in words if ' ' not in x[0] and len(x[0]) > 0]"
   ]
  },
  {
   "cell_type": "code",
   "execution_count": 96,
   "metadata": {},
   "outputs": [],
   "source": [
    "for (i,w) in enumerate(fin_words):\n",
    "    if len(w[0])==0 or ' ' in w[0]:\n",
    "        print(w)"
   ]
  },
  {
   "cell_type": "code",
   "execution_count": 97,
   "metadata": {},
   "outputs": [
    {
     "data": {
      "text/plain": [
       "'!\"(),-.0123456789:?LOPTabcdefhiklmnorstuwyАБВГДЕЖЗИКЛМНОПРСТУФЦЭЮЯабвгдежзийклмнопрстуфхцчшщъыьэюяё'"
      ]
     },
     "execution_count": 97,
     "metadata": {},
     "output_type": "execute_result"
    }
   ],
   "source": [
    "charset = open('D:/tmp/TestHTR/model/charList.txt', 'r').read()\n",
    "charset"
   ]
  },
  {
   "cell_type": "code",
   "execution_count": 98,
   "metadata": {},
   "outputs": [],
   "source": [
    "def isSubset(word, charset):\n",
    "    return all(x in charset for x in word)"
   ]
  },
  {
   "cell_type": "code",
   "execution_count": 99,
   "metadata": {},
   "outputs": [],
   "source": [
    "fin_images = [fin_images[i] for (i,x) in enumerate(fin_words) if isSubset(x[0], charset)]\n",
    "fin_words = [x for (i,x) in enumerate(fin_words) if isSubset(x[0], charset)]"
   ]
  },
  {
   "cell_type": "code",
   "execution_count": 100,
   "metadata": {},
   "outputs": [
    {
     "data": {
      "text/plain": [
       "(1579, 1549)"
      ]
     },
     "execution_count": 100,
     "metadata": {},
     "output_type": "execute_result"
    }
   ],
   "source": [
    "len(words), len(fin_words)"
   ]
  },
  {
   "cell_type": "code",
   "execution_count": 101,
   "metadata": {},
   "outputs": [
    {
     "name": "stdout",
     "output_type": "stream",
     "text": [
      "0\n"
     ]
    },
    {
     "name": "stderr",
     "output_type": "stream",
     "text": [
      "c:\\anaconda3\\lib\\site-packages\\skimage\\util\\dtype.py:122: UserWarning: Possible precision loss when converting from float64 to uint16\n",
      "  .format(dtypeobj_in, dtypeobj_out))\n",
      "c:\\anaconda3\\lib\\site-packages\\skimage\\io\\_io.py:132: UserWarning: D:/Data/bujo_iam_valid/words\\a00\\a00-001u\\a00-001u-28-00.png is a low contrast image\n",
      "  warn('%s is a low contrast image' % fname)\n",
      "c:\\anaconda3\\lib\\site-packages\\skimage\\io\\_io.py:132: UserWarning: D:/Data/bujo_iam_valid/words\\a00\\a00-002u\\a00-002u-23-05.png is a low contrast image\n",
      "  warn('%s is a low contrast image' % fname)\n",
      "c:\\anaconda3\\lib\\site-packages\\skimage\\io\\_io.py:132: UserWarning: D:/Data/bujo_iam_valid/words\\a00\\a00-000u\\a00-000u-34-02.png is a low contrast image\n",
      "  warn('%s is a low contrast image' % fname)\n"
     ]
    },
    {
     "name": "stdout",
     "output_type": "stream",
     "text": [
      "1\n",
      "2\n",
      "3\n"
     ]
    },
    {
     "name": "stderr",
     "output_type": "stream",
     "text": [
      "c:\\anaconda3\\lib\\site-packages\\skimage\\io\\_io.py:132: UserWarning: D:/Data/bujo_iam_valid/words\\a03\\a03-004u\\a03-004u-20-00.png is a low contrast image\n",
      "  warn('%s is a low contrast image' % fname)\n",
      "c:\\anaconda3\\lib\\site-packages\\skimage\\io\\_io.py:132: UserWarning: D:/Data/bujo_iam_valid/words\\a03\\a03-001u\\a03-001u-28-00.png is a low contrast image\n",
      "  warn('%s is a low contrast image' % fname)\n",
      "c:\\anaconda3\\lib\\site-packages\\skimage\\io\\_io.py:132: UserWarning: D:/Data/bujo_iam_valid/words\\a03\\a03-000u\\a03-000u-34-02.png is a low contrast image\n",
      "  warn('%s is a low contrast image' % fname)\n"
     ]
    },
    {
     "name": "stdout",
     "output_type": "stream",
     "text": [
      "4\n",
      "5\n",
      "6\n"
     ]
    },
    {
     "name": "stderr",
     "output_type": "stream",
     "text": [
      "c:\\anaconda3\\lib\\site-packages\\skimage\\io\\_io.py:132: UserWarning: D:/Data/bujo_iam_valid/words\\a06\\a06-004u\\a06-004u-20-00.png is a low contrast image\n",
      "  warn('%s is a low contrast image' % fname)\n",
      "c:\\anaconda3\\lib\\site-packages\\skimage\\io\\_io.py:132: UserWarning: D:/Data/bujo_iam_valid/words\\a06\\a06-001u\\a06-001u-28-00.png is a low contrast image\n",
      "  warn('%s is a low contrast image' % fname)\n",
      "c:\\anaconda3\\lib\\site-packages\\skimage\\io\\_io.py:132: UserWarning: D:/Data/bujo_iam_valid/words\\a06\\a06-000u\\a06-000u-34-02.png is a low contrast image\n",
      "  warn('%s is a low contrast image' % fname)\n"
     ]
    },
    {
     "name": "stdout",
     "output_type": "stream",
     "text": [
      "7\n",
      "8\n",
      "9\n"
     ]
    },
    {
     "name": "stderr",
     "output_type": "stream",
     "text": [
      "c:\\anaconda3\\lib\\site-packages\\skimage\\io\\_io.py:132: UserWarning: D:/Data/bujo_iam_valid/words\\a09\\a09-004u\\a09-004u-20-00.png is a low contrast image\n",
      "  warn('%s is a low contrast image' % fname)\n",
      "c:\\anaconda3\\lib\\site-packages\\skimage\\io\\_io.py:132: UserWarning: D:/Data/bujo_iam_valid/words\\a09\\a09-001u\\a09-001u-28-00.png is a low contrast image\n",
      "  warn('%s is a low contrast image' % fname)\n",
      "c:\\anaconda3\\lib\\site-packages\\skimage\\io\\_io.py:132: UserWarning: D:/Data/bujo_iam_valid/words\\a09\\a09-000u\\a09-000u-34-02.png is a low contrast image\n",
      "  warn('%s is a low contrast image' % fname)\n"
     ]
    },
    {
     "name": "stdout",
     "output_type": "stream",
     "text": [
      "10\n",
      "11\n",
      "12\n"
     ]
    },
    {
     "name": "stderr",
     "output_type": "stream",
     "text": [
      "c:\\anaconda3\\lib\\site-packages\\skimage\\io\\_io.py:132: UserWarning: D:/Data/bujo_iam_valid/words\\a12\\a12-001u\\a12-001u-28-00.png is a low contrast image\n",
      "  warn('%s is a low contrast image' % fname)\n",
      "c:\\anaconda3\\lib\\site-packages\\skimage\\io\\_io.py:132: UserWarning: D:/Data/bujo_iam_valid/words\\a12\\a12-000u\\a12-000u-34-02.png is a low contrast image\n",
      "  warn('%s is a low contrast image' % fname)\n"
     ]
    },
    {
     "name": "stdout",
     "output_type": "stream",
     "text": [
      "13\n",
      "14\n"
     ]
    }
   ],
   "source": [
    "convert_corpus_to_iam(fin_words, fin_images, transforms_all, extraction_path, dst_path)"
   ]
  },
  {
   "cell_type": "code",
   "execution_count": null,
   "metadata": {},
   "outputs": [],
   "source": []
  }
 ],
 "metadata": {
  "kernelspec": {
   "display_name": "Python 3",
   "language": "python",
   "name": "python3"
  },
  "language_info": {
   "codemirror_mode": {
    "name": "ipython",
    "version": 3
   },
   "file_extension": ".py",
   "mimetype": "text/x-python",
   "name": "python",
   "nbconvert_exporter": "python",
   "pygments_lexer": "ipython3",
   "version": "3.6.1"
  }
 },
 "nbformat": 4,
 "nbformat_minor": 2
}
