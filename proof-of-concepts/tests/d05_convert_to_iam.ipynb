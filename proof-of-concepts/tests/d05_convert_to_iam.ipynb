{
 "cells": [
  {
   "cell_type": "code",
   "execution_count": 1,
   "metadata": {},
   "outputs": [],
   "source": [
    "import test_config as cfg\n",
    "import numpy as np\n",
    "\n",
    "%matplotlib inline\n",
    "import matplotlib.pyplot as plt\n",
    "import os, os.path\n",
    "import pickle\n",
    "import io\n",
    "\n",
    "import json\n",
    "\n",
    "import skimage, skimage.io, skimage.transform, skimage.filters\n",
    "import sklearn, sklearn.metrics\n",
    "\n",
    "import importlib\n",
    "\n",
    "import sys\n",
    "sys.path.append('../src/')\n",
    "import modutils\n",
    "import word_processing as wp\n",
    "\n",
    "import datetime, time, random"
   ]
  },
  {
   "cell_type": "code",
   "execution_count": 2,
   "metadata": {},
   "outputs": [
    {
     "name": "stdout",
     "output_type": "stream",
     "text": [
      "Wall time: 2.25 s\n"
     ]
    }
   ],
   "source": [
    "%%time\n",
    "fname = 'D:/Data/bujo_sample_v2/dataset.json'\n",
    "extraction_path = os.path.join(os.path.dirname(fname),\n",
    "                               os.path.basename(fname).split('.')[0])\n",
    "with open(fname, 'r', encoding='utf-8') as f:\n",
    "    src = json.load(f)\n",
    "    \n",
    "words = wp.extract_words_from_dataset(src, (1,))\n",
    "\n",
    "src_images = [skimage.io.imread(os.path.join(extraction_path, x[1]), as_grey=True) for x in words]"
   ]
  },
  {
   "cell_type": "code",
   "execution_count": 14,
   "metadata": {},
   "outputs": [],
   "source": [
    "transforms_cutoff = wp.generate_cutoffs(0.5, 0.9, 5)"
   ]
  },
  {
   "cell_type": "code",
   "execution_count": 16,
   "metadata": {},
   "outputs": [
    {
     "data": {
      "image/png": "[encoded data removed]",
      "text/plain": [
       "<matplotlib.figure.Figure at 0x114a668ca20>"
      ]
     },
     "metadata": {},
     "output_type": "display_data"
    },
    {
     "data": {
      "image/png": "[encoded data removed]",
      "text/plain": [
       "<matplotlib.figure.Figure at 0x1149ddb4e80>"
      ]
     },
     "metadata": {},
     "output_type": "display_data"
    }
   ],
   "source": [
    "for i in range(2):\n",
    "    plt.figure()\n",
    "    plt.subplot(121)\n",
    "    plt.imshow(wp.perform_transform(src_images[i], transforms_cutoff[0]), cmap='gray')\n",
    "    plt.subplot(122)\n",
    "    plt.imshow(wp.perform_transform(src_images[i], transforms_cutoff[-1]), cmap='gray')"
   ]
  },
  {
   "cell_type": "code",
   "execution_count": 5,
   "metadata": {},
   "outputs": [
    {
     "data": {
      "text/plain": [
       "<matplotlib.image.AxesImage at 0x1149a9dd940>"
      ]
     },
     "execution_count": 5,
     "metadata": {},
     "output_type": "execute_result"
    },
    {
     "data": {
      "image/png": "[encoded data removed]",
      "text/plain": [
       "<matplotlib.figure.Figure at 0x114988d3b38>"
      ]
     },
     "metadata": {},
     "output_type": "display_data"
    }
   ],
   "source": [
    "plt.imshow(wp.perform_transform(src_images[10], transforms_cutoff[0]), cmap='gray')"
   ]
  },
  {
   "cell_type": "code",
   "execution_count": null,
   "metadata": {},
   "outputs": [],
   "source": [
    "for i in range(20):\n",
    "    plt.figure()\n",
    "    print(np.mean(src_images[i]))\n",
    "    tmp = np.percentile(src_images[i], 40, axis=1)\n",
    "    cutoff = np.mean(src_images[i]) * 0.6#np.percentile(tmp, 1)\n",
    "    plt.imshow(src_images[i] < cutoff, cmap='gray')"
   ]
  },
  {
   "cell_type": "code",
   "execution_count": null,
   "metadata": {},
   "outputs": [],
   "source": [
    "plt.imshow(src_images[10], cmap='gray')"
   ]
  },
  {
   "cell_type": "code",
   "execution_count": null,
   "metadata": {},
   "outputs": [],
   "source": [
    "plt.plot(np.percentile(src_images[10], 50, axis=0))"
   ]
  },
  {
   "cell_type": "code",
   "execution_count": null,
   "metadata": {},
   "outputs": [],
   "source": [
    "\n",
    "transforms_rotation = wp.generate_rotations(-10, 10, 5)\n",
    "transforms_scale = wp.generate_scales(0.75, 1.25, 5)\n",
    "transforms_shift = wp.generate_shifts(-0.1, 0.1, 5)\n",
    "transforms_cutoff = wp.generate_cutoffs(0.3, 0.7, 5)\n",
    "combinations_all = wp.generate_combinations(transforms_rotation, transforms_shift,\n",
    "                                       transforms_scale, transforms_cutoff)\n",
    "\n",
    "fixed_post = [{'type':'trimx'},{'type':'trimy'}, {'type':'resize', 'y':32}]\n",
    "transforms_all = wp.append_transformations(combinations_all, post_transforms=fixed_post)\n",
    "\n",
    "test_sample = [np.random.choice(np.arange(len(transforms_all)), size=100) for i in range(len(words))]\n"
   ]
  },
  {
   "cell_type": "raw",
   "metadata": {},
   "source": [
    "#--- words.txt ---------------------------------------------------------------#\n",
    "#\n",
    "# iam database word information\n",
    "#\n",
    "# format: a01-000u-00-00 ok 154 1 408 768 27 51 AT A\n",
    "#\n",
    "#     a01-000u-00-00  -> word id for line 00 in form a01-000u\n",
    "#     ok              -> result of word segmentation\n",
    "#                            ok: word was correctly\n",
    "#                            er: segmentation of word can be bad\n",
    "#\n",
    "#     154             -> graylevel to binarize the line containing this word\n",
    "#     1               -> number of components for this word\n",
    "#     408 768 27 51   -> bounding box around this word in x,y,w,h format\n",
    "#     AT              -> the grammatical tag for this word, see the\n",
    "#                        file tagset.txt for an explanation\n",
    "#     A               -> the transcription for this word\n",
    "#\n",
    "a01-000u-00-00 ok 154 408 768 27 51 AT A\n",
    "a01-000u-00-01 ok 154 507 766 213 48 NN MOVE\n",
    "a01-000u-00-02 ok 154 796 764 70 50 TO to\n",
    "a01-000u-00-03 ok 154 919 757 166 78 VB stop\n",
    "a01-000u-00-04 ok 154 1185 754 126 61 NPT Mr."
   ]
  }
 ],
 "metadata": {
  "kernelspec": {
   "display_name": "Python 3",
   "language": "python",
   "name": "python3"
  },
  "language_info": {
   "codemirror_mode": {
    "name": "ipython",
    "version": 3
   },
   "file_extension": ".py",
   "mimetype": "text/x-python",
   "name": "python",
   "nbconvert_exporter": "python",
   "pygments_lexer": "ipython3",
   "version": "3.6.1"
  }
 },
 "nbformat": 4,
 "nbformat_minor": 2
}
