{
 "cells": [
  {
   "cell_type": "code",
   "execution_count": 1,
   "metadata": {},
   "outputs": [],
   "source": [
    "import test_config as cfg\n",
    "import numpy as np\n",
    "import itertools, functools\n",
    "\n",
    "%matplotlib inline\n",
    "import matplotlib.pyplot as plt\n",
    "import os, os.path\n",
    "import pickle\n",
    "import io\n",
    "\n",
    "import json\n",
    "\n",
    "import skimage, skimage.io, skimage.transform, skimage.filters\n",
    "import sklearn, sklearn.metrics\n",
    "\n",
    "import importlib\n",
    "import time\n",
    "import sys\n",
    "sys.path.append('../src/')\n",
    "import modutils\n",
    "import word_processing as wp\n",
    "import tqdm"
   ]
  },
  {
   "cell_type": "code",
   "execution_count": 2,
   "metadata": {},
   "outputs": [
    {
     "name": "stdout",
     "output_type": "stream",
     "text": [
      "Wall time: 52 ms\n"
     ]
    }
   ],
   "source": [
    "%%time\n",
    "fname = 'D:/Data/bujo_sample_v2/dataset.json'\n",
    "extraction_path = os.path.join(os.path.dirname(fname),\n",
    "                               os.path.basename(fname).split('.')[0])\n",
    "with open(fname, 'r', encoding='utf-8') as f:\n",
    "    src = json.load(f)\n",
    "    \n",
    "words = wp.extract_words_from_dataset(src, (1,))"
   ]
  },
  {
   "cell_type": "code",
   "execution_count": 3,
   "metadata": {},
   "outputs": [],
   "source": [
    "fin_words = [w for w in words if ' ' not in w[0]]"
   ]
  },
  {
   "cell_type": "code",
   "execution_count": 4,
   "metadata": {},
   "outputs": [],
   "source": [
    "transforms_rotation = wp.generate_rotations(-5, 5, 5)\n",
    "transforms_cutoff = wp.generate_cutoffs(0.5, 0.9, 3)\n",
    "combinations_all = wp.generate_combinations(transforms_rotation, transforms_cutoff)\n",
    "fixed_post = [{'type':'trimx'}, {'type':'trimy'}, {'type':'resize', 'y':32}, {'type':'invert'}]\n",
    "transforms_all = wp.append_transformations(combinations_all, post_transforms=fixed_post)"
   ]
  },
  {
   "cell_type": "code",
   "execution_count": 5,
   "metadata": {},
   "outputs": [],
   "source": [
    "train_ids = np.random.choice(np.arange(len(fin_words)), size=int(len(fin_words)*0.6), replace=False)\n",
    "train_charset = functools.reduce(set.union, [set(fin_words[i][0]) for i in train_ids])\n",
    "valid_ids = [i for i in range(len(fin_words)) if i not in train_ids]\n",
    "train_set = [fin_words[i] for i in train_ids]\n",
    "valid_set = [fin_words[i] for i in valid_ids if set.issubset(set(fin_words[i][0]), train_charset)]"
   ]
  },
  {
   "cell_type": "code",
   "execution_count": 12,
   "metadata": {},
   "outputs": [],
   "source": [
    "def save_set(path, words, transforms, dst_fname):\n",
    "    dst_path, dst_name_ext = os.path.split(dst_fname)\n",
    "    if '.' not in dst_name_ext:\n",
    "        raise Exception('Not specified extension of file!')\n",
    "    dst_name = '.'.join(dst_name_ext.split('.')[:-1])\n",
    "    os.makedirs(os.path.join(dst_path, dst_name), exist_ok=True)\n",
    "    with open(dst_fname, 'w') as f:\n",
    "        for (i, (word, fname)) in enumerate(tqdm.tqdm(words)):\n",
    "            src_image = skimage.io.imread(os.path.join(path, fname), as_grey=True)\n",
    "            for (j, transform) in enumerate(transforms):\n",
    "                res_image = wp.perform_transform(src_image, transform)\n",
    "                loc_fname = 'w{:06d}t{:03d}'.format(i, j)\n",
    "                res_fname = '{}/{}.png'.format(dst_name, loc_fname)\n",
    "                f.write('{} {}\\n'.format(loc_fname, word))\n",
    "                skimage.io.imsave(os.path.join(dst_path, res_fname), res_image)"
   ]
  },
  {
   "cell_type": "code",
   "execution_count": null,
   "metadata": {},
   "outputs": [
    {
     "name": "stderr",
     "output_type": "stream",
     "text": [
      "  0%|                                                                                          | 0/933 [00:00<?, ?it/s]c:\\anaconda3\\lib\\site-packages\\skimage\\util\\dtype.py:122: UserWarning: Possible precision loss when converting from float64 to uint16\n",
      "  .format(dtypeobj_in, dtypeobj_out))\n",
      " 12%|█████████▌                                                                      | 111/933 [00:14<02:18,  5.96it/s]c:\\anaconda3\\lib\\site-packages\\skimage\\io\\_io.py:132: UserWarning: D:/Data/HTR\\train/w000111t000.png is a low contrast image\n",
      "  warn('%s is a low contrast image' % fname)\n",
      "c:\\anaconda3\\lib\\site-packages\\skimage\\io\\_io.py:132: UserWarning: D:/Data/HTR\\train/w000111t003.png is a low contrast image\n",
      "  warn('%s is a low contrast image' % fname)\n",
      "c:\\anaconda3\\lib\\site-packages\\skimage\\io\\_io.py:132: UserWarning: D:/Data/HTR\\train/w000111t006.png is a low contrast image\n",
      "  warn('%s is a low contrast image' % fname)\n",
      "c:\\anaconda3\\lib\\site-packages\\skimage\\io\\_io.py:132: UserWarning: D:/Data/HTR\\train/w000111t009.png is a low contrast image\n",
      "  warn('%s is a low contrast image' % fname)\n",
      "c:\\anaconda3\\lib\\site-packages\\skimage\\io\\_io.py:132: UserWarning: D:/Data/HTR\\train/w000111t012.png is a low contrast image\n",
      "  warn('%s is a low contrast image' % fname)\n",
      " 97%|█████████████████████████████████████████████████████████████████████████████▍  | 903/933 [01:58<00:03,  9.42it/s]"
     ]
    }
   ],
   "source": [
    "save_set(extraction_path, train_set, transforms_all, 'D:/Data/HTR/train.txt')"
   ]
  },
  {
   "cell_type": "code",
   "execution_count": 11,
   "metadata": {},
   "outputs": [
    {
     "name": "stderr",
     "output_type": "stream",
     "text": [
      "  0%|                                                                                          | 0/620 [00:00<?, ?it/s]c:\\anaconda3\\lib\\site-packages\\skimage\\util\\dtype.py:122: UserWarning: Possible precision loss when converting from float64 to uint16\n",
      "  .format(dtypeobj_in, dtypeobj_out))\n",
      "  9%|███████                                                                          | 54/620 [00:08<01:19,  7.14it/s]c:\\anaconda3\\lib\\site-packages\\skimage\\io\\_io.py:132: UserWarning: D:/Data/HTR\\valid/w000054t000.png is a low contrast image\n",
      "  warn('%s is a low contrast image' % fname)\n",
      "c:\\anaconda3\\lib\\site-packages\\skimage\\io\\_io.py:132: UserWarning: D:/Data/HTR\\valid/w000054t003.png is a low contrast image\n",
      "  warn('%s is a low contrast image' % fname)\n",
      "c:\\anaconda3\\lib\\site-packages\\skimage\\io\\_io.py:132: UserWarning: D:/Data/HTR\\valid/w000054t006.png is a low contrast image\n",
      "  warn('%s is a low contrast image' % fname)\n",
      "c:\\anaconda3\\lib\\site-packages\\skimage\\io\\_io.py:132: UserWarning: D:/Data/HTR\\valid/w000054t009.png is a low contrast image\n",
      "  warn('%s is a low contrast image' % fname)\n",
      "c:\\anaconda3\\lib\\site-packages\\skimage\\io\\_io.py:132: UserWarning: D:/Data/HTR\\valid/w000054t012.png is a low contrast image\n",
      "  warn('%s is a low contrast image' % fname)\n",
      " 43%|██████████████████████████████████▋                                             | 269/620 [00:38<00:52,  6.75it/s]c:\\anaconda3\\lib\\site-packages\\skimage\\io\\_io.py:132: UserWarning: D:/Data/HTR\\valid/w000269t000.png is a low contrast image\n",
      "  warn('%s is a low contrast image' % fname)\n",
      "c:\\anaconda3\\lib\\site-packages\\skimage\\io\\_io.py:132: UserWarning: D:/Data/HTR\\valid/w000269t003.png is a low contrast image\n",
      "  warn('%s is a low contrast image' % fname)\n",
      "c:\\anaconda3\\lib\\site-packages\\skimage\\io\\_io.py:132: UserWarning: D:/Data/HTR\\valid/w000269t006.png is a low contrast image\n",
      "  warn('%s is a low contrast image' % fname)\n",
      "c:\\anaconda3\\lib\\site-packages\\skimage\\io\\_io.py:132: UserWarning: D:/Data/HTR\\valid/w000269t009.png is a low contrast image\n",
      "  warn('%s is a low contrast image' % fname)\n",
      "c:\\anaconda3\\lib\\site-packages\\skimage\\io\\_io.py:132: UserWarning: D:/Data/HTR\\valid/w000269t012.png is a low contrast image\n",
      "  warn('%s is a low contrast image' % fname)\n",
      "100%|████████████████████████████████████████████████████████████████████████████████| 620/620 [01:26<00:00,  4.73it/s]\n"
     ]
    }
   ],
   "source": [
    "save_set(extraction_path, valid_set, transforms_all, 'D:/Data/HTR/valid.txt')"
   ]
  },
  {
   "cell_type": "code",
   "execution_count": null,
   "metadata": {},
   "outputs": [],
   "source": []
  }
 ],
 "metadata": {
  "kernelspec": {
   "display_name": "Python 3",
   "language": "python",
   "name": "python3"
  },
  "language_info": {
   "codemirror_mode": {
    "name": "ipython",
    "version": 3
   },
   "file_extension": ".py",
   "mimetype": "text/x-python",
   "name": "python",
   "nbconvert_exporter": "python",
   "pygments_lexer": "ipython3",
   "version": "3.6.1"
  }
 },
 "nbformat": 4,
 "nbformat_minor": 2
}
