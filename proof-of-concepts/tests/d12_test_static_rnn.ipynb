{
 "cells": [
  {
   "cell_type": "code",
   "execution_count": 1,
   "metadata": {},
   "outputs": [],
   "source": [
    "import test_config as cfg\n",
    "import numpy as np\n",
    "import itertools, functools\n",
    "\n",
    "%matplotlib inline\n",
    "import matplotlib.pyplot as plt\n",
    "import sys, os, os.path, time, datetime\n",
    "import pickle, io, json\n",
    "\n",
    "import skimage, skimage.io, skimage.transform, skimage.filters\n",
    "import sklearn, sklearn.metrics\n",
    "\n",
    "import importlib\n",
    "sys.path.append('../src/')\n",
    "import modutils\n",
    "import word_processing as wp\n",
    "import htr_model as hm\n",
    "import tqdm\n",
    "import tensorflow as tf\n",
    "import editdistance"
   ]
  },
  {
   "cell_type": "code",
   "execution_count": 12,
   "metadata": {},
   "outputs": [
    {
     "data": {
      "text/plain": [
       "<module 'htr_model' from '../src\\\\htr_model.py'>"
      ]
     },
     "execution_count": 12,
     "metadata": {},
     "output_type": "execute_result"
    }
   ],
   "source": [
    "importlib.reload(hm)"
   ]
  },
  {
   "cell_type": "code",
   "execution_count": 2,
   "metadata": {},
   "outputs": [],
   "source": [
    "class BaseTransformer:\n",
    "    def __init__(self):\n",
    "        pass\n",
    "    def transform(self, x):\n",
    "        return x\n",
    "\n",
    "    \n",
    "class SequentialTransformer:\n",
    "    def __init__(self, *args):\n",
    "        self.stages_ = args\n",
    "        \n",
    "    def transform(self, x):\n",
    "        res = x\n",
    "        for s in self.stages_:\n",
    "            res = s.transform(res)\n",
    "        return res\n",
    "    \n",
    "class LoadImageTransformer(BaseTransformer):\n",
    "    def __init__(self, path):\n",
    "        self.path_ = path\n",
    "        \n",
    "    def transform(self, x):\n",
    "        if type(x) != str:\n",
    "            raise Exception(\"LoadImageTransformer: expects filename as argument!\")\n",
    "        return skimage.io.imread(os.path.join(self.path_, x), as_grey=True)\n",
    "    \n",
    "class ConvertFloatTransformer(BaseTransformer):\n",
    "    def __init__(self, min_value = 0.0, max_value = 1.0):\n",
    "        self.min_ = min_value\n",
    "        self.max_ = max_value\n",
    "        \n",
    "    def transform(self, x):\n",
    "        if x.dtype in (np.float, np.float64, np.float32):\n",
    "            return x\n",
    "        if x.dtype == np.uint8:\n",
    "            return (x / 255.0) * (self.max_ - self.min_) + self.min_\n",
    "        if x.dtype == np.uint16:\n",
    "            return (x / 65535.0) * (self.max_ - self.min_) + self.min_\n",
    "        raise Exception(\"ConvertFloatTransformer: unexpected argument type!\")\n",
    "    \n",
    "class RandomStretchTransformer(BaseTransformer):\n",
    "    def __init__(self, min_scale = 0.66, max_scale = 1.5, fill_value=1.0):\n",
    "        self.max_ = max_scale\n",
    "        self.min_ = min_scale\n",
    "        self.fill_ = fill_value\n",
    "        \n",
    "    def transform(self, x):\n",
    "        f = np.random.uniform(self.min_, self.max_)\n",
    "        return skimage.transform.rescale(x, (1.0, f), mode='constant', cval=self.fill_)\n",
    "    \n",
    "class TransposeTransformer(BaseTransformer):\n",
    "    def __init__(self):\n",
    "        pass\n",
    "    def transform(self, x):\n",
    "        return np.transpose(x)\n",
    "    \n",
    "class FitSizeTransformer(BaseTransformer):\n",
    "    def __init__(self, width, height, fill_value=1.0):\n",
    "        self.w_ = width\n",
    "        self.h_ = height\n",
    "        self.fill_ = fill_value\n",
    "        self.template_ = np.ones((self.h_, self.w_)) * self.fill_\n",
    "        \n",
    "    def transform(self, x):\n",
    "        (h, w) = x.shape\n",
    "        f = max(w / self.w_, h / self.h_)\n",
    "        res = self.template_.copy()\n",
    "        rw = max(min(self.w_, int(w / f)), 1)\n",
    "        rh = max(min(self.h_, int(h / f)), 1)\n",
    "        res[0:rh, 0:rw] = skimage.transform.resize(x, (rh, rw), mode='constant', cval=self.fill_)\n",
    "        return res\n",
    "    \n",
    "class StandardizeTransformer(BaseTransformer):\n",
    "    def __init__(self):\n",
    "        pass\n",
    "    \n",
    "    def transform(self, x):\n",
    "        m = np.mean(x)\n",
    "        s = np.std(x)\n",
    "        if s <= 1e-9:\n",
    "            return x - m\n",
    "        return (x - m) / s\n",
    "    \n",
    "class TruncateLabelTransform(BaseTransformer):\n",
    "    def __init__(self, max_cost):\n",
    "        self.max_cost_ = max_cost\n",
    "        \n",
    "    def transform(self, x):\n",
    "        if type(x) != str:\n",
    "            raise Exception(\"TruncateLabelTransform: input expected to be of type string!\")\n",
    "        cost = 0\n",
    "        for i in range(len(x)):\n",
    "            flg = (i > 0) and (x[i] == x[i-1])\n",
    "            cost += 1 + int(flg)\n",
    "            if cost > max_cost:\n",
    "                return x[:i]\n",
    "        return x"
   ]
  },
  {
   "cell_type": "code",
   "execution_count": 23,
   "metadata": {},
   "outputs": [],
   "source": [
    "def format_timedelta(seconds):\n",
    "    if seconds < 1e-10:\n",
    "        return '0s'\n",
    "    sf = seconds - np.floor(seconds)\n",
    "    si = int(np.floor(seconds))\n",
    "    d, s_h = divmod(si, 3600*24)\n",
    "    h, s_m = divmod(s_h, 3600)\n",
    "    m, s = divmod(s_m, 60)\n",
    "    if d > 9:\n",
    "        return '{}d'.format(d)\n",
    "    elif d > 0:\n",
    "        return '{}d {}h'.format(d, h)\n",
    "    elif h > 9:\n",
    "        return '{}h'.format(h)\n",
    "    elif h > 0:\n",
    "        return '{}h {}m'.format(h, m)\n",
    "    elif m > 9:\n",
    "        return '{}m'.format(m)\n",
    "    elif m > 0:\n",
    "        return '{}m {}s'.format(m, s)\n",
    "    elif s > 9:\n",
    "        return '{}s'.format(s)\n",
    "    elif s > 0:\n",
    "        return '{:.1f}s'.format(s + sf)\n",
    "    else:\n",
    "        return '{}ms'.format(int(sf*1000))\n",
    "    \n",
    "def apply_esmooth(array, factor):\n",
    "    tmp = np.exp(np.cumsum([factor]*len(array)))\n",
    "    tmp = tmp / np.sum(tmp)\n",
    "    return np.sum(tmp * array)\n",
    "    \n",
    "def train(model, imgs, labels, batch_size, transform_pipeline=BaseTransformer()):\n",
    "    num = len(imgs)\n",
    "    num_batches = num // batch_size\n",
    "    ids = np.arange(num)\n",
    "    np.random.shuffle(ids)\n",
    "    text_template = 'Train batch {}/{}. Loss: {:.2f}. Time: {}. ETA: {}.'\n",
    "    hist_times = []\n",
    "    t_start = time.perf_counter()\n",
    "    sum_loss = 0\n",
    "    for i in range(num_batches):\n",
    "        t0 = time.perf_counter()\n",
    "        batch_ids = ids[(i*batch_size):((i+1)*batch_size)]\n",
    "        batch_imgs = np.array([transform_pipeline.transform(imgs[j]) for j in batch_ids])\n",
    "        batch_lbls = np.array([labels[j] for j in batch_ids])\n",
    "        loss = model.trainBatch(batch_imgs, batch_lbls)\n",
    "        sum_loss += loss * len(batch_lbls)\n",
    "        t1 = time.perf_counter()\n",
    "        hist_times.append(t1-t0)\n",
    "        t_delta = apply_esmooth(np.array(hist_times)[::-1], -0.5)\n",
    "        t_eta = t_delta * (num_batches - i - 1)\n",
    "        print(text_template.format(i+1, num_batches, loss, format_timedelta(t1-t0), format_timedelta(t_eta)))\n",
    "    return sum_loss / len(labels)\n",
    "        \n",
    "def validate(model, imgs, labels, batch_size,\n",
    "             transform_pipeline=BaseTransformer()):\n",
    "    n_char_err = 0\n",
    "    n_char = 0\n",
    "    n_word_ok = 0\n",
    "    n_word = 0\n",
    "    num_batches = len(imgs) // batch_size\n",
    "    text_template = 'Validation batch {}/{}. Time: {}. ETA: {}.'\n",
    "    hist_times = []\n",
    "    t_start = time.perf_counter()\n",
    "    sum_loss = 0\n",
    "    for i in range(num_batches):\n",
    "        t0 = time.perf_counter()\n",
    "        batch_imgs = np.array([transform_pipeline.transform(x)\n",
    "                               for x in imgs[(i*batch_size):((i+1)*batch_size)]])\n",
    "        batch_lbls = np.array(labels[(i*batch_size):((i+1)*batch_size)])\n",
    "        recognized, loss = model.validBatch(batch_imgs, batch_lbls)\n",
    "        sum_loss += loss * len(batch_lbls)\n",
    "        for j in range(len(recognized)):\n",
    "            n_word_ok += int(batch_lbls[j] == recognized[j])\n",
    "            n_word += 1\n",
    "            dist = editdistance.eval(recognized[j], batch_lbls[j])\n",
    "            n_char_err += dist\n",
    "            n_char += len(batch_lbls[j])\n",
    "        t1 = time.perf_counter()\n",
    "        hist_times.append(t1-t0)\n",
    "        t_delta = apply_esmooth(np.array(hist_times)[::-1], -0.5)\n",
    "        t_eta = t_delta * (num_batches - i - 1)\n",
    "        t_eta = (t1 - t_start) / (i + 1) * (num_batches - i - 1)\n",
    "        print(text_template.format(i+1, num_batches, format_timedelta(t1-t0), format_timedelta(t_eta)))\n",
    "\n",
    "    cer = n_char_err / n_char\n",
    "    wa = n_word_ok / n_word\n",
    "    print('Validation results: CER: {:.3f}, WA: {:.3f}.'.format(cer, wa))\n",
    "    return sum_loss/len(labels), cer, wa\n",
    "\n",
    "def infer(model, imgs, batch_size, transform_pipeline=BaseTransformer()):\n",
    "    num_batches = len(imgs) // batch_size\n",
    "    text_template = 'Inference batch {}/{}. Time: {}. ETA: {}.'\n",
    "    hist_times = []\n",
    "    t_start = time.perf_counter()\n",
    "    result = []\n",
    "    for i in range(num_batches):\n",
    "        t0 = time.perf_counter()\n",
    "        batch_imgs = np.array([transform_pipeline.transform(x)\n",
    "                               for x in imgs[(i*batch_size):((i+1)*batch_size)]])\n",
    "        result += model.inferBatch(batch_imgs)\n",
    "        t1 = time.perf_counter()\n",
    "        hist_times.append(t1-t0)\n",
    "        t_delta = apply_esmooth(np.array(hist_times)[::-1], -0.5)\n",
    "        t_eta = t_delta * (num_batches - i - 1)\n",
    "        t_eta = (t1 - t_start) / (i + 1) * (num_batches - i - 1)\n",
    "        print(text_template.format(i+1, num_batches, format_timedelta(t1-t0), format_timedelta(t_eta)))\n",
    "\n",
    "    print('Inference complete.')\n",
    "    return result\n",
    "\n",
    "def inferRaw(model, imgs, batch_size, transform_pipeline=BaseTransformer()):\n",
    "    num_batches = len(imgs) // batch_size\n",
    "    text_template = 'Inference batch {}/{}. Time: {}. ETA: {}.'\n",
    "    hist_times = []\n",
    "    t_start = time.perf_counter()\n",
    "    result = []\n",
    "    for i in range(num_batches):\n",
    "        t0 = time.perf_counter()\n",
    "        batch_imgs = np.array([transform_pipeline.transform(x)\n",
    "                               for x in imgs[(i*batch_size):((i+1)*batch_size)]])\n",
    "        result.append(model.inferRaw(batch_imgs))\n",
    "        t1 = time.perf_counter()\n",
    "        hist_times.append(t1-t0)\n",
    "        t_delta = apply_esmooth(np.array(hist_times)[::-1], -0.5)\n",
    "        t_eta = t_delta * (num_batches - i - 1)\n",
    "        t_eta = (t1 - t_start) / (i + 1) * (num_batches - i - 1)\n",
    "        print(text_template.format(i+1, num_batches, format_timedelta(t1-t0), format_timedelta(t_eta)))\n",
    "\n",
    "    print('Inference complete.')\n",
    "    return np.vstack(result)\n",
    "\n",
    "def run_training(model, train_imgs, train_labels, valid_imgs, valid_labels,\n",
    "                 batch_size=128, train_pipeline=BaseTransformer(), valid_pipeline=None):\n",
    "    epoch = 0\n",
    "    if valid_pipeline is None:\n",
    "        valid_pipeline = train_pipeline\n",
    "    text_template = 'Epoch {} complete in {}. T-loss is {:.2f}, V-loss is {:.2f}'\n",
    "    while True:\n",
    "        t0 = time.perf_counter()\n",
    "        epoch += 1\n",
    "        print('Epoch: {}'.format(epoch))\n",
    "\n",
    "        tloss = train(model, train_imgs, train_labels, batch_size, transform_pipeline=train_pipeline)\n",
    "        vloss, cer, wa = validate(model, valid_imgs, valid_labels, batch_size, transform_pipeline=valid_pipeline)\n",
    "        model.save()\n",
    "        t1 = time.perf_counter()\n",
    "        print(text_template.format(epoch, format_timedelta(t1-t0), tloss, vloss))\n",
    "        \n",
    "def load_sample(fname):\n",
    "    path = '.'.join(fname.split('.')[:-1])\n",
    "    sample = [tuple(y.strip() for y in x.split(' ')) for x in open(fname, 'r').readlines()]\n",
    "    load_pipeline = SequentialTransformer(LoadImageTransformer(path), ConvertFloatTransformer())\n",
    "    return [x for x in sample if len(x[1])>0], load_pipeline\n",
    "\n",
    "        \n",
    "def prepare_sample(sample, pipeline):\n",
    "    imgs = [pipeline.transform('{}.png'.format(x)) for (x,_) in sample]\n",
    "    lbls = [x for (_,x) in sample]\n",
    "    return imgs, lbls"
   ]
  },
  {
   "cell_type": "code",
   "execution_count": 5,
   "metadata": {},
   "outputs": [
    {
     "name": "stderr",
     "output_type": "stream",
     "text": [
      "C:\\Anaconda3\\lib\\site-packages\\skimage\\io\\_io.py:49: UserWarning: `as_grey` has been deprecated in favor of `as_gray`\n",
      "  warn('`as_grey` has been deprecated in favor of `as_gray`')\n"
     ]
    }
   ],
   "source": [
    "train_sample, train_load_pipeline = load_sample('D:/Data/HTR/train.txt')\n",
    "train_imgs, train_lbls = prepare_sample(train_sample, train_load_pipeline)"
   ]
  },
  {
   "cell_type": "code",
   "execution_count": 6,
   "metadata": {},
   "outputs": [],
   "source": [
    "valid_sample, valid_load_pipeline = load_sample('D:/Data/HTR/valid.txt')\n",
    "valid_imgs, valid_lbls = prepare_sample(valid_sample, valid_load_pipeline)"
   ]
  },
  {
   "cell_type": "code",
   "execution_count": 7,
   "metadata": {},
   "outputs": [],
   "source": [
    "transform_pipeline = SequentialTransformer(\n",
    "    FitSizeTransformer(128, 32),\n",
    "    TransposeTransformer(),\n",
    "    StandardizeTransformer())\n",
    "charlist = sorted(list(functools.reduce(set.union, [set(x) for x in train_lbls])))"
   ]
  },
  {
   "cell_type": "code",
   "execution_count": 13,
   "metadata": {},
   "outputs": [
    {
     "name": "stdout",
     "output_type": "stream",
     "text": [
      "Python: 3.7.3 (default, Mar 27 2019, 17:13:21) [MSC v.1915 64 bit (AMD64)]; TF: 1.14.0\n",
      "Starting hot: D:/models/htr-static-128/snapshot-178\n"
     ]
    }
   ],
   "source": [
    "model = hm.HTRModel(charlist, img_size=(128, 32),\n",
    "                cnn_kernels = [5, 5, 3, 3], #[5, 5, 3, 3, 3],#default\n",
    "                cnn_features = [1, 32, 64, 64, 128], #[1, 32, 64, 128, 128, 256],#default\n",
    "                cnn_pools = [(2,2), (2,2), (1,2), (1,4)], #[(2,2), (2,2), (1,2), (1,2), (1,2)] #default\n",
    "                rnn_cells = [128, 128], #default \n",
    "                model_path='D:/models/htr-static-128/'\n",
    "                )"
   ]
  },
  {
   "cell_type": "code",
   "execution_count": 9,
   "metadata": {},
   "outputs": [
    {
     "name": "stderr",
     "output_type": "stream",
     "text": [
      "C:\\Anaconda3\\lib\\site-packages\\skimage\\transform\\_warps.py:110: UserWarning: Anti-aliasing will be enabled by default in skimage 0.15 to avoid aliasing artifacts when down-sampling images.\n",
      "  warn(\"Anti-aliasing will be enabled by default in skimage 0.15 to \"\n"
     ]
    },
    {
     "name": "stdout",
     "output_type": "stream",
     "text": [
      "Validation batch 1/54. Time: 2.2s. ETA: 1m 56s.\n",
      "Validation batch 2/54. Time: 1.3s. ETA: 1m 32s.\n",
      "Validation batch 3/54. Time: 1.4s. ETA: 1m 24s.\n",
      "Validation batch 4/54. Time: 1.3s. ETA: 1m 18s.\n",
      "Validation batch 5/54. Time: 1.3s. ETA: 1m 13s.\n",
      "Validation batch 6/54. Time: 1.2s. ETA: 1m 9s.\n",
      "Validation batch 7/54. Time: 1.3s. ETA: 1m 7s.\n",
      "Validation batch 8/54. Time: 1.2s. ETA: 1m 4s.\n",
      "Validation batch 9/54. Time: 1.3s. ETA: 1m 2s.\n",
      "Validation batch 10/54. Time: 1.2s. ETA: 1m 0s.\n",
      "Validation batch 11/54. Time: 1.4s. ETA: 59s.\n",
      "Validation batch 12/54. Time: 1.3s. ETA: 57s.\n",
      "Validation batch 13/54. Time: 1.2s. ETA: 55s.\n",
      "Validation batch 14/54. Time: 1.2s. ETA: 53s.\n",
      "Validation batch 15/54. Time: 1.2s. ETA: 51s.\n",
      "Validation batch 16/54. Time: 1.1s. ETA: 49s.\n",
      "Validation batch 17/54. Time: 1.1s. ETA: 48s.\n",
      "Validation batch 18/54. Time: 1.3s. ETA: 46s.\n",
      "Validation batch 19/54. Time: 1.2s. ETA: 45s.\n",
      "Validation batch 20/54. Time: 1.3s. ETA: 43s.\n",
      "Validation batch 21/54. Time: 1.2s. ETA: 42s.\n",
      "Validation batch 22/54. Time: 1.3s. ETA: 41s.\n",
      "Validation batch 23/54. Time: 1.2s. ETA: 40s.\n",
      "Validation batch 24/54. Time: 1.3s. ETA: 38s.\n",
      "Validation batch 25/54. Time: 1.2s. ETA: 37s.\n",
      "Validation batch 26/54. Time: 1.2s. ETA: 35s.\n",
      "Validation batch 27/54. Time: 1.1s. ETA: 34s.\n",
      "Validation batch 28/54. Time: 1.1s. ETA: 33s.\n",
      "Validation batch 29/54. Time: 1.3s. ETA: 31s.\n",
      "Validation batch 30/54. Time: 1.2s. ETA: 30s.\n",
      "Validation batch 31/54. Time: 1.2s. ETA: 29s.\n",
      "Validation batch 32/54. Time: 1.3s. ETA: 27s.\n",
      "Validation batch 33/54. Time: 1.3s. ETA: 26s.\n",
      "Validation batch 34/54. Time: 1.2s. ETA: 25s.\n",
      "Validation batch 35/54. Time: 1.1s. ETA: 23s.\n",
      "Validation batch 36/54. Time: 993ms. ETA: 22s.\n",
      "Validation batch 37/54. Time: 1.2s. ETA: 21s.\n",
      "Validation batch 38/54. Time: 1.2s. ETA: 20s.\n",
      "Validation batch 39/54. Time: 1.2s. ETA: 18s.\n",
      "Validation batch 40/54. Time: 1.1s. ETA: 17s.\n",
      "Validation batch 41/54. Time: 1.2s. ETA: 16s.\n",
      "Validation batch 42/54. Time: 1.2s. ETA: 14s.\n",
      "Validation batch 43/54. Time: 1.2s. ETA: 13s.\n",
      "Validation batch 44/54. Time: 1.2s. ETA: 12s.\n",
      "Validation batch 45/54. Time: 1.3s. ETA: 11s.\n",
      "Validation batch 46/54. Time: 1.1s. ETA: 10.0s.\n",
      "Validation batch 47/54. Time: 1.0s. ETA: 8.7s.\n",
      "Validation batch 48/54. Time: 1.1s. ETA: 7.4s.\n",
      "Validation batch 49/54. Time: 1.4s. ETA: 6.2s.\n",
      "Validation batch 50/54. Time: 1.3s. ETA: 5.0s.\n",
      "Validation batch 51/54. Time: 1.3s. ETA: 3.7s.\n",
      "Validation batch 52/54. Time: 1.2s. ETA: 2.5s.\n",
      "Validation batch 53/54. Time: 1.2s. ETA: 1.2s.\n",
      "Validation batch 54/54. Time: 1.5s. ETA: 0s.\n",
      "Validation results: CER: 0.104, WA: 0.682.\n"
     ]
    }
   ],
   "source": [
    "tloss, tcer, twa = validate(model, train_imgs, train_lbls, 256, transform_pipeline)"
   ]
  },
  {
   "cell_type": "code",
   "execution_count": 10,
   "metadata": {},
   "outputs": [
    {
     "name": "stdout",
     "output_type": "stream",
     "text": [
      "Validation batch 1/36. Time: 1.4s. ETA: 50s.\n",
      "Validation batch 2/36. Time: 1.5s. ETA: 49s.\n",
      "Validation batch 3/36. Time: 1.3s. ETA: 46s.\n",
      "Validation batch 4/36. Time: 1.3s. ETA: 44s.\n",
      "Validation batch 5/36. Time: 1.2s. ETA: 41s.\n",
      "Validation batch 6/36. Time: 1.3s. ETA: 40s.\n",
      "Validation batch 7/36. Time: 1.3s. ETA: 38s.\n",
      "Validation batch 8/36. Time: 1.3s. ETA: 37s.\n",
      "Validation batch 9/36. Time: 1.2s. ETA: 35s.\n",
      "Validation batch 10/36. Time: 1.3s. ETA: 34s.\n",
      "Validation batch 11/36. Time: 1.2s. ETA: 32s.\n",
      "Validation batch 12/36. Time: 1.3s. ETA: 31s.\n",
      "Validation batch 13/36. Time: 1.3s. ETA: 30s.\n",
      "Validation batch 14/36. Time: 1.3s. ETA: 28s.\n",
      "Validation batch 15/36. Time: 1.3s. ETA: 27s.\n",
      "Validation batch 16/36. Time: 1.2s. ETA: 26s.\n",
      "Validation batch 17/36. Time: 1.1s. ETA: 24s.\n",
      "Validation batch 18/36. Time: 1.2s. ETA: 23s.\n",
      "Validation batch 19/36. Time: 1.3s. ETA: 21s.\n",
      "Validation batch 20/36. Time: 1.2s. ETA: 20s.\n",
      "Validation batch 21/36. Time: 1.2s. ETA: 19s.\n",
      "Validation batch 22/36. Time: 1.2s. ETA: 17s.\n",
      "Validation batch 23/36. Time: 1.2s. ETA: 16s.\n",
      "Validation batch 24/36. Time: 1.3s. ETA: 15s.\n",
      "Validation batch 25/36. Time: 1.3s. ETA: 13s.\n",
      "Validation batch 26/36. Time: 1.2s. ETA: 12s.\n",
      "Validation batch 27/36. Time: 1.2s. ETA: 11s.\n",
      "Validation batch 28/36. Time: 1.3s. ETA: 10s.\n",
      "Validation batch 29/36. Time: 1.3s. ETA: 8.9s.\n",
      "Validation batch 30/36. Time: 1.3s. ETA: 7.6s.\n",
      "Validation batch 31/36. Time: 1.3s. ETA: 6.4s.\n",
      "Validation batch 32/36. Time: 1.2s. ETA: 5.1s.\n",
      "Validation batch 33/36. Time: 1.2s. ETA: 3.8s.\n",
      "Validation batch 34/36. Time: 1.2s. ETA: 2.5s.\n",
      "Validation batch 35/36. Time: 1.3s. ETA: 1.3s.\n",
      "Validation batch 36/36. Time: 1.2s. ETA: 0s.\n",
      "Validation results: CER: 0.438, WA: 0.233.\n"
     ]
    }
   ],
   "source": [
    "vloss, vcer, vwa = validate(model, valid_imgs, valid_lbls, 256, transform_pipeline)"
   ]
  },
  {
   "cell_type": "code",
   "execution_count": 11,
   "metadata": {},
   "outputs": [
    {
     "name": "stdout",
     "output_type": "stream",
     "text": [
      "Inference batch 1/54. Time: 1.8s. ETA: 1m 37s.\n",
      "Inference batch 2/54. Time: 1.2s. ETA: 1m 19s.\n",
      "Inference batch 3/54. Time: 1.3s. ETA: 1m 13s.\n",
      "Inference batch 4/54. Time: 1.3s. ETA: 1m 10s.\n",
      "Inference batch 5/54. Time: 1.3s. ETA: 1m 7s.\n",
      "Inference batch 6/54. Time: 1.2s. ETA: 1m 4s.\n",
      "Inference batch 7/54. Time: 1.3s. ETA: 1m 3s.\n",
      "Inference batch 8/54. Time: 1.2s. ETA: 1m 1s.\n",
      "Inference batch 9/54. Time: 1.2s. ETA: 59s.\n",
      "Inference batch 10/54. Time: 1.2s. ETA: 57s.\n",
      "Inference batch 11/54. Time: 1.2s. ETA: 55s.\n",
      "Inference batch 12/54. Time: 1.2s. ETA: 54s.\n",
      "Inference batch 13/54. Time: 1.2s. ETA: 52s.\n",
      "Inference batch 14/54. Time: 1.2s. ETA: 51s.\n",
      "Inference batch 15/54. Time: 1.4s. ETA: 50s.\n",
      "Inference batch 16/54. Time: 1.4s. ETA: 49s.\n",
      "Inference batch 17/54. Time: 1.3s. ETA: 47s.\n",
      "Inference batch 18/54. Time: 1.4s. ETA: 46s.\n",
      "Inference batch 19/54. Time: 1.4s. ETA: 45s.\n",
      "Inference batch 20/54. Time: 1.4s. ETA: 44s.\n",
      "Inference batch 21/54. Time: 1.4s. ETA: 43s.\n",
      "Inference batch 22/54. Time: 1.3s. ETA: 42s.\n",
      "Inference batch 23/54. Time: 1.5s. ETA: 41s.\n",
      "Inference batch 24/54. Time: 1.4s. ETA: 39s.\n",
      "Inference batch 25/54. Time: 1.2s. ETA: 38s.\n",
      "Inference batch 26/54. Time: 1.3s. ETA: 37s.\n",
      "Inference batch 27/54. Time: 1.4s. ETA: 35s.\n",
      "Inference batch 28/54. Time: 1.3s. ETA: 34s.\n",
      "Inference batch 29/54. Time: 1.3s. ETA: 33s.\n",
      "Inference batch 30/54. Time: 1.4s. ETA: 31s.\n",
      "Inference batch 31/54. Time: 1.3s. ETA: 30s.\n",
      "Inference batch 32/54. Time: 1.2s. ETA: 29s.\n",
      "Inference batch 33/54. Time: 1.3s. ETA: 27s.\n",
      "Inference batch 34/54. Time: 1.1s. ETA: 26s.\n",
      "Inference batch 35/54. Time: 1.3s. ETA: 24s.\n",
      "Inference batch 36/54. Time: 1.2s. ETA: 23s.\n",
      "Inference batch 37/54. Time: 1.2s. ETA: 22s.\n",
      "Inference batch 38/54. Time: 1.2s. ETA: 20s.\n",
      "Inference batch 39/54. Time: 1.2s. ETA: 19s.\n",
      "Inference batch 40/54. Time: 1.3s. ETA: 18s.\n",
      "Inference batch 41/54. Time: 1.3s. ETA: 16s.\n",
      "Inference batch 42/54. Time: 1.3s. ETA: 15s.\n",
      "Inference batch 43/54. Time: 1.3s. ETA: 14s.\n",
      "Inference batch 44/54. Time: 1.2s. ETA: 13s.\n",
      "Inference batch 45/54. Time: 1.2s. ETA: 11s.\n",
      "Inference batch 46/54. Time: 1.3s. ETA: 10s.\n",
      "Inference batch 47/54. Time: 1.2s. ETA: 9.1s.\n",
      "Inference batch 48/54. Time: 1.2s. ETA: 7.8s.\n",
      "Inference batch 49/54. Time: 1.2s. ETA: 6.5s.\n",
      "Inference batch 50/54. Time: 1.1s. ETA: 5.2s.\n",
      "Inference batch 51/54. Time: 1.2s. ETA: 3.9s.\n",
      "Inference batch 52/54. Time: 1.1s. ETA: 2.6s.\n",
      "Inference batch 53/54. Time: 1.2s. ETA: 1.3s.\n",
      "Inference batch 54/54. Time: 1.2s. ETA: 0s.\n",
      "Inference complete.\n"
     ]
    }
   ],
   "source": [
    "train_pred = infer(model, train_imgs, 256, transform_pipeline)"
   ]
  },
  {
   "cell_type": "code",
   "execution_count": 12,
   "metadata": {},
   "outputs": [
    {
     "name": "stdout",
     "output_type": "stream",
     "text": [
      "Inference batch 1/36. Time: 1.2s. ETA: 42s.\n",
      "Inference batch 2/36. Time: 1.3s. ETA: 41s.\n",
      "Inference batch 3/36. Time: 1.2s. ETA: 40s.\n",
      "Inference batch 4/36. Time: 1.2s. ETA: 39s.\n",
      "Inference batch 5/36. Time: 1.3s. ETA: 38s.\n",
      "Inference batch 6/36. Time: 1.3s. ETA: 37s.\n",
      "Inference batch 7/36. Time: 1.2s. ETA: 36s.\n",
      "Inference batch 8/36. Time: 1.2s. ETA: 34s.\n",
      "Inference batch 9/36. Time: 1.2s. ETA: 33s.\n",
      "Inference batch 10/36. Time: 1.2s. ETA: 32s.\n",
      "Inference batch 11/36. Time: 1.2s. ETA: 30s.\n",
      "Inference batch 12/36. Time: 1.2s. ETA: 29s.\n",
      "Inference batch 13/36. Time: 1.4s. ETA: 28s.\n",
      "Inference batch 14/36. Time: 1.4s. ETA: 27s.\n",
      "Inference batch 15/36. Time: 1.4s. ETA: 26s.\n",
      "Inference batch 16/36. Time: 1.4s. ETA: 25s.\n",
      "Inference batch 17/36. Time: 1.3s. ETA: 24s.\n",
      "Inference batch 18/36. Time: 1.3s. ETA: 23s.\n",
      "Inference batch 19/36. Time: 1.2s. ETA: 21s.\n",
      "Inference batch 20/36. Time: 1.2s. ETA: 20s.\n",
      "Inference batch 21/36. Time: 1.2s. ETA: 19s.\n",
      "Inference batch 22/36. Time: 1.1s. ETA: 17s.\n",
      "Inference batch 23/36. Time: 1.3s. ETA: 16s.\n",
      "Inference batch 24/36. Time: 1.2s. ETA: 15s.\n",
      "Inference batch 25/36. Time: 1.2s. ETA: 13s.\n",
      "Inference batch 26/36. Time: 1.2s. ETA: 12s.\n",
      "Inference batch 27/36. Time: 1.2s. ETA: 11s.\n",
      "Inference batch 28/36. Time: 983ms. ETA: 9.9s.\n",
      "Inference batch 29/36. Time: 1.2s. ETA: 8.7s.\n",
      "Inference batch 30/36. Time: 1.2s. ETA: 7.4s.\n",
      "Inference batch 31/36. Time: 1.2s. ETA: 6.2s.\n",
      "Inference batch 32/36. Time: 1.2s. ETA: 4.9s.\n",
      "Inference batch 33/36. Time: 1.2s. ETA: 3.7s.\n",
      "Inference batch 34/36. Time: 1.1s. ETA: 2.5s.\n",
      "Inference batch 35/36. Time: 1.2s. ETA: 1.2s.\n",
      "Inference batch 36/36. Time: 1.1s. ETA: 0s.\n",
      "Inference complete.\n"
     ]
    }
   ],
   "source": [
    "valid_pred = infer(model, valid_imgs, 256, transform_pipeline)"
   ]
  },
  {
   "cell_type": "code",
   "execution_count": 14,
   "metadata": {},
   "outputs": [],
   "source": [
    "with open(os.path.join(model.model_path_, 'train_res.txt'), 'w') as f:\n",
    "    f.write('\\n'.join(['\"{}\" -> \"{}\"'.format(*x) for x in zip(train_lbls, train_pred)]))"
   ]
  },
  {
   "cell_type": "code",
   "execution_count": 15,
   "metadata": {},
   "outputs": [],
   "source": [
    "with open(os.path.join(model.model_path_, 'valid_res.txt'), 'w') as f:\n",
    "    f.write('\\n'.join(['\"{}\" -> \"{}\"'.format(*x) for x in zip(valid_lbls, valid_pred)]))"
   ]
  },
  {
   "cell_type": "code",
   "execution_count": 9,
   "metadata": {},
   "outputs": [
    {
     "name": "stdout",
     "output_type": "stream",
     "text": [
      "Wall time: 39 ms\n"
     ]
    }
   ],
   "source": [
    "%%time\n",
    "fname = 'D:/Data/bujo_sample_v2/dataset.json'\n",
    "extraction_path = os.path.join(os.path.dirname(fname),\n",
    "                               os.path.basename(fname).split('.')[0])\n",
    "with open(fname, 'r', encoding='utf-8') as f:\n",
    "    src = json.load(f)\n",
    "    \n",
    "words = wp.extract_words_from_dataset(src, (1,))\n",
    "\n",
    "transforms = [{'cutoff': 0.7, 'type': 'cutoff'},\n",
    "  {'type': 'trimx'}, {'type': 'trimy'},\n",
    "  {'type': 'resize', 'y': 32}, {'type': 'invert'}]\n",
    "\n",
    "raw_lbls = [x[0] for x in words]\n",
    "\n",
    "def load_images(path, words, transform):\n",
    "    res = []\n",
    "    for (i, (word, fname)) in enumerate(tqdm.tqdm(words)):\n",
    "        src_image = skimage.io.imread(os.path.join(path, fname), as_grey=True)\n",
    "        res_image = wp.perform_transform(src_image, transform)\n",
    "        res.append(res_image)\n",
    "    return res"
   ]
  },
  {
   "cell_type": "code",
   "execution_count": 10,
   "metadata": {},
   "outputs": [
    {
     "name": "stderr",
     "output_type": "stream",
     "text": [
      "  0%|                                                                                         | 0/1579 [00:00<?, ?it/s]C:\\Anaconda3\\lib\\site-packages\\skimage\\io\\_io.py:49: UserWarning: `as_grey` has been deprecated in favor of `as_gray`\n",
      "  warn('`as_grey` has been deprecated in favor of `as_gray`')\n",
      "C:\\Anaconda3\\lib\\site-packages\\skimage\\transform\\_warps.py:110: UserWarning: Anti-aliasing will be enabled by default in skimage 0.15 to avoid aliasing artifacts when down-sampling images.\n",
      "  warn(\"Anti-aliasing will be enabled by default in skimage 0.15 to \"\n",
      "100%|█████████████████████████████████████████████████████████████████████████████| 1579/1579 [00:12<00:00, 131.00it/s]\n"
     ]
    }
   ],
   "source": [
    "raw_imgs = load_images('D:/Data/bujo_sample_v2/dataset/', words, transforms)"
   ]
  },
  {
   "cell_type": "code",
   "execution_count": 21,
   "metadata": {},
   "outputs": [
    {
     "name": "stdout",
     "output_type": "stream",
     "text": [
      "Inference batch 1/6. Time: 1.3s. ETA: 6.5s.\n",
      "Inference batch 2/6. Time: 1.3s. ETA: 5.2s.\n",
      "Inference batch 3/6. Time: 1.2s. ETA: 3.8s.\n",
      "Inference batch 4/6. Time: 1.2s. ETA: 2.5s.\n",
      "Inference batch 5/6. Time: 1.2s. ETA: 1.3s.\n",
      "Inference batch 6/6. Time: 1.2s. ETA: 0s.\n",
      "Inference complete.\n"
     ]
    }
   ],
   "source": [
    "raw_pred = infer(model, raw_imgs, 256, transform_pipeline)"
   ]
  },
  {
   "cell_type": "code",
   "execution_count": 24,
   "metadata": {},
   "outputs": [
    {
     "name": "stderr",
     "output_type": "stream",
     "text": [
      "C:\\Anaconda3\\lib\\site-packages\\skimage\\transform\\_warps.py:110: UserWarning: Anti-aliasing will be enabled by default in skimage 0.15 to avoid aliasing artifacts when down-sampling images.\n",
      "  warn(\"Anti-aliasing will be enabled by default in skimage 0.15 to \"\n"
     ]
    },
    {
     "name": "stdout",
     "output_type": "stream",
     "text": [
      "Inference batch 1/6. Time: 1.3s. ETA: 6.3s.\n",
      "Inference batch 2/6. Time: 1.2s. ETA: 5.0s.\n",
      "Inference batch 3/6. Time: 1.1s. ETA: 3.6s.\n",
      "Inference batch 4/6. Time: 1.1s. ETA: 2.4s.\n",
      "Inference batch 5/6. Time: 1.2s. ETA: 1.2s.\n",
      "Inference batch 6/6. Time: 1.1s. ETA: 0s.\n",
      "Inference complete.\n"
     ]
    }
   ],
   "source": [
    "raw_out = inferRaw(model, raw_imgs, 256, transform_pipeline)"
   ]
  },
  {
   "cell_type": "code",
   "execution_count": 25,
   "metadata": {},
   "outputs": [
    {
     "data": {
      "text/plain": [
       "(1536, 32, 102)"
      ]
     },
     "execution_count": 25,
     "metadata": {},
     "output_type": "execute_result"
    }
   ],
   "source": [
    "raw_out.shape"
   ]
  },
  {
   "cell_type": "code",
   "execution_count": 26,
   "metadata": {},
   "outputs": [
    {
     "data": {
      "text/plain": [
       "array([[-1.6308817 , -2.814611  ,  1.59136   , ..., -0.10597652,\n",
       "        -2.0938945 ,  7.099291  ],\n",
       "       [-4.2038293 , -3.867228  , -1.0772402 , ..., -4.207089  ,\n",
       "        -2.6427054 , 14.466589  ],\n",
       "       [-5.112555  , -3.6673427 , -3.209397  , ..., -3.8577573 ,\n",
       "        -1.5834627 , 15.831958  ],\n",
       "       ...,\n",
       "       [-1.8985775 ,  0.8956639 , -1.6348583 , ...,  1.2534647 ,\n",
       "        -1.5171933 , 22.063568  ],\n",
       "       [-1.337069  ,  0.74955535, -1.2963966 , ...,  1.5676981 ,\n",
       "        -1.266425  , 22.06962   ],\n",
       "       [-0.933487  ,  0.56467247, -1.221588  , ...,  2.169692  ,\n",
       "        -0.7691835 , 21.261189  ]], dtype=float32)"
      ]
     },
     "execution_count": 26,
     "metadata": {},
     "output_type": "execute_result"
    }
   ],
   "source": [
    "raw_out[0]"
   ]
  },
  {
   "cell_type": "code",
   "execution_count": 23,
   "metadata": {},
   "outputs": [],
   "source": [
    "with open(os.path.join(model.model_path_, 'raw_res.txt'), 'w') as f:\n",
    "    f.write('\\n'.join(['\"{}\" -> \"{}\"'.format(*x) for x in zip(raw_lbls, raw_pred)]))"
   ]
  },
  {
   "cell_type": "code",
   "execution_count": 25,
   "metadata": {},
   "outputs": [],
   "source": [
    "import json\n",
    "\n",
    "add_info = dict(chars=''.join(model.chars_),\n",
    "                textlen=model.text_len_,\n",
    "                output={\n",
    "                    'decoded': model.tf_decoder_[1].name.split(':')[0],\n",
    "                    'raw': model.tf_rnn_out_.name.split(':')[0]\n",
    "                },\n",
    "               input={\n",
    "                   'images': model.tf_in_images_.name.split(':')[0],\n",
    "               })"
   ]
  },
  {
   "cell_type": "code",
   "execution_count": 27,
   "metadata": {},
   "outputs": [],
   "source": [
    "with open(os.path.join(model.model_path_, 'model_info.json'), 'w') as fp:\n",
    "    json.dump(add_info, fp)"
   ]
  },
  {
   "cell_type": "code",
   "execution_count": 30,
   "metadata": {},
   "outputs": [
    {
     "name": "stdout",
     "output_type": "stream",
     "text": [
      "Wall time: 9.12 s\n"
     ]
    }
   ],
   "source": [
    "%%time\n",
    "tflite_buff = model.getTFLiteBuffer()\n",
    "with open(os.path.join(model.model_path_, 'model.tflite'), \"wb\") as f:\n",
    "    f.write(tflite_buff)"
   ]
  },
  {
   "cell_type": "code",
   "execution_count": 31,
   "metadata": {},
   "outputs": [
    {
     "data": {
      "text/plain": [
       "'D:/models/htr-static-128/model.tflite'"
      ]
     },
     "execution_count": 31,
     "metadata": {},
     "output_type": "execute_result"
    }
   ],
   "source": [
    "tflite_fname = os.path.join(model.model_path_, 'model.tflite')\n",
    "tflite_fname"
   ]
  },
  {
   "cell_type": "code",
   "execution_count": 32,
   "metadata": {},
   "outputs": [],
   "source": [
    "interpreter = tf.lite.Interpreter(model_path=tflite_fname)\n",
    "interpreter.allocate_tensors()\n",
    "input_details = interpreter.get_input_details()\n",
    "output_details = interpreter.get_output_details()"
   ]
  },
  {
   "cell_type": "code",
   "execution_count": 87,
   "metadata": {},
   "outputs": [
    {
     "data": {
      "text/plain": [
       "[{'name': 'in_image',\n",
       "  'index': 24,\n",
       "  'shape': array([  1, 128,  32]),\n",
       "  'dtype': numpy.float32,\n",
       "  'quantization': (0.0, 0)}]"
      ]
     },
     "execution_count": 87,
     "metadata": {},
     "output_type": "execute_result"
    }
   ],
   "source": [
    "input_details"
   ]
  },
  {
   "cell_type": "code",
   "execution_count": 88,
   "metadata": {},
   "outputs": [
    {
     "data": {
      "text/plain": [
       "[{'name': 'out_rnn',\n",
       "  'index': 25,\n",
       "  'shape': array([  1,  32, 102]),\n",
       "  'dtype': numpy.float32,\n",
       "  'quantization': (0.0, 0)}]"
      ]
     },
     "execution_count": 88,
     "metadata": {},
     "output_type": "execute_result"
    }
   ],
   "source": [
    "output_details"
   ]
  },
  {
   "cell_type": "code",
   "execution_count": 49,
   "metadata": {},
   "outputs": [
    {
     "name": "stderr",
     "output_type": "stream",
     "text": [
      "C:\\Anaconda3\\lib\\site-packages\\skimage\\transform\\_warps.py:110: UserWarning: Anti-aliasing will be enabled by default in skimage 0.15 to avoid aliasing artifacts when down-sampling images.\n",
      "  warn(\"Anti-aliasing will be enabled by default in skimage 0.15 to \"\n"
     ]
    }
   ],
   "source": [
    "tmp = transform_pipeline.transform(raw_imgs[0]).reshape((1, 128, 32)).astype(np.float32)"
   ]
  },
  {
   "cell_type": "code",
   "execution_count": 89,
   "metadata": {},
   "outputs": [],
   "source": [
    "tflite_in = interpreter.tensor(input_details[0]['index'])\n",
    "tflite_out = interpreter.tensor(output_details[0]['index'])"
   ]
  },
  {
   "cell_type": "code",
   "execution_count": 90,
   "metadata": {},
   "outputs": [],
   "source": [
    "tflite_in().fill(0.0)\n",
    "tflite_out().fill(0.0)"
   ]
  },
  {
   "cell_type": "code",
   "execution_count": 91,
   "metadata": {},
   "outputs": [
    {
     "ename": "RuntimeError",
     "evalue": "There is at least 1 reference to internal data\n      in the interpreter in the form of a numpy array or slice. Be sure to\n      only hold the function returned from tensor() if you are using raw\n      data access.",
     "output_type": "error",
     "traceback": [
      "\u001b[1;31m---------------------------------------------------------------------------\u001b[0m",
      "\u001b[1;31mRuntimeError\u001b[0m                              Traceback (most recent call last)",
      "\u001b[1;32m<ipython-input-91-d063c25b1fee>\u001b[0m in \u001b[0;36m<module>\u001b[1;34m\u001b[0m\n\u001b[1;32m----> 1\u001b[1;33m \u001b[0minterpreter\u001b[0m\u001b[1;33m.\u001b[0m\u001b[0minvoke\u001b[0m\u001b[1;33m(\u001b[0m\u001b[1;33m)\u001b[0m\u001b[1;33m\u001b[0m\u001b[1;33m\u001b[0m\u001b[0m\n\u001b[0m\u001b[0;32m      2\u001b[0m \u001b[1;31m#tmp = interpreter.get_tensor(output_details[0]['index'])\u001b[0m\u001b[1;33m\u001b[0m\u001b[1;33m\u001b[0m\u001b[1;33m\u001b[0m\u001b[0m\n",
      "\u001b[1;32mC:\\Anaconda3\\lib\\site-packages\\tensorflow\\lite\\python\\interpreter.py\u001b[0m in \u001b[0;36minvoke\u001b[1;34m(self)\u001b[0m\n\u001b[0;32m    301\u001b[0m       \u001b[0mValueError\u001b[0m\u001b[1;33m:\u001b[0m \u001b[0mWhen\u001b[0m \u001b[0mthe\u001b[0m \u001b[0munderlying\u001b[0m \u001b[0minterpreter\u001b[0m \u001b[0mfails\u001b[0m \u001b[1;32mraise\u001b[0m \u001b[0mValueError\u001b[0m\u001b[1;33m.\u001b[0m\u001b[1;33m\u001b[0m\u001b[1;33m\u001b[0m\u001b[0m\n\u001b[0;32m    302\u001b[0m     \"\"\"\n\u001b[1;32m--> 303\u001b[1;33m     \u001b[0mself\u001b[0m\u001b[1;33m.\u001b[0m\u001b[0m_ensure_safe\u001b[0m\u001b[1;33m(\u001b[0m\u001b[1;33m)\u001b[0m\u001b[1;33m\u001b[0m\u001b[1;33m\u001b[0m\u001b[0m\n\u001b[0m\u001b[0;32m    304\u001b[0m     \u001b[0mself\u001b[0m\u001b[1;33m.\u001b[0m\u001b[0m_interpreter\u001b[0m\u001b[1;33m.\u001b[0m\u001b[0mInvoke\u001b[0m\u001b[1;33m(\u001b[0m\u001b[1;33m)\u001b[0m\u001b[1;33m\u001b[0m\u001b[1;33m\u001b[0m\u001b[0m\n\u001b[0;32m    305\u001b[0m \u001b[1;33m\u001b[0m\u001b[0m\n",
      "\u001b[1;32mC:\\Anaconda3\\lib\\site-packages\\tensorflow\\lite\\python\\interpreter.py\u001b[0m in \u001b[0;36m_ensure_safe\u001b[1;34m(self)\u001b[0m\n\u001b[0;32m    121\u001b[0m       \u001b[1;32min\u001b[0m \u001b[0mthe\u001b[0m \u001b[0minterpreter\u001b[0m \u001b[1;32min\u001b[0m \u001b[0mthe\u001b[0m \u001b[0mform\u001b[0m \u001b[0mof\u001b[0m \u001b[0ma\u001b[0m \u001b[0mnumpy\u001b[0m \u001b[0marray\u001b[0m \u001b[1;32mor\u001b[0m \u001b[0mslice\u001b[0m\u001b[1;33m.\u001b[0m \u001b[0mBe\u001b[0m \u001b[0msure\u001b[0m \u001b[0mto\u001b[0m\u001b[1;33m\u001b[0m\u001b[1;33m\u001b[0m\u001b[0m\n\u001b[0;32m    122\u001b[0m       \u001b[0monly\u001b[0m \u001b[0mhold\u001b[0m \u001b[0mthe\u001b[0m \u001b[0mfunction\u001b[0m \u001b[0mreturned\u001b[0m \u001b[1;32mfrom\u001b[0m \u001b[0mtensor\u001b[0m\u001b[1;33m(\u001b[0m\u001b[1;33m)\u001b[0m \u001b[1;32mif\u001b[0m \u001b[0myou\u001b[0m \u001b[0mare\u001b[0m \u001b[0musing\u001b[0m \u001b[0mraw\u001b[0m\u001b[1;33m\u001b[0m\u001b[1;33m\u001b[0m\u001b[0m\n\u001b[1;32m--> 123\u001b[1;33m       data access.\"\"\")\n\u001b[0m\u001b[0;32m    124\u001b[0m \u001b[1;33m\u001b[0m\u001b[0m\n\u001b[0;32m    125\u001b[0m   \u001b[1;32mdef\u001b[0m \u001b[0m_get_tensor_details\u001b[0m\u001b[1;33m(\u001b[0m\u001b[0mself\u001b[0m\u001b[1;33m,\u001b[0m \u001b[0mtensor_index\u001b[0m\u001b[1;33m)\u001b[0m\u001b[1;33m:\u001b[0m\u001b[1;33m\u001b[0m\u001b[1;33m\u001b[0m\u001b[0m\n",
      "\u001b[1;31mRuntimeError\u001b[0m: There is at least 1 reference to internal data\n      in the interpreter in the form of a numpy array or slice. Be sure to\n      only hold the function returned from tensor() if you are using raw\n      data access."
     ]
    }
   ],
   "source": [
    "interpreter.invoke()\n",
    "#tmp = interpreter.get_tensor(output_details[0]['index'])"
   ]
  },
  {
   "cell_type": "code",
   "execution_count": 52,
   "metadata": {},
   "outputs": [
    {
     "data": {
      "text/plain": [
       "<tf.Tensor 'Const_1:0' shape=(1, 128, 32) dtype=float32>"
      ]
     },
     "execution_count": 52,
     "metadata": {},
     "output_type": "execute_result"
    }
   ],
   "source": []
  },
  {
   "cell_type": "code",
   "execution_count": null,
   "metadata": {},
   "outputs": [],
   "source": []
  }
 ],
 "metadata": {
  "kernelspec": {
   "display_name": "Python 3",
   "language": "python",
   "name": "python3"
  },
  "language_info": {
   "codemirror_mode": {
    "name": "ipython",
    "version": 3
   },
   "file_extension": ".py",
   "mimetype": "text/x-python",
   "name": "python",
   "nbconvert_exporter": "python",
   "pygments_lexer": "ipython3",
   "version": "3.7.3"
  }
 },
 "nbformat": 4,
 "nbformat_minor": 2
}
