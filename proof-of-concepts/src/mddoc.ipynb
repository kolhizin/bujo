{
 "cells": [
  {
   "cell_type": "code",
   "execution_count": 5,
   "metadata": {},
   "outputs": [],
   "source": [
    "import sys, inspect, types\n",
    "import filters as flt"
   ]
  },
  {
   "cell_type": "code",
   "execution_count": 3,
   "metadata": {},
   "outputs": [
    {
     "name": "stdout",
     "output_type": "stream",
     "text": [
      "__builtins__ <class 'dict'>\n",
      "__cached__ <class 'str'>\n",
      "__doc__ <class 'NoneType'>\n",
      "__file__ <class 'str'>\n",
      "__loader__ <class '_frozen_importlib_external.SourceFileLoader'>\n",
      "__name__ <class 'str'>\n",
      "__package__ <class 'str'>\n",
      "__spec__ <class '_frozen_importlib.ModuleSpec'>\n",
      "local_maxima_v <class 'function'>\n",
      "np <class 'module'>\n",
      "rolling_percentile_2d <class 'function'>\n",
      "stddev <class 'function'>\n",
      "variance_percentile_h <class 'function'>\n",
      "variance_percentile_v <class 'function'>\n"
     ]
    }
   ],
   "source": [
    "for (name, obj) in inspect.getmembers(flt):\n",
    "    print(name, type(obj))"
   ]
  },
  {
   "cell_type": "code",
   "execution_count": 17,
   "metadata": {},
   "outputs": [
    {
     "name": "stdout",
     "output_type": "stream",
     "text": [
      "##local_maxima_v\n",
      "*Arguments*: src, d1, d2, cutoff\n",
      "*Description*:\n",
      "Calculates local maxima filter and applies cutoff\n",
      "\n",
      "    Keyword arguments:\n",
      "    i -- row id\n",
      "    d1 -- width of local-maxima\n",
      "    d2 -- test-range for local-maxima\n",
      "    cutoff -- minimal value for local_maxima\n",
      "    \n",
      "    Returns ndarray of shape src.shape\n",
      "    \n",
      "##rolling_percentile_2d\n",
      "*Arguments*: src, sz, q, res, i, j\n",
      "*Description*:\n",
      "Calculate rolling percentile with filter size of sz\n",
      "\n",
      "    Keyword arguments:\n",
      "    sz -- pair of sizes\n",
      "    q -- array-like of percentiles\n",
      "    \n",
      "    Returns (len(q), src.shape[0]-sz[0]+1, src.shape[1]-sz[1]+1) ndarray\n",
      "    \n",
      "##stddev\n",
      "*Arguments*: src, filter_size, f_x1, f_x2, flt_w, flt_h, nsize, d_x1, d_x2\n",
      "*Description*:\n",
      "Calculate rolling standard deviation with filter size of sz\n",
      "\n",
      "    Keyword arguments:\n",
      "    src -- source image\n",
      "    filter_size -- (h, w) filter size\n",
      "    \n",
      "    Returns (src.shape[0]-filter_size[0], src.shape[1]-filter_size[1]) ndarray\n",
      "    \n",
      "##variance_percentile_h\n",
      "*Arguments*: src, sz, q, var, mean\n",
      "*Description*:\n",
      "Calculate horizontal total variance with window of sz[1] and apply horizontal rolling percentile (sz[0], 1)\n",
      "\n",
      "    Keyword arguments:\n",
      "    sz -- pair of sizes\n",
      "    q -- array-like of percentiles\n",
      "    \n",
      "    Returns (len(q), src.shape[0]-sz[0], src.shape[1]-sz[1]+1) ndarray\n",
      "    \n",
      "##variance_percentile_v\n",
      "*Arguments*: src, sz, q, var, mean\n",
      "*Description*:\n",
      "Calculate vertical total variance with window of sz[0] and apply horizontal rolling percentile (1, sz[1])\n",
      "\n",
      "    Keyword arguments:\n",
      "    sz -- pair of sizes\n",
      "    q -- array-like of percentiles\n",
      "    \n",
      "    Returns (len(q), src.shape[0]-sz[0], src.shape[1]-sz[1]+1) ndarray\n",
      "    \n"
     ]
    }
   ],
   "source": [
    "with open('doc.md', 'w') as f:\n",
    "    for (name, obj) in inspect.getmembers(flt):\n",
    "        if inspect.isfunction(obj):\n",
    "            print('##' + name)\n",
    "            print('*Arguments*: ' + ', '.join(obj.__code__.co_varnames))\n",
    "            print('*Description*:\\n' + obj.__doc__)\n",
    "        elif inspect.isclass(obj):\n",
    "            print('##' + name)"
   ]
  },
  {
   "cell_type": "code",
   "execution_count": 16,
   "metadata": {},
   "outputs": [
    {
     "ename": "AttributeError",
     "evalue": "module 'types' has no attribute 'ClassType'",
     "output_type": "error",
     "traceback": [
      "\u001b[1;31m---------------------------------------------------------------------------\u001b[0m",
      "\u001b[1;31mAttributeError\u001b[0m                            Traceback (most recent call last)",
      "\u001b[1;32m<ipython-input-16-ce574cc5d4b1>\u001b[0m in \u001b[0;36m<module>\u001b[1;34m()\u001b[0m\n\u001b[1;32m----> 1\u001b[1;33m \u001b[0mtypes\u001b[0m\u001b[1;33m.\u001b[0m\u001b[0mClassType\u001b[0m\u001b[1;33m\u001b[0m\u001b[0m\n\u001b[0m",
      "\u001b[1;31mAttributeError\u001b[0m: module 'types' has no attribute 'ClassType'"
     ]
    }
   ],
   "source": [
    "inspect.isfunction()"
   ]
  },
  {
   "cell_type": "code",
   "execution_count": null,
   "metadata": {},
   "outputs": [],
   "source": []
  }
 ],
 "metadata": {
  "kernelspec": {
   "display_name": "Python 3",
   "language": "python",
   "name": "python3"
  },
  "language_info": {
   "codemirror_mode": {
    "name": "ipython",
    "version": 3
   },
   "file_extension": ".py",
   "mimetype": "text/x-python",
   "name": "python",
   "nbconvert_exporter": "python",
   "pygments_lexer": "ipython3",
   "version": "3.6.1"
  }
 },
 "nbformat": 4,
 "nbformat_minor": 2
}
