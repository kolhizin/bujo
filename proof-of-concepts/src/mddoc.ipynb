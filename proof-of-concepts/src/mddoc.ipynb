{
 "cells": [
  {
   "cell_type": "code",
   "execution_count": 66,
   "metadata": {},
   "outputs": [],
   "source": [
    "import DataLoader as dl"
   ]
  },
  {
   "cell_type": "code",
   "execution_count": 104,
   "metadata": {},
   "outputs": [],
   "source": [
    "def make_doc(mod, head_prefix=''):\n",
    "    import inspect\n",
    "    \n",
    "    def make_func_doc(fn, prefix):\n",
    "        res = '{} Function **{}**\\n'.format(prefix, fn.__name__)\n",
    "        res += '**Signature**: {}{}\\n'.format(fn.__name__, inspect.signature(fn))\n",
    "        if fn.__doc__ is not None:\n",
    "            res += '{}# description:\\n{}\\n'.format(prefix, fn.__doc__)\n",
    "        return res\n",
    "    \n",
    "    def make_class_doc(cls, prefix):\n",
    "        res = '{} Class **{}**\\n'.format(prefix, cls.__name__)\n",
    "        members = inspect.getmembers(cls)\n",
    "        cls_init = dict(members)['__init__']\n",
    "        res += '**Constructor signature**: {}{}\\n'.format(cls.__name__, inspect.signature(cls_init))\n",
    "        res += '**Hierarchy**: {}\\n'.format(' -> '.join([x.__name__ for x in inspect.getmro(cls)]))\n",
    "        if cls.__doc__ is not None:\n",
    "            res += '{}# Description\\n{}\\n'.format(prefix, cls.__doc__)\n",
    "        \n",
    "        methods = [x for x in inspect.getmembers(tmp2) if x[0][:2] != '__']\n",
    "        cls_methods = [x for x in methods if x.__qualname__.split('.')[0]==cls.__name__]\n",
    "        for x in cls_methods:\n",
    "            res += make_func_doc(x[1], prefix+'#')\n",
    "        return res\n",
    "    \n",
    "    res = '{}# {}\\n'.format(head_prefix, mod.__name__)\n",
    "    if mod.__doc__ is not None:\n",
    "        res += '{}## Description\\n{}\\n'.format(head_prefix, mod.__doc__)\n",
    "    classes = [x for (_, x) in inspect.getmembers(mod) if inspect.isclass(x)]\n",
    "    funcs = [x for (_, x) in inspect.getmembers(mod) if inspect.isfunction(x)]\n",
    "    \n",
    "    for obj in classes:\n",
    "        res += make_class_doc(obj, head_prefix + '##')\n",
    "    for obj in funcs:\n",
    "        res += make_func_doc(obj, head_prefix + '##')\n",
    "    return res"
   ]
  },
  {
   "cell_type": "code",
   "execution_count": 24,
   "metadata": {},
   "outputs": [
    {
     "data": {
      "text/plain": [
       "('filters', None)"
      ]
     },
     "execution_count": 24,
     "metadata": {},
     "output_type": "execute_result"
    }
   ],
   "source": [
    "flt.__name__, flt.__doc__"
   ]
  },
  {
   "cell_type": "code",
   "execution_count": 90,
   "metadata": {},
   "outputs": [
    {
     "name": "stdout",
     "output_type": "stream",
     "text": [
      "# filters\n",
      "## Function **local_maxima_v**\n",
      "**Signature**: local_maxima_v(src, d1, d2, cutoff)\n",
      "### description:\n",
      "Calculates local maxima filter and applies cutoff\n",
      "\n",
      "    Keyword arguments:\n",
      "    i -- row id\n",
      "    d1 -- width of local-maxima\n",
      "    d2 -- test-range for local-maxima\n",
      "    cutoff -- minimal value for local_maxima\n",
      "    \n",
      "    Returns ndarray of shape src.shape\n",
      "    \n",
      "## Function **rolling_percentile_2d**\n",
      "**Signature**: rolling_percentile_2d(src, sz, q)\n",
      "### description:\n",
      "Calculate rolling percentile with filter size of sz\n",
      "\n",
      "    Keyword arguments:\n",
      "    sz -- pair of sizes\n",
      "    q -- array-like of percentiles\n",
      "    \n",
      "    Returns (len(q), src.shape[0]-sz[0]+1, src.shape[1]-sz[1]+1) ndarray\n",
      "    \n",
      "## Function **stddev**\n",
      "**Signature**: stddev(src, filter_size)\n",
      "### description:\n",
      "Calculate rolling standard deviation with filter size of sz\n",
      "\n",
      "    Keyword arguments:\n",
      "    src -- source image\n",
      "    filter_size -- (h, w) filter size\n",
      "    \n",
      "    Returns (src.shape[0]-filter_size[0], src.shape[1]-filter_size[1]) ndarray\n",
      "    \n",
      "## Function **variance_percentile_h**\n",
      "**Signature**: variance_percentile_h(src, sz, q)\n",
      "### description:\n",
      "Calculate horizontal total variance with window of sz[1] and apply horizontal rolling percentile (sz[0], 1)\n",
      "\n",
      "    Keyword arguments:\n",
      "    sz -- pair of sizes\n",
      "    q -- array-like of percentiles\n",
      "    \n",
      "    Returns (len(q), src.shape[0]-sz[0], src.shape[1]-sz[1]+1) ndarray\n",
      "    \n",
      "## Function **variance_percentile_v**\n",
      "**Signature**: variance_percentile_v(src, sz, q)\n",
      "### description:\n",
      "Calculate vertical total variance with window of sz[0] and apply horizontal rolling percentile (1, sz[1])\n",
      "\n",
      "    Keyword arguments:\n",
      "    sz -- pair of sizes\n",
      "    q -- array-like of percentiles\n",
      "    \n",
      "    Returns (len(q), src.shape[0]-sz[0], src.shape[1]-sz[1]+1) ndarray\n",
      "    \n",
      "\n"
     ]
    }
   ],
   "source": [
    "print(make_doc(flt))"
   ]
  },
  {
   "cell_type": "code",
   "execution_count": 34,
   "metadata": {},
   "outputs": [],
   "source": [
    "tmp = [x for x in inspect.getmembers(flt) if inspect.isfunction(x[1])][0][1]"
   ]
  },
  {
   "cell_type": "code",
   "execution_count": 40,
   "metadata": {},
   "outputs": [
    {
     "data": {
      "text/plain": [
       "<method-wrapper '__str__' of function object at 0x0000027C160A4C80>"
      ]
     },
     "execution_count": 40,
     "metadata": {},
     "output_type": "execute_result"
    }
   ],
   "source": [
    "tmp.__"
   ]
  },
  {
   "cell_type": "code",
   "execution_count": 43,
   "metadata": {},
   "outputs": [],
   "source": [
    "tmp2 = inspect.getargs(tmp.__code__)"
   ]
  },
  {
   "cell_type": "code",
   "execution_count": 45,
   "metadata": {},
   "outputs": [
    {
     "data": {
      "text/plain": [
       "['src', 'd1', 'd2', 'cutoff']"
      ]
     },
     "execution_count": 45,
     "metadata": {},
     "output_type": "execute_result"
    }
   ],
   "source": [
    "tmp2.args"
   ]
  },
  {
   "cell_type": "code",
   "execution_count": 47,
   "metadata": {},
   "outputs": [],
   "source": [
    "tmp3 = inspect.signature(tmp)"
   ]
  },
  {
   "cell_type": "code",
   "execution_count": 58,
   "metadata": {},
   "outputs": [],
   "source": [
    "class Tmp:\n",
    "    \n",
    "    def __init__(self):\n",
    "        pass\n",
    "    def __init__(self, q):\n",
    "        pass\n",
    "    "
   ]
  },
  {
   "cell_type": "code",
   "execution_count": 59,
   "metadata": {},
   "outputs": [
    {
     "data": {
      "text/plain": [
       "<Signature (self, q)>"
      ]
     },
     "execution_count": 59,
     "metadata": {},
     "output_type": "execute_result"
    }
   ],
   "source": [
    "inspect.signature(dict(inspect.getmembers(Tmp))['__init__'])"
   ]
  },
  {
   "cell_type": "code",
   "execution_count": 105,
   "metadata": {},
   "outputs": [
    {
     "name": "stdout",
     "output_type": "stream",
     "text": [
      "# DataLoader\n",
      "## Class **Batch**\n",
      "**Constructor signature**: Batch(self, gtTexts, imgs)\n",
      "**Hierarchy**: Batch -> object\n",
      "### Description\n",
      "batch containing images and ground truth texts\n",
      "### Function **getIteratorInfo**\n",
      "**Signature**: getIteratorInfo(self)\n",
      "#### description:\n",
      "current batch index and overall number of batches\n",
      "### Function **getNext**\n",
      "**Signature**: getNext(self)\n",
      "#### description:\n",
      "iterator\n",
      "### Function **hasNext**\n",
      "**Signature**: hasNext(self)\n",
      "#### description:\n",
      "iterator\n",
      "### Function **trainSet**\n",
      "**Signature**: trainSet(self)\n",
      "#### description:\n",
      "switch to randomly chosen subset of training set\n",
      "### Function **truncateLabel**\n",
      "**Signature**: truncateLabel(self, text, maxTextLen)\n",
      "### Function **validationSet**\n",
      "**Signature**: validationSet(self)\n",
      "#### description:\n",
      "switch to validation set\n",
      "## Class **DataLoader**\n",
      "**Constructor signature**: DataLoader(self, filePath, batchSize, imgSize, maxTextLen, charset=None)\n",
      "**Hierarchy**: DataLoader -> object\n",
      "### Description\n",
      "loads data which corresponds to IAM format, see: http://www.fki.inf.unibe.ch/databases/iam-handwriting-database\n",
      "### Function **getIteratorInfo**\n",
      "**Signature**: getIteratorInfo(self)\n",
      "#### description:\n",
      "current batch index and overall number of batches\n",
      "### Function **getNext**\n",
      "**Signature**: getNext(self)\n",
      "#### description:\n",
      "iterator\n",
      "### Function **hasNext**\n",
      "**Signature**: hasNext(self)\n",
      "#### description:\n",
      "iterator\n",
      "### Function **trainSet**\n",
      "**Signature**: trainSet(self)\n",
      "#### description:\n",
      "switch to randomly chosen subset of training set\n",
      "### Function **truncateLabel**\n",
      "**Signature**: truncateLabel(self, text, maxTextLen)\n",
      "### Function **validationSet**\n",
      "**Signature**: validationSet(self)\n",
      "#### description:\n",
      "switch to validation set\n",
      "## Class **Sample**\n",
      "**Constructor signature**: Sample(self, gtText, filePath)\n",
      "**Hierarchy**: Sample -> object\n",
      "### Description\n",
      "sample from the dataset\n",
      "### Function **getIteratorInfo**\n",
      "**Signature**: getIteratorInfo(self)\n",
      "#### description:\n",
      "current batch index and overall number of batches\n",
      "### Function **getNext**\n",
      "**Signature**: getNext(self)\n",
      "#### description:\n",
      "iterator\n",
      "### Function **hasNext**\n",
      "**Signature**: hasNext(self)\n",
      "#### description:\n",
      "iterator\n",
      "### Function **trainSet**\n",
      "**Signature**: trainSet(self)\n",
      "#### description:\n",
      "switch to randomly chosen subset of training set\n",
      "### Function **truncateLabel**\n",
      "**Signature**: truncateLabel(self, text, maxTextLen)\n",
      "### Function **validationSet**\n",
      "**Signature**: validationSet(self)\n",
      "#### description:\n",
      "switch to validation set\n",
      "## Function **preprocess**\n",
      "**Signature**: preprocess(img, imgSize, dataAugmentation=False)\n",
      "### description:\n",
      "put img into target img of size imgSize, transpose for TF and normalize gray-values\n",
      "\n"
     ]
    }
   ],
   "source": [
    "print(make_doc(dl))"
   ]
  },
  {
   "cell_type": "code",
   "execution_count": 106,
   "metadata": {},
   "outputs": [
    {
     "data": {
      "text/plain": [
       "[('Batch', DataLoader.Batch),\n",
       " ('DataLoader', DataLoader.DataLoader),\n",
       " ('Sample', DataLoader.Sample),\n",
       " ('__builtins__',\n",
       "  {'ArithmeticError': ArithmeticError,\n",
       "   'AssertionError': AssertionError,\n",
       "   'AttributeError': AttributeError,\n",
       "   'BaseException': BaseException,\n",
       "   'BlockingIOError': BlockingIOError,\n",
       "   'BrokenPipeError': BrokenPipeError,\n",
       "   'BufferError': BufferError,\n",
       "   'BytesWarning': BytesWarning,\n",
       "   'ChildProcessError': ChildProcessError,\n",
       "   'ConnectionAbortedError': ConnectionAbortedError,\n",
       "   'ConnectionError': ConnectionError,\n",
       "   'ConnectionRefusedError': ConnectionRefusedError,\n",
       "   'ConnectionResetError': ConnectionResetError,\n",
       "   'DeprecationWarning': DeprecationWarning,\n",
       "   'EOFError': EOFError,\n",
       "   'Ellipsis': Ellipsis,\n",
       "   'EnvironmentError': OSError,\n",
       "   'Exception': Exception,\n",
       "   'False': False,\n",
       "   'FileExistsError': FileExistsError,\n",
       "   'FileNotFoundError': FileNotFoundError,\n",
       "   'FloatingPointError': FloatingPointError,\n",
       "   'FutureWarning': FutureWarning,\n",
       "   'GeneratorExit': GeneratorExit,\n",
       "   'IOError': OSError,\n",
       "   'ImportError': ImportError,\n",
       "   'ImportWarning': ImportWarning,\n",
       "   'IndentationError': IndentationError,\n",
       "   'IndexError': IndexError,\n",
       "   'InterruptedError': InterruptedError,\n",
       "   'IsADirectoryError': IsADirectoryError,\n",
       "   'KeyError': KeyError,\n",
       "   'KeyboardInterrupt': KeyboardInterrupt,\n",
       "   'LookupError': LookupError,\n",
       "   'MemoryError': MemoryError,\n",
       "   'ModuleNotFoundError': ModuleNotFoundError,\n",
       "   'NameError': NameError,\n",
       "   'None': None,\n",
       "   'NotADirectoryError': NotADirectoryError,\n",
       "   'NotImplemented': NotImplemented,\n",
       "   'NotImplementedError': NotImplementedError,\n",
       "   'OSError': OSError,\n",
       "   'OverflowError': OverflowError,\n",
       "   'PendingDeprecationWarning': PendingDeprecationWarning,\n",
       "   'PermissionError': PermissionError,\n",
       "   'ProcessLookupError': ProcessLookupError,\n",
       "   'RecursionError': RecursionError,\n",
       "   'ReferenceError': ReferenceError,\n",
       "   'ResourceWarning': ResourceWarning,\n",
       "   'RuntimeError': RuntimeError,\n",
       "   'RuntimeWarning': RuntimeWarning,\n",
       "   'StopAsyncIteration': StopAsyncIteration,\n",
       "   'StopIteration': StopIteration,\n",
       "   'SyntaxError': SyntaxError,\n",
       "   'SyntaxWarning': SyntaxWarning,\n",
       "   'SystemError': SystemError,\n",
       "   'SystemExit': SystemExit,\n",
       "   'TabError': TabError,\n",
       "   'TimeoutError': TimeoutError,\n",
       "   'True': True,\n",
       "   'TypeError': TypeError,\n",
       "   'UnboundLocalError': UnboundLocalError,\n",
       "   'UnicodeDecodeError': UnicodeDecodeError,\n",
       "   'UnicodeEncodeError': UnicodeEncodeError,\n",
       "   'UnicodeError': UnicodeError,\n",
       "   'UnicodeTranslateError': UnicodeTranslateError,\n",
       "   'UnicodeWarning': UnicodeWarning,\n",
       "   'UserWarning': UserWarning,\n",
       "   'ValueError': ValueError,\n",
       "   'Warning': Warning,\n",
       "   'WindowsError': OSError,\n",
       "   'ZeroDivisionError': ZeroDivisionError,\n",
       "   '__IPYTHON__': True,\n",
       "   '__build_class__': <function __build_class__>,\n",
       "   '__debug__': True,\n",
       "   '__doc__': \"Built-in functions, exceptions, and other objects.\\n\\nNoteworthy: None is the `nil' object; Ellipsis represents `...' in slices.\",\n",
       "   '__import__': <function __import__>,\n",
       "   '__loader__': _frozen_importlib.BuiltinImporter,\n",
       "   '__name__': 'builtins',\n",
       "   '__package__': '',\n",
       "   '__spec__': ModuleSpec(name='builtins', loader=<class '_frozen_importlib.BuiltinImporter'>),\n",
       "   'abs': <function abs>,\n",
       "   'all': <function all>,\n",
       "   'any': <function any>,\n",
       "   'ascii': <function ascii>,\n",
       "   'bin': <function bin>,\n",
       "   'bool': bool,\n",
       "   'bytearray': bytearray,\n",
       "   'bytes': bytes,\n",
       "   'callable': <function callable>,\n",
       "   'chr': <function chr>,\n",
       "   'classmethod': classmethod,\n",
       "   'compile': <function compile>,\n",
       "   'complex': complex,\n",
       "   'copyright': Copyright (c) 2001-2017 Python Software Foundation.\n",
       "   All Rights Reserved.\n",
       "   \n",
       "   Copyright (c) 2000 BeOpen.com.\n",
       "   All Rights Reserved.\n",
       "   \n",
       "   Copyright (c) 1995-2001 Corporation for National Research Initiatives.\n",
       "   All Rights Reserved.\n",
       "   \n",
       "   Copyright (c) 1991-1995 Stichting Mathematisch Centrum, Amsterdam.\n",
       "   All Rights Reserved.,\n",
       "   'credits':     Thanks to CWI, CNRI, BeOpen.com, Zope Corporation and a cast of thousands\n",
       "       for supporting Python development.  See www.python.org for more information.,\n",
       "   'delattr': <function delattr>,\n",
       "   'dict': dict,\n",
       "   'dir': <function dir>,\n",
       "   'divmod': <function divmod>,\n",
       "   'dreload': <function IPython.lib.deepreload._dreload>,\n",
       "   'enumerate': enumerate,\n",
       "   'eval': <function eval>,\n",
       "   'exec': <function exec>,\n",
       "   'filter': filter,\n",
       "   'float': float,\n",
       "   'format': <function format>,\n",
       "   'frozenset': frozenset,\n",
       "   'get_ipython': <bound method InteractiveShell.get_ipython of <ipykernel.zmqshell.ZMQInteractiveShell object at 0x0000027C14C07C88>>,\n",
       "   'getattr': <function getattr>,\n",
       "   'globals': <function globals>,\n",
       "   'hasattr': <function hasattr>,\n",
       "   'hash': <function hash>,\n",
       "   'help': Type help() for interactive help, or help(object) for help about object.,\n",
       "   'hex': <function hex>,\n",
       "   'id': <function id>,\n",
       "   'input': <bound method Kernel.raw_input of <ipykernel.ipkernel.IPythonKernel object at 0x0000027C14C07BA8>>,\n",
       "   'int': int,\n",
       "   'isinstance': <function isinstance>,\n",
       "   'issubclass': <function issubclass>,\n",
       "   'iter': <function iter>,\n",
       "   'len': <function len>,\n",
       "   'license': See https://www.python.org/psf/license/,\n",
       "   'list': list,\n",
       "   'locals': <function locals>,\n",
       "   'map': map,\n",
       "   'max': <function max>,\n",
       "   'memoryview': memoryview,\n",
       "   'min': <function min>,\n",
       "   'next': <function next>,\n",
       "   'object': object,\n",
       "   'oct': <function oct>,\n",
       "   'open': <function io.open>,\n",
       "   'ord': <function ord>,\n",
       "   'pow': <function pow>,\n",
       "   'print': <function print>,\n",
       "   'property': property,\n",
       "   'range': range,\n",
       "   'repr': <function repr>,\n",
       "   'reversed': reversed,\n",
       "   'round': <function round>,\n",
       "   'set': set,\n",
       "   'setattr': <function setattr>,\n",
       "   'slice': slice,\n",
       "   'sorted': <function sorted>,\n",
       "   'staticmethod': staticmethod,\n",
       "   'str': str,\n",
       "   'sum': <function sum>,\n",
       "   'super': super,\n",
       "   'tuple': tuple,\n",
       "   'type': type,\n",
       "   'vars': <function vars>,\n",
       "   'zip': zip}),\n",
       " ('__cached__',\n",
       "  'd:\\\\Programming\\\\bujo_poc\\\\proof-of-concepts\\\\src\\\\__pycache__\\\\DataLoader.cpython-36.pyc'),\n",
       " ('__doc__', None),\n",
       " ('__file__',\n",
       "  'd:\\\\Programming\\\\bujo_poc\\\\proof-of-concepts\\\\src\\\\DataLoader.py'),\n",
       " ('__loader__',\n",
       "  <_frozen_importlib_external.SourceFileLoader at 0x27c1614dcc0>),\n",
       " ('__name__', 'DataLoader'),\n",
       " ('__package__', ''),\n",
       " ('__spec__',\n",
       "  ModuleSpec(name='DataLoader', loader=<_frozen_importlib_external.SourceFileLoader object at 0x0000027C1614DCC0>, origin='d:\\\\Programming\\\\bujo_poc\\\\proof-of-concepts\\\\src\\\\DataLoader.py')),\n",
       " ('cv2',\n",
       "  <module 'cv2.cv2' from 'c:\\\\anaconda3\\\\lib\\\\site-packages\\\\cv2\\\\cv2.cp36-win_amd64.pyd'>),\n",
       " ('division', _Feature((2, 2, 0, 'alpha', 2), (3, 0, 0, 'alpha', 0), 8192)),\n",
       " ('np',\n",
       "  <module 'numpy' from 'c:\\\\anaconda3\\\\lib\\\\site-packages\\\\numpy\\\\__init__.py'>),\n",
       " ('os', <module 'os' from 'c:\\\\anaconda3\\\\lib\\\\os.py'>),\n",
       " ('preprocess', <function SamplePreprocessor.preprocess>),\n",
       " ('print_function',\n",
       "  _Feature((2, 6, 0, 'alpha', 2), (3, 0, 0, 'alpha', 0), 65536)),\n",
       " ('random', <module 'random' from 'c:\\\\anaconda3\\\\lib\\\\random.py'>)]"
      ]
     },
     "execution_count": 106,
     "metadata": {},
     "output_type": "execute_result"
    }
   ],
   "source": [
    "inspect.getmembers(dl)"
   ]
  },
  {
   "cell_type": "markdown",
   "metadata": {},
   "source": [
    "# DataLoader\n",
    "## Class **Batch**\n",
    "**Constructor signature**: Batch(self, gtTexts, imgs)\n",
    "**Hierarchy**: Batch -> object\n",
    "### Description\n",
    "batch containing images and ground truth texts\n",
    "### Function **getIteratorInfo**\n",
    "**Signature**: getIteratorInfo(self)\n",
    "#### description:\n",
    "current batch index and overall number of batches\n",
    "### Function **getNext**\n",
    "**Signature**: getNext(self)\n",
    "#### description:\n",
    "iterator\n",
    "### Function **hasNext**\n",
    "**Signature**: hasNext(self)\n",
    "#### description:\n",
    "iterator\n",
    "### Function **trainSet**\n",
    "**Signature**: trainSet(self)\n",
    "#### description:\n",
    "switch to randomly chosen subset of training set\n",
    "### Function **truncateLabel**\n",
    "**Signature**: truncateLabel(self, text, maxTextLen)\n",
    "### Function **validationSet**\n",
    "**Signature**: validationSet(self)\n",
    "#### description:\n",
    "switch to validation set\n",
    "## Class **DataLoader**\n",
    "**Constructor signature**: DataLoader(self, filePath, batchSize, imgSize, maxTextLen, charset=None)\n",
    "**Hierarchy**: DataLoader -> object\n",
    "### Description\n",
    "loads data which corresponds to IAM format, see: http://www.fki.inf.unibe.ch/databases/iam-handwriting-database\n",
    "### Function **getIteratorInfo**\n",
    "**Signature**: getIteratorInfo(self)\n",
    "#### description:\n",
    "current batch index and overall number of batches\n",
    "### Function **getNext**\n",
    "**Signature**: getNext(self)\n",
    "#### description:\n",
    "iterator\n",
    "### Function **hasNext**\n",
    "**Signature**: hasNext(self)\n",
    "#### description:\n",
    "iterator\n",
    "### Function **trainSet**\n",
    "**Signature**: trainSet(self)\n",
    "#### description:\n",
    "switch to randomly chosen subset of training set\n",
    "### Function **truncateLabel**\n",
    "**Signature**: truncateLabel(self, text, maxTextLen)\n",
    "### Function **validationSet**\n",
    "**Signature**: validationSet(self)\n",
    "#### description:\n",
    "switch to validation set\n",
    "## Class **Sample**\n",
    "**Constructor signature**: Sample(self, gtText, filePath)\n",
    "**Hierarchy**: Sample -> object\n",
    "### Description\n",
    "sample from the dataset\n",
    "### Function **getIteratorInfo**\n",
    "**Signature**: getIteratorInfo(self)\n",
    "#### description:\n",
    "current batch index and overall number of batches\n",
    "### Function **getNext**\n",
    "**Signature**: getNext(self)\n",
    "#### description:\n",
    "iterator\n",
    "### Function **hasNext**\n",
    "**Signature**: hasNext(self)\n",
    "#### description:\n",
    "iterator\n",
    "### Function **trainSet**\n",
    "**Signature**: trainSet(self)\n",
    "#### description:\n",
    "switch to randomly chosen subset of training set\n",
    "### Function **truncateLabel**\n",
    "**Signature**: truncateLabel(self, text, maxTextLen)\n",
    "### Function **validationSet**\n",
    "**Signature**: validationSet(self)\n",
    "#### description:\n",
    "switch to validation set\n",
    "## Function **preprocess**\n",
    "**Signature**: preprocess(img, imgSize, dataAugmentation=False)\n",
    "### description:\n",
    "put img into target img of size imgSize, transpose for TF and normalize gray-values"
   ]
  },
  {
   "cell_type": "code",
   "execution_count": 99,
   "metadata": {},
   "outputs": [],
   "source": [
    "tmp2 = inspect.getmembers(dl)[1][1]"
   ]
  },
  {
   "cell_type": "code",
   "execution_count": 101,
   "metadata": {},
   "outputs": [
    {
     "data": {
      "text/plain": [
       "''"
      ]
     },
     "execution_count": 101,
     "metadata": {},
     "output_type": "execute_result"
    }
   ],
   "source": [
    "' -> '.join([x for x in inspect.getmro(tmp2) if x not in (tmp2, object)])"
   ]
  },
  {
   "cell_type": "code",
   "execution_count": 107,
   "metadata": {},
   "outputs": [],
   "source": [
    "tmp4 = [x for x in inspect.getmembers(tmp2) if x[0][:2] != '__']"
   ]
  },
  {
   "cell_type": "code",
   "execution_count": 111,
   "metadata": {},
   "outputs": [],
   "source": [
    "tmp5 = tmp4[0][1]"
   ]
  },
  {
   "cell_type": "code",
   "execution_count": 114,
   "metadata": {},
   "outputs": [
    {
     "ename": "AttributeError",
     "evalue": "'function' object has no attribute '__mro__'",
     "output_type": "error",
     "traceback": [
      "\u001b[1;31m---------------------------------------------------------------------------\u001b[0m",
      "\u001b[1;31mAttributeError\u001b[0m                            Traceback (most recent call last)",
      "\u001b[1;32m<ipython-input-114-c60aa6479b81>\u001b[0m in \u001b[0;36m<module>\u001b[1;34m()\u001b[0m\n\u001b[1;32m----> 1\u001b[1;33m \u001b[0minspect\u001b[0m\u001b[1;33m.\u001b[0m\u001b[0mgetmro\u001b[0m\u001b[1;33m(\u001b[0m\u001b[0mtmp5\u001b[0m\u001b[1;33m)\u001b[0m\u001b[1;33m\u001b[0m\u001b[0m\n\u001b[0m",
      "\u001b[1;32mc:\\anaconda3\\lib\\inspect.py\u001b[0m in \u001b[0;36mgetmro\u001b[1;34m(cls)\u001b[0m\n\u001b[0;32m    452\u001b[0m \u001b[1;32mdef\u001b[0m \u001b[0mgetmro\u001b[0m\u001b[1;33m(\u001b[0m\u001b[0mcls\u001b[0m\u001b[1;33m)\u001b[0m\u001b[1;33m:\u001b[0m\u001b[1;33m\u001b[0m\u001b[0m\n\u001b[0;32m    453\u001b[0m     \u001b[1;34m\"Return tuple of base classes (including cls) in method resolution order.\"\u001b[0m\u001b[1;33m\u001b[0m\u001b[0m\n\u001b[1;32m--> 454\u001b[1;33m     \u001b[1;32mreturn\u001b[0m \u001b[0mcls\u001b[0m\u001b[1;33m.\u001b[0m\u001b[0m__mro__\u001b[0m\u001b[1;33m\u001b[0m\u001b[0m\n\u001b[0m\u001b[0;32m    455\u001b[0m \u001b[1;33m\u001b[0m\u001b[0m\n\u001b[0;32m    456\u001b[0m \u001b[1;31m# -------------------------------------------------------- function helpers\u001b[0m\u001b[1;33m\u001b[0m\u001b[1;33m\u001b[0m\u001b[0m\n",
      "\u001b[1;31mAttributeError\u001b[0m: 'function' object has no attribute '__mro__'"
     ]
    }
   ],
   "source": [
    "inspect.getmro(tmp5)"
   ]
  },
  {
   "cell_type": "code",
   "execution_count": 117,
   "metadata": {},
   "outputs": [
    {
     "data": {
      "text/plain": [
       "'DataLoader'"
      ]
     },
     "execution_count": 117,
     "metadata": {},
     "output_type": "execute_result"
    }
   ],
   "source": [
    "tmp5.__qualname__.split('.')[0]"
   ]
  },
  {
   "cell_type": "code",
   "execution_count": null,
   "metadata": {},
   "outputs": [],
   "source": []
  }
 ],
 "metadata": {
  "kernelspec": {
   "display_name": "Python 3",
   "language": "python",
   "name": "python3"
  },
  "language_info": {
   "codemirror_mode": {
    "name": "ipython",
    "version": 3
   },
   "file_extension": ".py",
   "mimetype": "text/x-python",
   "name": "python",
   "nbconvert_exporter": "python",
   "pygments_lexer": "ipython3",
   "version": "3.6.1"
  }
 },
 "nbformat": 4,
 "nbformat_minor": 2
}
