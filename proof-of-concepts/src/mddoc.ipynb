{
 "cells": [
  {
   "cell_type": "code",
   "execution_count": 9,
   "metadata": {},
   "outputs": [],
   "source": [
    "import sys, inspect\n",
    "import filters as flt"
   ]
  },
  {
   "cell_type": "code",
   "execution_count": 11,
   "metadata": {},
   "outputs": [
    {
     "name": "stdout",
     "output_type": "stream",
     "text": [
      "__builtins__ <class 'dict'>\n",
      "__cached__ <class 'str'>\n",
      "__doc__ <class 'NoneType'>\n",
      "__file__ <class 'str'>\n",
      "__loader__ <class '_frozen_importlib_external.SourceFileLoader'>\n",
      "__name__ <class 'str'>\n",
      "__package__ <class 'str'>\n",
      "__spec__ <class '_frozen_importlib.ModuleSpec'>\n",
      "local_maxima_v <class 'function'>\n",
      "np <class 'module'>\n",
      "rolling_percentile_2d <class 'function'>\n",
      "stddev <class 'function'>\n",
      "variance_percentile_h <class 'function'>\n",
      "variance_percentile_v <class 'function'>\n"
     ]
    }
   ],
   "source": [
    "for (name, obj) in inspect.getmembers(flt):\n",
    "    print(name, type(obj))"
   ]
  },
  {
   "cell_type": "code",
   "execution_count": 7,
   "metadata": {},
   "outputs": [
    {
     "data": {
      "text/plain": [
       "<module 'filters' from 'd:\\\\Programming\\\\bujo_poc\\\\proof-of-concepts\\\\src\\\\filters.py'>"
      ]
     },
     "execution_count": 7,
     "metadata": {},
     "output_type": "execute_result"
    }
   ],
   "source": [
    "flt"
   ]
  },
  {
   "cell_type": "code",
   "execution_count": null,
   "metadata": {},
   "outputs": [],
   "source": []
  }
 ],
 "metadata": {
  "kernelspec": {
   "display_name": "Python 3",
   "language": "python",
   "name": "python3"
  },
  "language_info": {
   "codemirror_mode": {
    "name": "ipython",
    "version": 3
   },
   "file_extension": ".py",
   "mimetype": "text/x-python",
   "name": "python",
   "nbconvert_exporter": "python",
   "pygments_lexer": "ipython3",
   "version": "3.6.1"
  }
 },
 "nbformat": 4,
 "nbformat_minor": 2
}
